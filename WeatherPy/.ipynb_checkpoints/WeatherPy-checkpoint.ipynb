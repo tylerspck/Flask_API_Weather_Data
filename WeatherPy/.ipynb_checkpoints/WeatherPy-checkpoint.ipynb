{
 "cells": [
  {
   "cell_type": "markdown",
   "metadata": {},
   "source": [
    "# WeatherPy\n",
    "----\n",
    "\n",
    "#### Note\n",
    "* Instructions have been included for each segment. You do not have to follow them exactly, but they are included to help you think through the steps."
   ]
  },
  {
   "cell_type": "code",
   "execution_count": 1,
   "metadata": {
    "scrolled": true
   },
   "outputs": [],
   "source": [
    "# Dependencies and Setup\n",
    "import matplotlib.pyplot as plt\n",
    "import pandas as pd\n",
    "import numpy as np\n",
    "import requests\n",
    "import time\n",
    "from scipy.stats import linregress\n",
    "from datetime import date\n",
    "\n",
    "\n",
    "# Import API key\n",
    "from api_keys import weather_api_key\n",
    "\n",
    "# Incorporated citipy to determine city based on latitude and longitude\n",
    "from citipy import citipy\n",
    "\n",
    "# Output File (CSV)\n",
    "output_data_file = \"output_data/cities.csv\"\n",
    "\n",
    "# Range of latitudes and longitudes\n",
    "lat_range = (-90, 90)\n",
    "lng_range = (-180, 180)\n",
    "\n",
    "today = date.today()\n"
   ]
  },
  {
   "cell_type": "markdown",
   "metadata": {},
   "source": [
    "## Generate Cities List"
   ]
  },
  {
   "cell_type": "code",
   "execution_count": 2,
   "metadata": {},
   "outputs": [
    {
     "data": {
      "text/plain": [
       "633"
      ]
     },
     "execution_count": 2,
     "metadata": {},
     "output_type": "execute_result"
    }
   ],
   "source": [
    "# List for holding lat_lngs and cities\n",
    "lat_lngs = []\n",
    "cities = []\n",
    "\n",
    "# Create a set of random lat and lng combinations\n",
    "lats = np.random.uniform(lat_range[0], lat_range[1], size=1500)\n",
    "lngs = np.random.uniform(lng_range[0], lng_range[1], size=1500)\n",
    "lat_lngs = zip(lats, lngs)\n",
    "\n",
    "# Identify nearest city for each lat, lng combination\n",
    "for lat_lng in lat_lngs:\n",
    "    city = citipy.nearest_city(lat_lng[0], lat_lng[1]).city_name\n",
    "    \n",
    "    # If the city is unique, then add it to a our cities list\n",
    "    if city not in cities:\n",
    "        cities.append(city)\n",
    "\n",
    "# Print the city count to confirm sufficient count\n",
    "len(cities)\n"
   ]
  },
  {
   "cell_type": "markdown",
   "metadata": {},
   "source": [
    "### Perform API Calls\n",
    "* Perform a weather check on each city using a series of successive API calls.\n",
    "* Include a print log of each city as it'sbeing processed (with the city number and city name).\n"
   ]
  },
  {
   "cell_type": "code",
   "execution_count": 3,
   "metadata": {},
   "outputs": [
    {
     "name": "stdout",
     "output_type": "stream",
     "text": [
      "vardo found and info added\n",
      "albany found and info added\n",
      "geraldton found and info added\n",
      "east london found and info added\n",
      "nishihara found and info added\n",
      "tsihombe: was not found, skipping....\n",
      "cockburn town found and info added\n",
      "ribeira grande found and info added\n",
      "caconda found and info added\n",
      "waipawa found and info added\n",
      "ponta do sol found and info added\n",
      "hobart found and info added\n",
      "carnarvon found and info added\n",
      "illoqqortoormiut: was not found, skipping....\n",
      "ponta delgada found and info added\n",
      "dikson found and info added\n",
      "buala found and info added\n",
      "tasiilaq found and info added\n",
      "rikitea found and info added\n",
      "rio grande found and info added\n",
      "hermanus found and info added\n",
      "saskylakh found and info added\n",
      "ushuaia found and info added\n",
      "sobolevo found and info added\n",
      "yellowknife found and info added\n",
      "dubbo found and info added\n",
      "pangai found and info added\n",
      "saint-philippe found and info added\n",
      "cukai found and info added\n",
      "nome found and info added\n",
      "sao filipe found and info added\n",
      "busselton found and info added\n",
      "karamay: was not found, skipping....\n",
      "jamestown found and info added\n",
      "zaysan found and info added\n",
      "egvekinot found and info added\n",
      "fort saint james found and info added\n",
      "vaini found and info added\n",
      "plattling found and info added\n",
      "khatanga found and info added\n",
      "cape town found and info added\n",
      "puerto ayora found and info added\n",
      "rawson found and info added\n",
      "omboue found and info added\n",
      "mancio lima found and info added\n",
      "kapaa found and info added\n",
      "malm found and info added\n",
      "castlemaine found and info added\n",
      "norman wells found and info added\n",
      "mamlyutka found and info added\n",
      "sept-iles found and info added\n",
      "esperance found and info added\n",
      "ipameri found and info added\n",
      "hithadhoo found and info added\n",
      "atuona found and info added\n",
      "calatayud found and info added\n",
      "bar harbor found and info added\n",
      "port alfred found and info added\n",
      "dusetos found and info added\n",
      "taolanaro: was not found, skipping....\n",
      "kidal found and info added\n",
      "talnakh found and info added\n",
      "calvinia found and info added\n",
      "ballina found and info added\n",
      "provideniya found and info added\n",
      "coxim found and info added\n",
      "coihueco found and info added\n",
      "bambous virieux found and info added\n",
      "ilulissat found and info added\n",
      "katherine found and info added\n",
      "cherskiy found and info added\n",
      "constitucion found and info added\n",
      "lima found and info added\n",
      "bluff found and info added\n",
      "barentsburg: was not found, skipping....\n",
      "butaritari found and info added\n",
      "guerrero negro found and info added\n",
      "mahebourg found and info added\n",
      "anadyr found and info added\n",
      "mataura found and info added\n",
      "sentyabrskiy: was not found, skipping....\n",
      "hilo found and info added\n",
      "evensk found and info added\n",
      "beringovskiy found and info added\n",
      "qaanaaq found and info added\n",
      "faanui found and info added\n",
      "avarua found and info added\n",
      "upernavik found and info added\n",
      "smolenka found and info added\n",
      "tysmenytsya found and info added\n",
      "ulaangom found and info added\n",
      "victoria found and info added\n",
      "nalut found and info added\n",
      "nisia floresta found and info added\n",
      "verkhoyansk found and info added\n",
      "kenora found and info added\n",
      "pangnirtung found and info added\n",
      "douentza found and info added\n",
      "miranorte: was not found, skipping....\n",
      "kruisfontein found and info added\n",
      "roebourne found and info added\n",
      "castro found and info added\n",
      "saint-augustin found and info added\n",
      "port hardy found and info added\n",
      "gobabis found and info added\n",
      "kualakapuas found and info added\n",
      "ruatoria: was not found, skipping....\n",
      "wewak found and info added\n",
      "miandrivazo found and info added\n",
      "kawalu found and info added\n",
      "venado tuerto found and info added\n",
      "longyearbyen found and info added\n",
      "new norfolk found and info added\n",
      "emba found and info added\n",
      "poum found and info added\n",
      "karauzyak: was not found, skipping....\n",
      "severo-kurilsk found and info added\n",
      "attawapiskat: was not found, skipping....\n",
      "port elizabeth found and info added\n",
      "katsina found and info added\n",
      "cooma found and info added\n",
      "lumberton found and info added\n",
      "barrow found and info added\n",
      "kashi found and info added\n",
      "takoradi found and info added\n",
      "ixtapa found and info added\n",
      "yulara found and info added\n",
      "phan rang: was not found, skipping....\n",
      "sao joao da barra found and info added\n",
      "comodoro rivadavia found and info added\n",
      "north bend found and info added\n",
      "sitka found and info added\n",
      "chuy found and info added\n",
      "aklavik found and info added\n",
      "bemidji found and info added\n",
      "nanortalik found and info added\n",
      "chittaurgarh found and info added\n",
      "grand river south east: was not found, skipping....\n",
      "punta arenas found and info added\n",
      "vasto found and info added\n",
      "garden city found and info added\n",
      "torbay found and info added\n",
      "xuddur found and info added\n",
      "dawlatabad found and info added\n",
      "hasaki found and info added\n",
      "lubango found and info added\n",
      "saldanha found and info added\n",
      "katsuura found and info added\n",
      "tessalit found and info added\n",
      "aljezur found and info added\n",
      "laguna found and info added\n",
      "flinders found and info added\n",
      "tuktoyaktuk found and info added\n",
      "saint george found and info added\n",
      "xichang found and info added\n",
      "margate found and info added\n",
      "opuwo found and info added\n",
      "beyneu found and info added\n",
      "toungoo: was not found, skipping....\n",
      "georgetown found and info added\n",
      "ruteng found and info added\n",
      "dongkan found and info added\n",
      "kodiak found and info added\n",
      "babanusah: was not found, skipping....\n",
      "sinnamary found and info added\n",
      "santa elena found and info added\n",
      "viedma found and info added\n",
      "buritizeiro found and info added\n",
      "linhares found and info added\n",
      "labuhan found and info added\n",
      "hami found and info added\n",
      "asmara found and info added\n",
      "mitsamiouli found and info added\n",
      "davila found and info added\n",
      "nadym found and info added\n",
      "belushya guba: was not found, skipping....\n",
      "iqaluit found and info added\n",
      "bulgan found and info added\n",
      "kisangani found and info added\n",
      "luwingu found and info added\n",
      "warah found and info added\n",
      "fairbanks found and info added\n",
      "lolua: was not found, skipping....\n",
      "dingle found and info added\n",
      "argelia found and info added\n",
      "bethel found and info added\n",
      "riyadh found and info added\n",
      "havre-saint-pierre found and info added\n",
      "kargat found and info added\n",
      "isangel found and info added\n",
      "mangit found and info added\n",
      "cabo san lucas found and info added\n",
      "casambalangan found and info added\n",
      "tiksi found and info added\n",
      "lebu found and info added\n",
      "prince rupert found and info added\n",
      "bengkulu found and info added\n",
      "lompoc found and info added\n",
      "kalat found and info added\n",
      "derbent found and info added\n",
      "palabuhanratu: was not found, skipping....\n",
      "saleaula: was not found, skipping....\n",
      "catuday found and info added\n",
      "grindavik found and info added\n",
      "burica: was not found, skipping....\n",
      "harnosand found and info added\n",
      "lazaro cardenas found and info added\n",
      "haines junction found and info added\n",
      "buqayq: was not found, skipping....\n",
      "khandagayty found and info added\n",
      "gillette found and info added\n",
      "labutta: was not found, skipping....\n",
      "vanavara found and info added\n",
      "yarke pole found and info added\n",
      "pitimbu found and info added\n",
      "mehamn found and info added\n",
      "salalah found and info added\n",
      "plettenberg bay found and info added\n",
      "klaksvik found and info added\n",
      "kusti found and info added\n",
      "udachnyy found and info added\n",
      "fortuna found and info added\n",
      "mount gambier found and info added\n",
      "coria found and info added\n",
      "domoni found and info added\n",
      "mancora found and info added\n",
      "tilichiki found and info added\n",
      "passos found and info added\n",
      "mustasaari found and info added\n",
      "bredasdorp found and info added\n",
      "puri found and info added\n",
      "kindia found and info added\n",
      "kjustendil found and info added\n",
      "rawah found and info added\n",
      "abu zabad found and info added\n",
      "gizo found and info added\n",
      "aksu found and info added\n",
      "saint-pierre found and info added\n",
      "vaitupu: was not found, skipping....\n",
      "dolbeau: was not found, skipping....\n",
      "melo found and info added\n",
      "kavieng found and info added\n",
      "meulaboh found and info added\n",
      "dmitriyevka found and info added\n",
      "mar del plata found and info added\n",
      "yantal found and info added\n",
      "maues found and info added\n",
      "dunda found and info added\n",
      "buckie found and info added\n",
      "palmer found and info added\n",
      "goundi found and info added\n",
      "broome found and info added\n",
      "chokurdakh found and info added\n",
      "dongsheng found and info added\n",
      "gurlan found and info added\n",
      "narsaq found and info added\n",
      "lagoa found and info added\n",
      "tumannyy: was not found, skipping....\n",
      "vestmannaeyjar found and info added\n",
      "keti bandar found and info added\n",
      "namwala found and info added\n",
      "solnechnyy found and info added\n",
      "kasane found and info added\n",
      "hidalgo found and info added\n"
     ]
    },
    {
     "name": "stdout",
     "output_type": "stream",
     "text": [
      "makarov found and info added\n",
      "beidao found and info added\n",
      "uthal found and info added\n",
      "maceio found and info added\n",
      "williston found and info added\n",
      "srikakulam found and info added\n",
      "namatanai found and info added\n",
      "bandarbeyla found and info added\n",
      "dosso found and info added\n",
      "aguililla found and info added\n",
      "arraial do cabo found and info added\n",
      "taoudenni found and info added\n",
      "korla found and info added\n",
      "patti found and info added\n",
      "paamiut found and info added\n",
      "leningradskiy found and info added\n",
      "burnie found and info added\n",
      "mina found and info added\n",
      "weligama found and info added\n",
      "tepic found and info added\n",
      "moose factory found and info added\n",
      "sungairaya found and info added\n",
      "sisimiut found and info added\n",
      "portel found and info added\n",
      "talara found and info added\n",
      "pemangkat found and info added\n",
      "santa cruz found and info added\n",
      "lanzhou found and info added\n",
      "nizhneyansk: was not found, skipping....\n",
      "puke found and info added\n",
      "la union found and info added\n",
      "makat found and info added\n",
      "yarmouth found and info added\n",
      "harper found and info added\n",
      "iquique found and info added\n",
      "paris found and info added\n",
      "camacha found and info added\n",
      "the pas found and info added\n",
      "dasoguz found and info added\n",
      "te anau found and info added\n",
      "estelle found and info added\n",
      "sakakah found and info added\n",
      "havoysund found and info added\n",
      "upington found and info added\n",
      "tautira found and info added\n",
      "yerbogachen found and info added\n",
      "farah found and info added\n",
      "karabash found and info added\n",
      "ulety found and info added\n",
      "nara found and info added\n",
      "morondava found and info added\n",
      "pevek found and info added\n",
      "mandalgovi found and info added\n",
      "along found and info added\n",
      "manjacaze found and info added\n",
      "mazamari found and info added\n",
      "srednekolymsk found and info added\n",
      "nikolskoye found and info added\n",
      "kaeo found and info added\n",
      "umzimvubu: was not found, skipping....\n",
      "soc trang found and info added\n",
      "reefton: was not found, skipping....\n",
      "jumla found and info added\n",
      "phonhong found and info added\n",
      "thompson found and info added\n",
      "hamilton found and info added\n",
      "nchelenge found and info added\n",
      "marsh harbour found and info added\n",
      "bhind found and info added\n",
      "novopskov found and info added\n",
      "airai found and info added\n",
      "chimbote found and info added\n",
      "nicoya found and info added\n",
      "miri found and info added\n",
      "marcona: was not found, skipping....\n",
      "kahului found and info added\n",
      "dongying found and info added\n",
      "san quintin found and info added\n",
      "hovd found and info added\n",
      "sioux lookout found and info added\n",
      "visby found and info added\n",
      "amderma: was not found, skipping....\n",
      "cotonou found and info added\n",
      "tecoanapa found and info added\n",
      "hanyang found and info added\n",
      "ayagoz found and info added\n",
      "el alto found and info added\n",
      "turukhansk found and info added\n",
      "seredeyskiy found and info added\n",
      "jiamusi found and info added\n",
      "malpura found and info added\n",
      "angoram found and info added\n",
      "honningsvag found and info added\n",
      "mollendo found and info added\n",
      "naze found and info added\n",
      "nikologory found and info added\n",
      "mount isa found and info added\n",
      "coquimbo found and info added\n",
      "yar-sale found and info added\n",
      "tiarei found and info added\n",
      "basco found and info added\n",
      "olenino found and info added\n",
      "hohhot found and info added\n",
      "revelstoke found and info added\n",
      "antofagasta found and info added\n",
      "emmen found and info added\n",
      "baykit found and info added\n",
      "adrar found and info added\n",
      "saint augustine found and info added\n",
      "umm ruwabah: was not found, skipping....\n",
      "sorvag: was not found, skipping....\n",
      "san jose found and info added\n",
      "dekar found and info added\n",
      "bayangol found and info added\n",
      "ndele found and info added\n",
      "yining found and info added\n",
      "arrecife found and info added\n",
      "kedougou found and info added\n",
      "mys shmidta: was not found, skipping....\n",
      "shaunavon found and info added\n",
      "opobo: was not found, skipping....\n",
      "muros found and info added\n",
      "fort nelson found and info added\n",
      "boma found and info added\n",
      "kosh-agach found and info added\n",
      "gap found and info added\n",
      "corinto found and info added\n",
      "daru found and info added\n",
      "goure found and info added\n",
      "voh found and info added\n",
      "husavik found and info added\n",
      "nizwa found and info added\n",
      "merauke found and info added\n",
      "port moresby found and info added\n",
      "nagykallo found and info added\n",
      "urdzhar: was not found, skipping....\n",
      "sakaraha found and info added\n",
      "pacific grove found and info added\n",
      "dalvik found and info added\n",
      "samagaltay found and info added\n",
      "mackenzie found and info added\n",
      "ostrovnoy found and info added\n",
      "guadalupe found and info added\n",
      "monforte de lemos found and info added\n",
      "turka found and info added\n",
      "shelburne found and info added\n",
      "la ronge found and info added\n",
      "ugoofaaru found and info added\n",
      "macia found and info added\n",
      "turtkul: was not found, skipping....\n",
      "abu dhabi found and info added\n",
      "verkh-usugli found and info added\n",
      "gander found and info added\n",
      "turbat found and info added\n",
      "kijang found and info added\n",
      "ostersund found and info added\n",
      "durres found and info added\n",
      "one hundred mile house: was not found, skipping....\n",
      "vaitape found and info added\n",
      "kamenskoye: was not found, skipping....\n",
      "lyubim found and info added\n",
      "bardiyah found and info added\n",
      "valdivia found and info added\n",
      "tygda found and info added\n",
      "rabo de peixe found and info added\n",
      "abaza found and info added\n",
      "myaundzha found and info added\n",
      "bathsheba found and info added\n",
      "san patricio found and info added\n",
      "port keats found and info added\n",
      "wokha found and info added\n",
      "santa rosa found and info added\n",
      "barahona found and info added\n",
      "lahaina found and info added\n",
      "igarka found and info added\n",
      "reconquista found and info added\n",
      "north port found and info added\n",
      "papantla: was not found, skipping....\n",
      "hobyo found and info added\n",
      "kavaratti found and info added\n",
      "ardakan found and info added\n",
      "wellington found and info added\n",
      "cidreira found and info added\n",
      "berlevag found and info added\n",
      "matagami found and info added\n",
      "barbar: was not found, skipping....\n",
      "taldan found and info added\n",
      "salinas found and info added\n",
      "ngunguru found and info added\n",
      "malakal found and info added\n",
      "yanam found and info added\n",
      "ewa beach found and info added\n",
      "lao cai found and info added\n",
      "gagret found and info added\n",
      "riohacha found and info added\n",
      "clyde river found and info added\n",
      "hutchinson found and info added\n",
      "mulanje found and info added\n",
      "zamora found and info added\n",
      "punta cardon found and info added\n",
      "the valley found and info added\n",
      "jam sahib found and info added\n",
      "fevik found and info added\n",
      "dipkarpaz: was not found, skipping....\n",
      "dauphin found and info added\n",
      "kadrina found and info added\n",
      "bowmore found and info added\n",
      "grand centre: was not found, skipping....\n",
      "valdemarpils found and info added\n",
      "caronport found and info added\n",
      "tenabo found and info added\n",
      "zhanaozen found and info added\n",
      "kerewan found and info added\n",
      "la rioja found and info added\n",
      "longyan found and info added\n",
      "wells found and info added\n",
      "ortakoy found and info added\n",
      "ginir found and info added\n",
      "kortkeros found and info added\n",
      "minggang found and info added\n",
      "bria found and info added\n",
      "hameenlinna found and info added\n",
      "mudbidri found and info added\n",
      "erenhot found and info added\n",
      "mingaora found and info added\n",
      "solton found and info added\n",
      "souillac found and info added\n",
      "sidhauli found and info added\n",
      "hope found and info added\n",
      "ancud found and info added\n",
      "tiznit found and info added\n",
      "ayan found and info added\n",
      "chumikan found and info added\n",
      "luderitz found and info added\n",
      "grand gaube found and info added\n",
      "lavrentiya found and info added\n",
      "almeirim found and info added\n",
      "christchurch found and info added\n",
      "ruza found and info added\n",
      "alofi found and info added\n",
      "triunfo found and info added\n",
      "mahon found and info added\n",
      "bowen found and info added\n",
      "sao paulo de olivenca found and info added\n",
      "maniitsoq found and info added\n",
      "ravar found and info added\n",
      "vila velha found and info added\n",
      "codrington found and info added\n",
      "wajid found and info added\n",
      "olinda found and info added\n",
      "boende found and info added\n",
      "gumla found and info added\n",
      "taut found and info added\n",
      "ucluelet found and info added\n",
      "brindisi found and info added\n",
      "asau found and info added\n",
      "walvis bay found and info added\n",
      "buraydah found and info added\n",
      "sur found and info added\n",
      "iranduba found and info added\n",
      "tommot found and info added\n",
      "warqla: was not found, skipping....\n",
      "terrace found and info added\n",
      "kikwit found and info added\n",
      "dusnok found and info added\n",
      "tarko-sale found and info added\n",
      "hihifo: was not found, skipping....\n",
      "mataram found and info added\n",
      "ossora found and info added\n",
      "igrim found and info added\n",
      "asayita: was not found, skipping....\n"
     ]
    },
    {
     "name": "stdout",
     "output_type": "stream",
     "text": [
      "flin flon found and info added\n",
      "banda aceh found and info added\n",
      "niono found and info added\n",
      "itarema found and info added\n",
      "pingzhuang found and info added\n",
      "manadhoo found and info added\n",
      "petropavlovsk-kamchatskiy found and info added\n",
      "buin found and info added\n",
      "kropotkin found and info added\n",
      "rolim de moura: was not found, skipping....\n",
      "kaitangata found and info added\n",
      "santhia found and info added\n",
      "qiqihar found and info added\n",
      "gashua found and info added\n",
      "tuatapere found and info added\n",
      "jalu found and info added\n",
      "beysehir found and info added\n",
      "emerald found and info added\n",
      "gorno-chuyskiy: was not found, skipping....\n",
      "eldikan: was not found, skipping....\n",
      "shadrinsk found and info added\n",
      "taree found and info added\n",
      "great yarmouth found and info added\n",
      "biltine found and info added\n",
      "rafaela found and info added\n",
      "guymon found and info added\n",
      "nola found and info added\n",
      "shirokiy found and info added\n",
      "batticaloa found and info added\n",
      "isoka found and info added\n",
      "marystown found and info added\n",
      "champerico found and info added\n",
      "tocopilla found and info added\n",
      "cozumel found and info added\n",
      "bastia found and info added\n",
      "la asuncion found and info added\n",
      "joshimath found and info added\n",
      "canto do buriti found and info added\n",
      "madang found and info added\n",
      "touros found and info added\n",
      "gat found and info added\n",
      "cheney found and info added\n",
      "tura found and info added\n",
      "nileshwar found and info added\n",
      "kuche: was not found, skipping....\n",
      "carutapera found and info added\n",
      "birin found and info added\n",
      "dudinka found and info added\n",
      "abu samrah found and info added\n",
      "belaya gora found and info added\n",
      "neuquen found and info added\n",
      "port-gentil found and info added\n",
      "gamba found and info added\n",
      "marsaxlokk found and info added\n",
      "sambava found and info added\n",
      "tateyama found and info added\n",
      "tazovskiy found and info added\n",
      "celestun found and info added\n",
      "boksburg found and info added\n",
      "broken hill found and info added\n",
      "corinth found and info added\n",
      "taunggyi found and info added\n",
      "beauly found and info added\n",
      "barmer found and info added\n",
      "boly found and info added\n",
      "cedar city found and info added\n",
      "bud found and info added\n",
      "pisco found and info added\n",
      "nortelandia found and info added\n",
      "sri aman found and info added\n",
      "oistins found and info added\n",
      "kangaba found and info added\n",
      "teahupoo found and info added\n",
      "mandal found and info added\n",
      "milyutinskaya found and info added\n",
      "havelock found and info added\n",
      "port macquarie found and info added\n",
      "kajaani found and info added\n",
      "viligili: was not found, skipping....\n",
      "rongcheng found and info added\n",
      "half moon bay found and info added\n",
      "charlestown found and info added\n",
      "atar found and info added\n",
      "khagaria found and info added\n",
      "pratapgarh found and info added\n",
      "manokwari found and info added\n",
      "chegutu found and info added\n",
      "zhigansk found and info added\n",
      "luganville found and info added\n",
      "san andres found and info added\n",
      "pangody found and info added\n",
      "xining found and info added\n",
      "cabedelo found and info added\n",
      "jurm found and info added\n",
      "yenangyaung found and info added\n",
      "praya found and info added\n",
      "byron bay found and info added\n",
      "juneau found and info added\n"
     ]
    }
   ],
   "source": [
    "#set unit for API output\n",
    "unit = 'imperial'\n",
    "#set url for API search\n",
    "url = f\"http://api.openweathermap.org/data/2.5/weather?appid={weather_api_key}&units={unit}&q=\"\n",
    "#create empty lists for API data to be stored\n",
    "temperature =[]\n",
    "humidity = []\n",
    "cloudiness = []\n",
    "windspeed = []\n",
    "lat = []\n",
    "lon = []\n",
    "foundcities = []\n",
    "country =[]\n",
    "date =[]\n",
    "#run API search loop for cities list\n",
    "for city in cities:\n",
    "    weathercheck = requests.get(url+city).json()\n",
    "#setting up exeptions and appending to lists  \n",
    "    try:\n",
    "        foundcities.append(weathercheck[\"name\"])\n",
    "        temperature.append(weathercheck[\"main\"][\"temp_max\"])\n",
    "        humidity.append(weathercheck[\"main\"][\"humidity\"])\n",
    "        cloudiness.append(weathercheck[\"clouds\"][\"all\"])\n",
    "        windspeed.append(weathercheck[\"wind\"][\"speed\"])\n",
    "        lat.append(weathercheck[\"coord\"][\"lat\"])\n",
    "        lon.append(weathercheck[\"coord\"][\"lon\"])\n",
    "        country.append(weathercheck[\"sys\"][\"country\"])\n",
    "        date.append(weathercheck[\"dt\"])\n",
    "        print(f'{city} found and info added')\n",
    "    except:\n",
    "        print(f'{city}: was not found, skipping....')\n",
    "        pass\n",
    "\n"
   ]
  },
  {
   "cell_type": "markdown",
   "metadata": {},
   "source": [
    "### Convert Raw Data to DataFrame\n",
    "* Export the city data into a .csv.\n",
    "* Display the DataFrame"
   ]
  },
  {
   "cell_type": "code",
   "execution_count": 4,
   "metadata": {},
   "outputs": [],
   "source": [
    "#creating DataFrame from Lists created from APIs\n",
    "CityWeather_df = pd.DataFrame({\"City\": foundcities,\n",
    "                               \"Country\": country,\n",
    "                                \"Temperature\": temperature,\n",
    "                                \"Humidity\": humidity,\n",
    "                                \"Cloudiness\": cloudiness,\n",
    "                                \"Windspeed\":windspeed,\n",
    "                                \"Date\": date,\n",
    "                                \"Longitude\": lon,\n",
    "                                \"Latitude\": lat\n",
    "                               }\n",
    "                             )"
   ]
  },
  {
   "cell_type": "code",
   "execution_count": 5,
   "metadata": {},
   "outputs": [
    {
     "data": {
      "text/html": [
       "<div>\n",
       "<style scoped>\n",
       "    .dataframe tbody tr th:only-of-type {\n",
       "        vertical-align: middle;\n",
       "    }\n",
       "\n",
       "    .dataframe tbody tr th {\n",
       "        vertical-align: top;\n",
       "    }\n",
       "\n",
       "    .dataframe thead th {\n",
       "        text-align: right;\n",
       "    }\n",
       "</style>\n",
       "<table border=\"1\" class=\"dataframe\">\n",
       "  <thead>\n",
       "    <tr style=\"text-align: right;\">\n",
       "      <th></th>\n",
       "      <th>City</th>\n",
       "      <th>Country</th>\n",
       "      <th>Temperature</th>\n",
       "      <th>Humidity</th>\n",
       "      <th>Cloudiness</th>\n",
       "      <th>Windspeed</th>\n",
       "      <th>Date</th>\n",
       "      <th>Longitude</th>\n",
       "      <th>Latitude</th>\n",
       "    </tr>\n",
       "  </thead>\n",
       "  <tbody>\n",
       "    <tr>\n",
       "      <th>0</th>\n",
       "      <td>Vardø</td>\n",
       "      <td>NO</td>\n",
       "      <td>48.20</td>\n",
       "      <td>66</td>\n",
       "      <td>51</td>\n",
       "      <td>12.75</td>\n",
       "      <td>1592919475</td>\n",
       "      <td>31.11</td>\n",
       "      <td>70.37</td>\n",
       "    </tr>\n",
       "    <tr>\n",
       "      <th>1</th>\n",
       "      <td>Albany</td>\n",
       "      <td>US</td>\n",
       "      <td>81.00</td>\n",
       "      <td>63</td>\n",
       "      <td>58</td>\n",
       "      <td>7.58</td>\n",
       "      <td>1592919303</td>\n",
       "      <td>-73.97</td>\n",
       "      <td>42.60</td>\n",
       "    </tr>\n",
       "    <tr>\n",
       "      <th>2</th>\n",
       "      <td>Geraldton</td>\n",
       "      <td>AU</td>\n",
       "      <td>59.00</td>\n",
       "      <td>82</td>\n",
       "      <td>90</td>\n",
       "      <td>5.82</td>\n",
       "      <td>1592919480</td>\n",
       "      <td>114.60</td>\n",
       "      <td>-28.77</td>\n",
       "    </tr>\n",
       "    <tr>\n",
       "      <th>3</th>\n",
       "      <td>East London</td>\n",
       "      <td>ZA</td>\n",
       "      <td>80.60</td>\n",
       "      <td>24</td>\n",
       "      <td>0</td>\n",
       "      <td>5.82</td>\n",
       "      <td>1592919480</td>\n",
       "      <td>27.91</td>\n",
       "      <td>-33.02</td>\n",
       "    </tr>\n",
       "    <tr>\n",
       "      <th>4</th>\n",
       "      <td>Nishihara</td>\n",
       "      <td>JP</td>\n",
       "      <td>82.40</td>\n",
       "      <td>94</td>\n",
       "      <td>40</td>\n",
       "      <td>4.85</td>\n",
       "      <td>1592919481</td>\n",
       "      <td>127.76</td>\n",
       "      <td>26.18</td>\n",
       "    </tr>\n",
       "    <tr>\n",
       "      <th>...</th>\n",
       "      <td>...</td>\n",
       "      <td>...</td>\n",
       "      <td>...</td>\n",
       "      <td>...</td>\n",
       "      <td>...</td>\n",
       "      <td>...</td>\n",
       "      <td>...</td>\n",
       "      <td>...</td>\n",
       "      <td>...</td>\n",
       "    </tr>\n",
       "    <tr>\n",
       "      <th>579</th>\n",
       "      <td>Jurm</td>\n",
       "      <td>AF</td>\n",
       "      <td>78.40</td>\n",
       "      <td>28</td>\n",
       "      <td>62</td>\n",
       "      <td>0.87</td>\n",
       "      <td>1592919602</td>\n",
       "      <td>70.83</td>\n",
       "      <td>36.86</td>\n",
       "    </tr>\n",
       "    <tr>\n",
       "      <th>580</th>\n",
       "      <td>Yenangyaung</td>\n",
       "      <td>MM</td>\n",
       "      <td>88.52</td>\n",
       "      <td>61</td>\n",
       "      <td>17</td>\n",
       "      <td>12.26</td>\n",
       "      <td>1592919602</td>\n",
       "      <td>94.88</td>\n",
       "      <td>20.47</td>\n",
       "    </tr>\n",
       "    <tr>\n",
       "      <th>581</th>\n",
       "      <td>Praia</td>\n",
       "      <td>CV</td>\n",
       "      <td>86.00</td>\n",
       "      <td>51</td>\n",
       "      <td>0</td>\n",
       "      <td>21.92</td>\n",
       "      <td>1592919602</td>\n",
       "      <td>-23.51</td>\n",
       "      <td>14.92</td>\n",
       "    </tr>\n",
       "    <tr>\n",
       "      <th>582</th>\n",
       "      <td>Byron Bay</td>\n",
       "      <td>AU</td>\n",
       "      <td>52.00</td>\n",
       "      <td>62</td>\n",
       "      <td>0</td>\n",
       "      <td>12.75</td>\n",
       "      <td>1592919603</td>\n",
       "      <td>153.62</td>\n",
       "      <td>-28.65</td>\n",
       "    </tr>\n",
       "    <tr>\n",
       "      <th>583</th>\n",
       "      <td>Juneau</td>\n",
       "      <td>US</td>\n",
       "      <td>52.00</td>\n",
       "      <td>93</td>\n",
       "      <td>75</td>\n",
       "      <td>3.36</td>\n",
       "      <td>1592919305</td>\n",
       "      <td>-134.42</td>\n",
       "      <td>58.30</td>\n",
       "    </tr>\n",
       "  </tbody>\n",
       "</table>\n",
       "<p>584 rows × 9 columns</p>\n",
       "</div>"
      ],
      "text/plain": [
       "            City Country  Temperature  Humidity  Cloudiness  Windspeed  \\\n",
       "0          Vardø      NO        48.20        66          51      12.75   \n",
       "1         Albany      US        81.00        63          58       7.58   \n",
       "2      Geraldton      AU        59.00        82          90       5.82   \n",
       "3    East London      ZA        80.60        24           0       5.82   \n",
       "4      Nishihara      JP        82.40        94          40       4.85   \n",
       "..           ...     ...          ...       ...         ...        ...   \n",
       "579         Jurm      AF        78.40        28          62       0.87   \n",
       "580  Yenangyaung      MM        88.52        61          17      12.26   \n",
       "581        Praia      CV        86.00        51           0      21.92   \n",
       "582    Byron Bay      AU        52.00        62           0      12.75   \n",
       "583       Juneau      US        52.00        93          75       3.36   \n",
       "\n",
       "           Date  Longitude  Latitude  \n",
       "0    1592919475      31.11     70.37  \n",
       "1    1592919303     -73.97     42.60  \n",
       "2    1592919480     114.60    -28.77  \n",
       "3    1592919480      27.91    -33.02  \n",
       "4    1592919481     127.76     26.18  \n",
       "..          ...        ...       ...  \n",
       "579  1592919602      70.83     36.86  \n",
       "580  1592919602      94.88     20.47  \n",
       "581  1592919602     -23.51     14.92  \n",
       "582  1592919603     153.62    -28.65  \n",
       "583  1592919305    -134.42     58.30  \n",
       "\n",
       "[584 rows x 9 columns]"
      ]
     },
     "execution_count": 5,
     "metadata": {},
     "output_type": "execute_result"
    }
   ],
   "source": [
    "#display new dataFrame\n",
    "CityWeather_df"
   ]
  },
  {
   "cell_type": "markdown",
   "metadata": {},
   "source": [
    "## Inspect the data and remove the cities where the humidity > 100%.\n",
    "----\n",
    "Skip this step if there are no cities that have humidity > 100%. "
   ]
  },
  {
   "cell_type": "code",
   "execution_count": 6,
   "metadata": {},
   "outputs": [],
   "source": [
    "#Filtering out cities that have humidities that are not feasable.\n",
    "toohumid = CityWeather_df.loc[CityWeather_df['Humidity'] > 100]\n",
    "CityWeather_df=CityWeather_df.loc[CityWeather_df['Humidity']<=100]"
   ]
  },
  {
   "cell_type": "code",
   "execution_count": 7,
   "metadata": {},
   "outputs": [
    {
     "name": "stdout",
     "output_type": "stream",
     "text": [
      "There are 0 entries with humidity over 100%\n"
     ]
    }
   ],
   "source": [
    "#  Get the indices of cities that have humidity over 100%.\n",
    "print(f'There are {len(toohumid)} entries with humidity over 100%')"
   ]
  },
  {
   "cell_type": "code",
   "execution_count": 8,
   "metadata": {},
   "outputs": [
    {
     "name": "stdout",
     "output_type": "stream",
     "text": [
      "City           584\n",
      "Country        584\n",
      "Temperature    584\n",
      "Humidity       584\n",
      "Cloudiness     584\n",
      "Windspeed      584\n",
      "Date           584\n",
      "Longitude      584\n",
      "Latitude       584\n",
      "dtype: int64\n"
     ]
    },
    {
     "data": {
      "text/html": [
       "<div>\n",
       "<style scoped>\n",
       "    .dataframe tbody tr th:only-of-type {\n",
       "        vertical-align: middle;\n",
       "    }\n",
       "\n",
       "    .dataframe tbody tr th {\n",
       "        vertical-align: top;\n",
       "    }\n",
       "\n",
       "    .dataframe thead th {\n",
       "        text-align: right;\n",
       "    }\n",
       "</style>\n",
       "<table border=\"1\" class=\"dataframe\">\n",
       "  <thead>\n",
       "    <tr style=\"text-align: right;\">\n",
       "      <th></th>\n",
       "      <th>Temperature</th>\n",
       "      <th>Humidity</th>\n",
       "      <th>Cloudiness</th>\n",
       "      <th>Windspeed</th>\n",
       "      <th>Date</th>\n",
       "      <th>Longitude</th>\n",
       "      <th>Latitude</th>\n",
       "    </tr>\n",
       "  </thead>\n",
       "  <tbody>\n",
       "    <tr>\n",
       "      <th>count</th>\n",
       "      <td>584.000000</td>\n",
       "      <td>584.000000</td>\n",
       "      <td>584.000000</td>\n",
       "      <td>584.000000</td>\n",
       "      <td>5.840000e+02</td>\n",
       "      <td>584.000000</td>\n",
       "      <td>584.000000</td>\n",
       "    </tr>\n",
       "    <tr>\n",
       "      <th>mean</th>\n",
       "      <td>71.093579</td>\n",
       "      <td>64.993151</td>\n",
       "      <td>45.883562</td>\n",
       "      <td>8.128682</td>\n",
       "      <td>1.592920e+09</td>\n",
       "      <td>18.217209</td>\n",
       "      <td>20.924195</td>\n",
       "    </tr>\n",
       "    <tr>\n",
       "      <th>std</th>\n",
       "      <td>16.023465</td>\n",
       "      <td>24.269145</td>\n",
       "      <td>38.314803</td>\n",
       "      <td>5.563842</td>\n",
       "      <td>7.259393e+01</td>\n",
       "      <td>90.251258</td>\n",
       "      <td>33.120530</td>\n",
       "    </tr>\n",
       "    <tr>\n",
       "      <th>min</th>\n",
       "      <td>31.150000</td>\n",
       "      <td>3.000000</td>\n",
       "      <td>0.000000</td>\n",
       "      <td>0.290000</td>\n",
       "      <td>1.592919e+09</td>\n",
       "      <td>-179.170000</td>\n",
       "      <td>-54.800000</td>\n",
       "    </tr>\n",
       "    <tr>\n",
       "      <th>25%</th>\n",
       "      <td>60.667500</td>\n",
       "      <td>49.000000</td>\n",
       "      <td>2.000000</td>\n",
       "      <td>3.960000</td>\n",
       "      <td>1.592919e+09</td>\n",
       "      <td>-62.227500</td>\n",
       "      <td>-7.402500</td>\n",
       "    </tr>\n",
       "    <tr>\n",
       "      <th>50%</th>\n",
       "      <td>73.400000</td>\n",
       "      <td>72.000000</td>\n",
       "      <td>40.000000</td>\n",
       "      <td>6.930000</td>\n",
       "      <td>1.592920e+09</td>\n",
       "      <td>23.915000</td>\n",
       "      <td>26.050000</td>\n",
       "    </tr>\n",
       "    <tr>\n",
       "      <th>75%</th>\n",
       "      <td>81.682500</td>\n",
       "      <td>83.000000</td>\n",
       "      <td>88.250000</td>\n",
       "      <td>11.147500</td>\n",
       "      <td>1.592920e+09</td>\n",
       "      <td>92.055000</td>\n",
       "      <td>48.862500</td>\n",
       "    </tr>\n",
       "    <tr>\n",
       "      <th>max</th>\n",
       "      <td>114.600000</td>\n",
       "      <td>100.000000</td>\n",
       "      <td>100.000000</td>\n",
       "      <td>48.320000</td>\n",
       "      <td>1.592920e+09</td>\n",
       "      <td>179.320000</td>\n",
       "      <td>78.220000</td>\n",
       "    </tr>\n",
       "  </tbody>\n",
       "</table>\n",
       "</div>"
      ],
      "text/plain": [
       "       Temperature    Humidity  Cloudiness   Windspeed          Date  \\\n",
       "count   584.000000  584.000000  584.000000  584.000000  5.840000e+02   \n",
       "mean     71.093579   64.993151   45.883562    8.128682  1.592920e+09   \n",
       "std      16.023465   24.269145   38.314803    5.563842  7.259393e+01   \n",
       "min      31.150000    3.000000    0.000000    0.290000  1.592919e+09   \n",
       "25%      60.667500   49.000000    2.000000    3.960000  1.592919e+09   \n",
       "50%      73.400000   72.000000   40.000000    6.930000  1.592920e+09   \n",
       "75%      81.682500   83.000000   88.250000   11.147500  1.592920e+09   \n",
       "max     114.600000  100.000000  100.000000   48.320000  1.592920e+09   \n",
       "\n",
       "        Longitude    Latitude  \n",
       "count  584.000000  584.000000  \n",
       "mean    18.217209   20.924195  \n",
       "std     90.251258   33.120530  \n",
       "min   -179.170000  -54.800000  \n",
       "25%    -62.227500   -7.402500  \n",
       "50%     23.915000   26.050000  \n",
       "75%     92.055000   48.862500  \n",
       "max    179.320000   78.220000  "
      ]
     },
     "execution_count": 8,
     "metadata": {},
     "output_type": "execute_result"
    }
   ],
   "source": [
    "#making sure all varables are equal and no missing data\n",
    "counts = CityWeather_df.count()\n",
    "countsinfo = CityWeather_df.describe()\n",
    "print(counts)\n",
    "countsinfo\n"
   ]
  },
  {
   "cell_type": "code",
   "execution_count": 9,
   "metadata": {},
   "outputs": [
    {
     "data": {
      "text/html": [
       "<div>\n",
       "<style scoped>\n",
       "    .dataframe tbody tr th:only-of-type {\n",
       "        vertical-align: middle;\n",
       "    }\n",
       "\n",
       "    .dataframe tbody tr th {\n",
       "        vertical-align: top;\n",
       "    }\n",
       "\n",
       "    .dataframe thead th {\n",
       "        text-align: right;\n",
       "    }\n",
       "</style>\n",
       "<table border=\"1\" class=\"dataframe\">\n",
       "  <thead>\n",
       "    <tr style=\"text-align: right;\">\n",
       "      <th></th>\n",
       "      <th>City</th>\n",
       "      <th>Latitude</th>\n",
       "      <th>Temperature</th>\n",
       "      <th>Humidity</th>\n",
       "      <th>Cloudiness</th>\n",
       "      <th>Windspeed</th>\n",
       "    </tr>\n",
       "  </thead>\n",
       "  <tbody>\n",
       "    <tr>\n",
       "      <th>0</th>\n",
       "      <td>Vardø</td>\n",
       "      <td>70.37</td>\n",
       "      <td>48.20</td>\n",
       "      <td>66</td>\n",
       "      <td>51</td>\n",
       "      <td>12.75</td>\n",
       "    </tr>\n",
       "    <tr>\n",
       "      <th>1</th>\n",
       "      <td>Albany</td>\n",
       "      <td>42.60</td>\n",
       "      <td>81.00</td>\n",
       "      <td>63</td>\n",
       "      <td>58</td>\n",
       "      <td>7.58</td>\n",
       "    </tr>\n",
       "    <tr>\n",
       "      <th>2</th>\n",
       "      <td>Geraldton</td>\n",
       "      <td>-28.77</td>\n",
       "      <td>59.00</td>\n",
       "      <td>82</td>\n",
       "      <td>90</td>\n",
       "      <td>5.82</td>\n",
       "    </tr>\n",
       "    <tr>\n",
       "      <th>3</th>\n",
       "      <td>East London</td>\n",
       "      <td>-33.02</td>\n",
       "      <td>80.60</td>\n",
       "      <td>24</td>\n",
       "      <td>0</td>\n",
       "      <td>5.82</td>\n",
       "    </tr>\n",
       "    <tr>\n",
       "      <th>4</th>\n",
       "      <td>Nishihara</td>\n",
       "      <td>26.18</td>\n",
       "      <td>82.40</td>\n",
       "      <td>94</td>\n",
       "      <td>40</td>\n",
       "      <td>4.85</td>\n",
       "    </tr>\n",
       "    <tr>\n",
       "      <th>5</th>\n",
       "      <td>Cockburn Town</td>\n",
       "      <td>21.46</td>\n",
       "      <td>84.20</td>\n",
       "      <td>79</td>\n",
       "      <td>40</td>\n",
       "      <td>11.41</td>\n",
       "    </tr>\n",
       "    <tr>\n",
       "      <th>6</th>\n",
       "      <td>Ribeira Grande</td>\n",
       "      <td>38.52</td>\n",
       "      <td>68.00</td>\n",
       "      <td>72</td>\n",
       "      <td>75</td>\n",
       "      <td>17.22</td>\n",
       "    </tr>\n",
       "    <tr>\n",
       "      <th>7</th>\n",
       "      <td>Caconda</td>\n",
       "      <td>-13.73</td>\n",
       "      <td>77.09</td>\n",
       "      <td>18</td>\n",
       "      <td>0</td>\n",
       "      <td>4.54</td>\n",
       "    </tr>\n",
       "    <tr>\n",
       "      <th>8</th>\n",
       "      <td>Waipawa</td>\n",
       "      <td>-41.41</td>\n",
       "      <td>48.20</td>\n",
       "      <td>87</td>\n",
       "      <td>2</td>\n",
       "      <td>8.05</td>\n",
       "    </tr>\n",
       "    <tr>\n",
       "      <th>9</th>\n",
       "      <td>Ponta do Sol</td>\n",
       "      <td>32.67</td>\n",
       "      <td>71.60</td>\n",
       "      <td>68</td>\n",
       "      <td>40</td>\n",
       "      <td>9.17</td>\n",
       "    </tr>\n",
       "    <tr>\n",
       "      <th>10</th>\n",
       "      <td>Hobart</td>\n",
       "      <td>-42.88</td>\n",
       "      <td>54.00</td>\n",
       "      <td>93</td>\n",
       "      <td>75</td>\n",
       "      <td>13.87</td>\n",
       "    </tr>\n",
       "    <tr>\n",
       "      <th>11</th>\n",
       "      <td>Carnarvon</td>\n",
       "      <td>-24.87</td>\n",
       "      <td>62.60</td>\n",
       "      <td>82</td>\n",
       "      <td>0</td>\n",
       "      <td>8.05</td>\n",
       "    </tr>\n",
       "    <tr>\n",
       "      <th>12</th>\n",
       "      <td>Ponta Delgada</td>\n",
       "      <td>37.73</td>\n",
       "      <td>66.20</td>\n",
       "      <td>93</td>\n",
       "      <td>75</td>\n",
       "      <td>17.22</td>\n",
       "    </tr>\n",
       "    <tr>\n",
       "      <th>13</th>\n",
       "      <td>Dikson</td>\n",
       "      <td>73.51</td>\n",
       "      <td>38.35</td>\n",
       "      <td>90</td>\n",
       "      <td>100</td>\n",
       "      <td>16.71</td>\n",
       "    </tr>\n",
       "    <tr>\n",
       "      <th>14</th>\n",
       "      <td>Buala</td>\n",
       "      <td>-8.14</td>\n",
       "      <td>80.83</td>\n",
       "      <td>75</td>\n",
       "      <td>62</td>\n",
       "      <td>5.41</td>\n",
       "    </tr>\n",
       "    <tr>\n",
       "      <th>15</th>\n",
       "      <td>Tasiilaq</td>\n",
       "      <td>65.61</td>\n",
       "      <td>46.40</td>\n",
       "      <td>65</td>\n",
       "      <td>75</td>\n",
       "      <td>4.70</td>\n",
       "    </tr>\n",
       "    <tr>\n",
       "      <th>16</th>\n",
       "      <td>Rikitea</td>\n",
       "      <td>-23.12</td>\n",
       "      <td>69.44</td>\n",
       "      <td>55</td>\n",
       "      <td>100</td>\n",
       "      <td>13.62</td>\n",
       "    </tr>\n",
       "    <tr>\n",
       "      <th>17</th>\n",
       "      <td>Rio Grande</td>\n",
       "      <td>-32.03</td>\n",
       "      <td>68.00</td>\n",
       "      <td>88</td>\n",
       "      <td>64</td>\n",
       "      <td>11.41</td>\n",
       "    </tr>\n",
       "    <tr>\n",
       "      <th>18</th>\n",
       "      <td>Hermanus</td>\n",
       "      <td>-34.42</td>\n",
       "      <td>70.00</td>\n",
       "      <td>55</td>\n",
       "      <td>2</td>\n",
       "      <td>1.01</td>\n",
       "    </tr>\n",
       "    <tr>\n",
       "      <th>19</th>\n",
       "      <td>Saskylakh</td>\n",
       "      <td>71.92</td>\n",
       "      <td>78.67</td>\n",
       "      <td>36</td>\n",
       "      <td>78</td>\n",
       "      <td>6.08</td>\n",
       "    </tr>\n",
       "  </tbody>\n",
       "</table>\n",
       "</div>"
      ],
      "text/plain": [
       "              City  Latitude  Temperature  Humidity  Cloudiness  Windspeed\n",
       "0            Vardø     70.37        48.20        66          51      12.75\n",
       "1           Albany     42.60        81.00        63          58       7.58\n",
       "2        Geraldton    -28.77        59.00        82          90       5.82\n",
       "3      East London    -33.02        80.60        24           0       5.82\n",
       "4        Nishihara     26.18        82.40        94          40       4.85\n",
       "5    Cockburn Town     21.46        84.20        79          40      11.41\n",
       "6   Ribeira Grande     38.52        68.00        72          75      17.22\n",
       "7          Caconda    -13.73        77.09        18           0       4.54\n",
       "8          Waipawa    -41.41        48.20        87           2       8.05\n",
       "9     Ponta do Sol     32.67        71.60        68          40       9.17\n",
       "10          Hobart    -42.88        54.00        93          75      13.87\n",
       "11       Carnarvon    -24.87        62.60        82           0       8.05\n",
       "12   Ponta Delgada     37.73        66.20        93          75      17.22\n",
       "13          Dikson     73.51        38.35        90         100      16.71\n",
       "14           Buala     -8.14        80.83        75          62       5.41\n",
       "15        Tasiilaq     65.61        46.40        65          75       4.70\n",
       "16         Rikitea    -23.12        69.44        55         100      13.62\n",
       "17      Rio Grande    -32.03        68.00        88          64      11.41\n",
       "18        Hermanus    -34.42        70.00        55           2       1.01\n",
       "19       Saskylakh     71.92        78.67        36          78       6.08"
      ]
     },
     "execution_count": 9,
     "metadata": {},
     "output_type": "execute_result"
    }
   ],
   "source": [
    "# Extract relevant fields from the data frame\n",
    "scatterplotdata = CityWeather_df[['City', 'Latitude', 'Temperature', 'Humidity', 'Cloudiness', 'Windspeed']]\n",
    "\n",
    "# Export the City_Data into a csv\n",
    "scatterplotdata.to_csv(r'/Users/specky3512/GitHub/python-API-challenge/output_data/DataforScatterplots.csv', index = False)\n",
    "\n",
    "scatterplotdata.head(20)"
   ]
  },
  {
   "cell_type": "markdown",
   "metadata": {},
   "source": [
    "## Plotting the Data\n",
    "* Use proper labeling of the plots using plot titles (including date of analysis) and axes labels.\n",
    "* Save the plotted figures as .pngs."
   ]
  },
  {
   "cell_type": "markdown",
   "metadata": {},
   "source": [
    "## Latitude vs. Temperature Plot"
   ]
  },
  {
   "cell_type": "code",
   "execution_count": 10,
   "metadata": {
    "scrolled": true
   },
   "outputs": [
    {
     "data": {
      "image/png": "[encoded data removed]",
      "text/plain": [
       "<Figure size 432x288 with 1 Axes>"
      ]
     },
     "metadata": {
      "needs_background": "light"
     },
     "output_type": "display_data"
    }
   ],
   "source": [
    "#creating x & y var\n",
    "#x var will be able to be used in all charts and will not have to be recreated\n",
    "x = scatterplotdata['Latitude']\n",
    "y1 = scatterplotdata['Temperature']\n",
    "#plotting scatter\n",
    "plt.scatter(x,y1)\n",
    "#adding labels & Title\n",
    "plt.xlabel('Latitude')\n",
    "plt.ylabel('Temperature(°F)')\n",
    "plt.title(f'Latitude vs. Temperature {today}')\n",
    "#adding Grid\n",
    "plt.grid()\n",
    "#saving figure\n",
    "plt.savefig(f'../output_data/Latitude vs. Temperature {today}.png')\n",
    "plt.show()\n"
   ]
  },
  {
   "cell_type": "markdown",
   "metadata": {},
   "source": [
    "## Latitude vs. Humidity Plot"
   ]
  },
  {
   "cell_type": "code",
   "execution_count": 11,
   "metadata": {},
   "outputs": [
    {
     "data": {
      "image/png": "[encoded data removed]",
      "text/plain": [
       "<Figure size 432x288 with 1 Axes>"
      ]
     },
     "metadata": {
      "needs_background": "light"
     },
     "output_type": "display_data"
    }
   ],
   "source": [
    "#create var for humidity\n",
    "y2 = scatterplotdata['Humidity']\n",
    "#plot scatter graph\n",
    "plt.scatter(x,y2)\n",
    "#adding titles/labels\n",
    "plt.xlabel('Latitude')\n",
    "plt.ylabel('Humidity (%)')\n",
    "plt.title(f'Latitude vs. Humidity {today}')\n",
    "plt.grid()\n",
    "#saving figure\n",
    "plt.savefig(f'../output_data/Latitude vs. Humidity {today}.png')\n",
    "plt.show()\n"
   ]
  },
  {
   "cell_type": "markdown",
   "metadata": {},
   "source": [
    "## Latitude vs. Cloudiness Plot"
   ]
  },
  {
   "cell_type": "code",
   "execution_count": 12,
   "metadata": {},
   "outputs": [
    {
     "data": {
      "image/png": "[encoded data removed]",
      "text/plain": [
       "<Figure size 432x288 with 1 Axes>"
      ]
     },
     "metadata": {
      "needs_background": "light"
     },
     "output_type": "display_data"
    }
   ],
   "source": [
    "#creating var for cloudiness\n",
    "y3 = scatterplotdata['Cloudiness']\n",
    "#plotting scatter\n",
    "plt.scatter(x,y3)\n",
    "#adding titels/labels\n",
    "plt.xlabel('Latitude')\n",
    "plt.ylabel('Cloudiness (%)')\n",
    "plt.title(f'Latitude vs. Cloudiness {today}')\n",
    "plt.grid()\n",
    "#saving figure\n",
    "plt.savefig(f'../output_data/Latitude vs. Cloudiness {today}.png')\n",
    "plt.show()"
   ]
  },
  {
   "cell_type": "markdown",
   "metadata": {},
   "source": [
    "## Latitude vs. Wind Speed Plot"
   ]
  },
  {
   "cell_type": "code",
   "execution_count": 13,
   "metadata": {},
   "outputs": [
    {
     "data": {
      "image/png": "[encoded data removed]",
      "text/plain": [
       "<Figure size 432x288 with 1 Axes>"
      ]
     },
     "metadata": {
      "needs_background": "light"
     },
     "output_type": "display_data"
    }
   ],
   "source": [
    "#creating var for windspeed\n",
    "y4 = scatterplotdata['Windspeed']\n",
    "#creating scatter plot\n",
    "plt.scatter(x,y4)\n",
    "#adding title/labesl\n",
    "plt.xlabel('Latitude')\n",
    "plt.ylabel('Wind Speed (MPH)')\n",
    "plt.title(f'Latitude vs. Wind Speed {today}')\n",
    "plt.grid()\n",
    "#saving figure\n",
    "plt.savefig(f'../output_data/Latitude vs. Wind Speed {today}.png')\n",
    "plt.show()"
   ]
  },
  {
   "cell_type": "markdown",
   "metadata": {},
   "source": [
    "## Linear Regression"
   ]
  },
  {
   "cell_type": "code",
   "execution_count": 14,
   "metadata": {},
   "outputs": [],
   "source": [
    "# Create a function to create Linear Regression plots. The function also takes in var for line equation placement on charts\n",
    "# a couple print statements to print the r-squre value and line equation and adding labels to charts that are going to be the same\n",
    "def linerarregress(x,y,a,b,c):\n",
    "    (slope, intercept, rvalue, pvalue, stderr)=linregress(x,y)\n",
    "    regress_values = x * slope + intercept\n",
    "    line_eq = 'y=' + str(round(slope,2)) +'x+' + str(round(intercept,2))\n",
    "    plt.scatter(x,y, color='blue')\n",
    "    plt.plot(x,regress_values,\"r-\")\n",
    "    print(f'The r-square is {rvalue}')\n",
    "    print(line_eq)\n",
    "    plt.annotate(line_eq,(a,b),fontsize=15, color='red')\n",
    "    plt.grid()\n",
    "    plt.xlabel('Latitude')\n",
    "    plt.ylabel(f'{c}')"
   ]
  },
  {
   "cell_type": "code",
   "execution_count": 15,
   "metadata": {},
   "outputs": [],
   "source": [
    "# Create Northern and Southern Hemisphere DataFrames\n",
    "Northern = scatterplotdata[scatterplotdata['Latitude'] >= 0]\n",
    "\n",
    "Southern = scatterplotdata[scatterplotdata['Latitude'] < 0]\n"
   ]
  },
  {
   "cell_type": "markdown",
   "metadata": {},
   "source": [
    "####  Northern Hemisphere - Max Temp vs. Latitude Linear Regression"
   ]
  },
  {
   "cell_type": "code",
   "execution_count": 16,
   "metadata": {},
   "outputs": [
    {
     "name": "stdout",
     "output_type": "stream",
     "text": [
      "The r-square is -0.6896625549086965\n",
      "y=-0.6x+96.25\n"
     ]
    },
    {
     "data": {
      "image/png": "[encoded data removed]",
      "text/plain": [
       "<Figure size 432x288 with 1 Axes>"
      ]
     },
     "metadata": {
      "needs_background": "light"
     },
     "output_type": "display_data"
    }
   ],
   "source": [
    "#setting x var for norther latitude point and setting y var\n",
    "x_north = Northern[\"Latitude\"]\n",
    "y_nTemp = Northern[\"Temperature\"]\n",
    "#making scatter plot\n",
    "plt.scatter(x_north,y_nTemp)\n",
    "#adding title\n",
    "plt.title(f'NorthernLat vs Temp {today}')\n",
    "#running linear regression function\n",
    "linerarregress(x_north,y_nTemp,15,40,\"Temperature(°F)\")\n",
    "#saving figure\n",
    "plt.savefig(f'../output_data/NorthernLat vs Temp {today}.png')\n",
    "plt.show()"
   ]
  },
  {
   "cell_type": "markdown",
   "metadata": {},
   "source": [
    "The linear regression for the Northern Hemisphere vs Temp shows that as you move further north(larger Latitude) from the equator, that the temperature is cooler"
   ]
  },
  {
   "cell_type": "markdown",
   "metadata": {},
   "source": [
    "####  Southern Hemisphere - Max Temp vs. Latitude Linear Regression"
   ]
  },
  {
   "cell_type": "code",
   "execution_count": 17,
   "metadata": {
    "scrolled": true
   },
   "outputs": [
    {
     "name": "stdout",
     "output_type": "stream",
     "text": [
      "The r-square is 0.777496699590993\n",
      "y=0.8x+84.85\n"
     ]
    },
    {
     "data": {
      "image/png": "[encoded data removed]",
      "text/plain": [
       "<Figure size 432x288 with 1 Axes>"
      ]
     },
     "metadata": {
      "needs_background": "light"
     },
     "output_type": "display_data"
    }
   ],
   "source": [
    "#setting x var for southern latitude point and setting y var\n",
    "x_south = Southern[\"Latitude\"]\n",
    "y_sTemp = Southern[\"Temperature\"]\n",
    "#creating scatter plot\n",
    "plt.scatter(x_south, y_sTemp)\n",
    "#adding title\n",
    "plt.title(f'SouthernLat vs Temp {today}')\n",
    "#calling linear regression fuction\n",
    "linerarregress(x_south, y_sTemp,-55,80,\"Temperature(°F)\")\n",
    "#saving figure\n",
    "plt.savefig(f'../output_data/SouthernLat vs Temp {today}.png')\n",
    "plt.show()"
   ]
  },
  {
   "cell_type": "markdown",
   "metadata": {},
   "source": [
    "In the above regression, you can see that the corralation is that as you move further south(more negitive Latitude) that the temperatures become cooler"
   ]
  },
  {
   "cell_type": "markdown",
   "metadata": {},
   "source": [
    "####  Northern Hemisphere - Humidity (%) vs. Latitude Linear Regression"
   ]
  },
  {
   "cell_type": "code",
   "execution_count": 18,
   "metadata": {},
   "outputs": [
    {
     "name": "stdout",
     "output_type": "stream",
     "text": [
      "The r-square is 0.06652611897665767\n",
      "y=0.09x+60.52\n"
     ]
    },
    {
     "data": {
      "image/png": "[encoded data removed]",
      "text/plain": [
       "<Figure size 432x288 with 1 Axes>"
      ]
     },
     "metadata": {
      "needs_background": "light"
     },
     "output_type": "display_data"
    }
   ],
   "source": [
    "#setting y var\n",
    "y_nHum = Northern[\"Humidity\"]\n",
    "#creating scatter plot\n",
    "plt.scatter(x_north, y_nHum)\n",
    "#adding title\n",
    "plt.title(f'NorthernLat vs Humidity {today}')\n",
    "#calling linear regression function\n",
    "linerarregress(x_north, y_nHum,0,10,'Humidity (%)')\n",
    "#saving figure\n",
    "plt.savefig(f'../output_data/NorthernLat vs Humidity {today}.png')\n",
    "plt.show()"
   ]
  },
  {
   "cell_type": "markdown",
   "metadata": {},
   "source": [
    "This regression show that there is no real corrilation between humidity and Latitude in this Norther Hempishere dataset. This shows that there is most likly a different factor that affects humitity. I belevie that you would have to look more into the longitude as well and the location of where the city is located to large bodies of water.  hence costal cities are cities in swampy areas will have higher humidity than cities located in dry areas."
   ]
  },
  {
   "cell_type": "markdown",
   "metadata": {},
   "source": [
    "####  Southern Hemisphere - Humidity (%) vs. Latitude Linear Regression"
   ]
  },
  {
   "cell_type": "code",
   "execution_count": 19,
   "metadata": {},
   "outputs": [
    {
     "name": "stdout",
     "output_type": "stream",
     "text": [
      "The r-square is -0.08127935530362392\n",
      "y=-0.13x+64.49\n"
     ]
    },
    {
     "data": {
      "image/png": "[encoded data removed]",
      "text/plain": [
       "<Figure size 432x288 with 1 Axes>"
      ]
     },
     "metadata": {
      "needs_background": "light"
     },
     "output_type": "display_data"
    }
   ],
   "source": [
    "#setting y var\n",
    "y_sHum=Southern[\"Humidity\"]\n",
    "#creating scatter plot\n",
    "plt.scatter(x_south,y_sHum)\n",
    "#adding title\n",
    "plt.title(f'SouthernLat vs Humidity {today}')\n",
    "#calling linear regression function\n",
    "linerarregress(x_south,y_sHum,-50,20,'Humidity (%)')\n",
    "#saving figure\n",
    "plt.savefig(f'../output_data/SouthernLat vs Humidity {today}.png')\n",
    "plt.show()\n"
   ]
  },
  {
   "cell_type": "markdown",
   "metadata": {},
   "source": [
    "This regression show that there is a slightly stronger corrilation between humidity and Latitude in the Southern Hemishere dataset. This could be due to where the cities that are being called are located.  It could also be due to the fact that there are less datapoint in the Southern Hemisphere data than the Norther Hemisphere data."
   ]
  },
  {
   "cell_type": "markdown",
   "metadata": {},
   "source": [
    "####  Northern Hemisphere - Cloudiness (%) vs. Latitude Linear Regression"
   ]
  },
  {
   "cell_type": "code",
   "execution_count": 20,
   "metadata": {
    "scrolled": true
   },
   "outputs": [
    {
     "name": "stdout",
     "output_type": "stream",
     "text": [
      "The r-square is -0.028980617385565028\n",
      "y=-0.06x+50.35\n"
     ]
    },
    {
     "data": {
      "image/png": "[encoded data removed]",
      "text/plain": [
       "<Figure size 432x288 with 1 Axes>"
      ]
     },
     "metadata": {
      "needs_background": "light"
     },
     "output_type": "display_data"
    }
   ],
   "source": [
    "#setting y var\n",
    "y_nClo = Northern[\"Cloudiness\"]\n",
    "#creating scatter plot\n",
    "plt.scatter(x_north,y_nClo)\n",
    "#adding title\n",
    "plt.title(f'NorthernLat vs Cloudiness {today}')\n",
    "#calling linear regression function\n",
    "linerarregress(x_north,y_nClo,5,60,\"Cloudiness (%)\")\n",
    "#saving figure\n",
    "plt.savefig(f'../output_data/NorthernLat vs Cloudiness {today}.png')\n",
    "plt.show()\n"
   ]
  },
  {
   "cell_type": "markdown",
   "metadata": {},
   "source": [
    "The regression of Northern Hemisphere cities vs Cloudiness has a weak corrilation.   The data is all over the place and the line of regression is almost flat."
   ]
  },
  {
   "cell_type": "markdown",
   "metadata": {},
   "source": [
    "####  Southern Hemisphere - Cloudiness (%) vs. Latitude Linear Regression"
   ]
  },
  {
   "cell_type": "code",
   "execution_count": 21,
   "metadata": {},
   "outputs": [
    {
     "name": "stdout",
     "output_type": "stream",
     "text": [
      "The r-square is 0.02026514699215763\n",
      "y=0.06x+42.18\n"
     ]
    },
    {
     "data": {
      "image/png": "[encoded data removed]",
      "text/plain": [
       "<Figure size 432x288 with 1 Axes>"
      ]
     },
     "metadata": {
      "needs_background": "light"
     },
     "output_type": "display_data"
    }
   ],
   "source": [
    "#setting y var\n",
    "y_sClo = Southern[\"Cloudiness\"]\n",
    "#creating scatter plot\n",
    "plt.scatter(x_south,y_sClo)\n",
    "#adding title\n",
    "plt.title(f'SouthernLat vs Cloudiness {today}')\n",
    "#calling linear regression function\n",
    "linerarregress(x_south,y_sClo,-55,60,\"Cloudiness (%)\")\n",
    "#saving figure\n",
    "plt.savefig(f'../output_data/SouthernLat vs Cloudiness {today}.png')\n",
    "plt.show()\n"
   ]
  },
  {
   "cell_type": "markdown",
   "metadata": {},
   "source": [
    "The Southern Hemisphere cities vs Cloudiness has a slightly stronger corrilation, but is still weak.\n",
    "It could also be due to the fact that there are less datapoint in the Southern Hemisphere data than the Norther Hemisphere data."
   ]
  },
  {
   "cell_type": "markdown",
   "metadata": {},
   "source": [
    "####  Northern Hemisphere - Wind Speed (mph) vs. Latitude Linear Regression"
   ]
  },
  {
   "cell_type": "code",
   "execution_count": 22,
   "metadata": {},
   "outputs": [
    {
     "name": "stdout",
     "output_type": "stream",
     "text": [
      "The r-square is -0.057394875508179226\n",
      "y=-0.02x+8.78\n"
     ]
    },
    {
     "data": {
      "image/png": "[encoded data removed]",
      "text/plain": [
       "<Figure size 432x288 with 1 Axes>"
      ]
     },
     "metadata": {
      "needs_background": "light"
     },
     "output_type": "display_data"
    }
   ],
   "source": [
    "#setting y var\n",
    "y_nWind= Northern[\"Windspeed\"]\n",
    "#creating scatter plot\n",
    "plt.scatter(x_north, y_nWind)\n",
    "#adding title\n",
    "plt.title(f'NorthernLat vs Wind Speed {today}')\n",
    "#calling linear regression function\n",
    "linerarregress(x_north, y_nWind,0,25, \"Wind Speed (mph)\")\n",
    "#saving figure\n",
    "plt.savefig(f'../output_data/NorthernLat vs WindSpeed {today}.png')\n",
    "plt.show()"
   ]
  },
  {
   "cell_type": "markdown",
   "metadata": {},
   "source": [
    "The regression of Northern Hemisphere cities vs WindSpeed has a weak corrilation.   The data is all over the place and the line of regression is almost flat.  You could look at the complete coordinete set and compare where the cities are located vs where the path of jet streams are located to see if that has a high effect on the wind speeds of the cities"
   ]
  },
  {
   "cell_type": "markdown",
   "metadata": {},
   "source": [
    "####  Southern Hemisphere - Wind Speed (mph) vs. Latitude Linear Regression"
   ]
  },
  {
   "cell_type": "code",
   "execution_count": 23,
   "metadata": {},
   "outputs": [
    {
     "name": "stdout",
     "output_type": "stream",
     "text": [
      "The r-square is 0.07688208102534823\n",
      "y=0.03x+8.81\n"
     ]
    },
    {
     "data": {
      "image/png": "[encoded data removed]",
      "text/plain": [
       "<Figure size 432x288 with 1 Axes>"
      ]
     },
     "metadata": {
      "needs_background": "light"
     },
     "output_type": "display_data"
    }
   ],
   "source": [
    "#setting y var\n",
    "y_sWind = Southern[\"Windspeed\"]\n",
    "#creating scatter plot\n",
    "plt.scatter(x_south, y_sWind)\n",
    "#adding title\n",
    "plt.title(f'SouthernLat vs Wind Speed {today}')\n",
    "#calling linear regression function\n",
    "linerarregress(x_south, y_sWind,-55,15,\"Wind Speed (mph)\")\n",
    "#saving figure\n",
    "plt.savefig(f'../output_data/SouthernLat vs Windspeed {today}.png')\n",
    "plt.show()"
   ]
  },
  {
   "cell_type": "markdown",
   "metadata": {},
   "source": [
    "\n",
    "The Southern Hemisphere cities vs Cloudiness has a slightly stronger corrilation, but is still weak.\n",
    "It could also be due to the fact that there are less datapoint in the Southern Hemisphere data than the Norther Hemisphere data."
   ]
  }
 ],
 "metadata": {
  "anaconda-cloud": {},
  "kernel_info": {
   "name": "python3"
  },
  "kernelspec": {
   "display_name": "Python 3",
   "language": "python",
   "name": "python3"
  },
  "language_info": {
   "codemirror_mode": {
    "name": "ipython",
    "version": 3
   },
   "file_extension": ".py",
   "mimetype": "text/x-python",
   "name": "python",
   "nbconvert_exporter": "python",
   "pygments_lexer": "ipython3",
   "version": "3.7.6"
  },
  "latex_envs": {
   "LaTeX_envs_menu_present": true,
   "autoclose": false,
   "autocomplete": true,
   "bibliofile": "biblio.bib",
   "cite_by": "apalike",
   "current_citInitial": 1,
   "eqLabelWithNumbers": true,
   "eqNumInitial": 1,
   "hotkeys": {
    "equation": "Ctrl-E",
    "itemize": "Ctrl-I"
   },
   "labels_anchors": false,
   "latex_user_defs": false,
   "report_style_numbering": false,
   "user_envs_cfg": false
  },
  "nteract": {
   "version": "0.12.3"
  }
 },
 "nbformat": 4,
 "nbformat_minor": 2
}
