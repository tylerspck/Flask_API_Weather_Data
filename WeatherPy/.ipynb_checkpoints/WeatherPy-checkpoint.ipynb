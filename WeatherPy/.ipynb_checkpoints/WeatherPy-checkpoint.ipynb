{
 "cells": [
  {
   "cell_type": "markdown",
   "metadata": {},
   "source": [
    "# WeatherPy\n",
    "----\n",
    "\n",
    "#### Note\n",
    "* Instructions have been included for each segment. You do not have to follow them exactly, but they are included to help you think through the steps."
   ]
  },
  {
   "cell_type": "code",
   "execution_count": 2,
   "metadata": {
    "scrolled": true
   },
   "outputs": [],
   "source": [
    "# Dependencies and Setup\n",
    "import matplotlib.pyplot as plt\n",
    "import pandas as pd\n",
    "import numpy as np\n",
    "import requests\n",
    "import time\n",
    "from scipy.stats import linregress\n",
    "\n",
    "# Import API key\n",
    "from api_keys import weather_api_key\n",
    "\n",
    "# Incorporated citipy to determine city based on latitude and longitude\n",
    "from citipy import citipy\n",
    "\n",
    "# Output File (CSV)\n",
    "output_data_file = \"output_data/cities.csv\"\n",
    "\n",
    "# Range of latitudes and longitudes\n",
    "lat_range = (-90, 90)\n",
    "lng_range = (-180, 180)\n",
    "\n"
   ]
  },
  {
   "cell_type": "markdown",
   "metadata": {},
   "source": [
    "## Generate Cities List"
   ]
  },
  {
   "cell_type": "code",
   "execution_count": 3,
   "metadata": {},
   "outputs": [
    {
     "data": {
      "text/plain": [
       "583"
      ]
     },
     "execution_count": 3,
     "metadata": {},
     "output_type": "execute_result"
    }
   ],
   "source": [
    "# List for holding lat_lngs and cities\n",
    "lat_lngs = []\n",
    "cities = []\n",
    "\n",
    "# Create a set of random lat and lng combinations\n",
    "lats = np.random.uniform(lat_range[0], lat_range[1], size=1500)\n",
    "lngs = np.random.uniform(lng_range[0], lng_range[1], size=1500)\n",
    "lat_lngs = zip(lats, lngs)\n",
    "\n",
    "# Identify nearest city for each lat, lng combination\n",
    "for lat_lng in lat_lngs:\n",
    "    city = citipy.nearest_city(lat_lng[0], lat_lng[1]).city_name\n",
    "    \n",
    "    # If the city is unique, then add it to a our cities list\n",
    "    if city not in cities:\n",
    "        cities.append(city)\n",
    "\n",
    "# Print the city count to confirm sufficient count\n",
    "len(cities)\n"
   ]
  },
  {
   "cell_type": "markdown",
   "metadata": {},
   "source": [
    "### Perform API Calls\n",
    "* Perform a weather check on each city using a series of successive API calls.\n",
    "* Include a print log of each city as it'sbeing processed (with the city number and city name).\n"
   ]
  },
  {
   "cell_type": "code",
   "execution_count": 12,
   "metadata": {},
   "outputs": [
    {
     "name": "stdout",
     "output_type": "stream",
     "text": [
      "puerto ayora found and info added\n",
      "vardo found and info added\n",
      "rikitea found and info added\n",
      "laguna found and info added\n",
      "namatanai found and info added\n",
      "mana found and info added\n",
      "busselton found and info added\n",
      "arraial do cabo found and info added\n",
      "albany found and info added\n",
      "port lincoln found and info added\n",
      "punta arenas found and info added\n",
      "kruisfontein found and info added\n",
      "samalaeulu: was not found, skipping....\n",
      "bluff found and info added\n",
      "barcelos found and info added\n",
      "chuy found and info added\n",
      "avarua found and info added\n",
      "caravelas found and info added\n",
      "hermanus found and info added\n",
      "yulara found and info added\n",
      "east london found and info added\n",
      "skibbereen found and info added\n",
      "san cristobal found and info added\n",
      "samusu: was not found, skipping....\n",
      "butaritari found and info added\n",
      "taolanaro: was not found, skipping....\n",
      "hilo found and info added\n",
      "lebu found and info added\n",
      "pisco found and info added\n",
      "jamestown found and info added\n",
      "elizabeth city found and info added\n",
      "new norfolk found and info added\n",
      "bandarbeyla found and info added\n",
      "leshukonskoye found and info added\n",
      "rio gallegos found and info added\n",
      "doha found and info added\n",
      "castro found and info added\n",
      "hobyo found and info added\n",
      "barentsburg: was not found, skipping....\n",
      "sabha found and info added\n",
      "khvatovka found and info added\n",
      "saskylakh found and info added\n",
      "concepcion del norte: was not found, skipping....\n",
      "ushuaia found and info added\n",
      "kumbo found and info added\n",
      "baker found and info added\n",
      "lavrentiya found and info added\n",
      "morondava found and info added\n",
      "amderma: was not found, skipping....\n",
      "cayenne found and info added\n",
      "torbay found and info added\n",
      "la asuncion found and info added\n",
      "piet retief found and info added\n",
      "cherskiy found and info added\n",
      "asau found and info added\n",
      "mahebourg found and info added\n",
      "yumen found and info added\n",
      "longyearbyen found and info added\n",
      "lorengau found and info added\n",
      "sao filipe found and info added\n",
      "port alfred found and info added\n",
      "narsaq found and info added\n",
      "bosanski samac found and info added\n",
      "cimitarra found and info added\n",
      "keningau found and info added\n",
      "saldanha found and info added\n",
      "lompoc found and info added\n",
      "bredasdorp found and info added\n",
      "kapaa found and info added\n",
      "ornes found and info added\n",
      "labuan found and info added\n",
      "chimbote found and info added\n",
      "qaanaaq found and info added\n",
      "jabalpur found and info added\n",
      "lata found and info added\n",
      "atuona found and info added\n",
      "nouadhibou found and info added\n",
      "ribeira grande found and info added\n",
      "vaini found and info added\n",
      "lasa found and info added\n",
      "vaitupu: was not found, skipping....\n",
      "fare found and info added\n",
      "san patricio found and info added\n",
      "mataura found and info added\n",
      "kalmunai found and info added\n",
      "ancud found and info added\n",
      "celina found and info added\n",
      "provideniya found and info added\n",
      "rungata: was not found, skipping....\n",
      "peniche found and info added\n",
      "mount gambier found and info added\n",
      "aktas found and info added\n",
      "utiroa: was not found, skipping....\n",
      "ponta do sol found and info added\n",
      "dauphin found and info added\n",
      "illoqqortoormiut: was not found, skipping....\n",
      "ponta delgada found and info added\n",
      "paracuru found and info added\n",
      "bluefield found and info added\n",
      "saint-philippe found and info added\n",
      "kulhudhuffushi found and info added\n",
      "naryan-mar found and info added\n",
      "beloha found and info added\n",
      "mashhad found and info added\n",
      "toliary: was not found, skipping....\n",
      "clinton found and info added\n",
      "srednekolymsk found and info added\n",
      "satellite beach found and info added\n",
      "hvide sande found and info added\n",
      "naze found and info added\n",
      "hambantota found and info added\n",
      "sitka found and info added\n",
      "taburi: was not found, skipping....\n",
      "padang found and info added\n",
      "dixon found and info added\n",
      "huarmey found and info added\n",
      "olafsvik found and info added\n",
      "halalo: was not found, skipping....\n",
      "shingu found and info added\n",
      "sur found and info added\n",
      "ames found and info added\n",
      "nome found and info added\n",
      "usa river found and info added\n",
      "uige found and info added\n",
      "idrinskoye found and info added\n",
      "maraba found and info added\n",
      "mar del plata found and info added\n",
      "raudeberg found and info added\n",
      "pacific grove found and info added\n",
      "najran found and info added\n",
      "mokrousovo found and info added\n",
      "georgetown found and info added\n",
      "port hardy found and info added\n",
      "khatanga found and info added\n",
      "hammerfest found and info added\n",
      "jitauna found and info added\n",
      "saint george found and info added\n",
      "conde found and info added\n",
      "cabo san lucas found and info added\n",
      "hobart found and info added\n",
      "vestmanna found and info added\n",
      "plettenberg bay found and info added\n",
      "tuktoyaktuk found and info added\n",
      "mantes-la-jolie found and info added\n",
      "bumba found and info added\n",
      "aitape found and info added\n",
      "upernavik found and info added\n",
      "vila franca do campo found and info added\n",
      "opobo: was not found, skipping....\n",
      "krasnoselkup found and info added\n",
      "mys shmidta: was not found, skipping....\n",
      "hithadhoo found and info added\n",
      "victor harbor found and info added\n",
      "satitoa: was not found, skipping....\n",
      "fort-shevchenko found and info added\n",
      "sardinia found and info added\n",
      "chaska found and info added\n",
      "harper found and info added\n",
      "porto torres found and info added\n",
      "armacao dos buzios: was not found, skipping....\n",
      "necochea found and info added\n",
      "leningradskiy found and info added\n",
      "shadegan found and info added\n",
      "rocha found and info added\n",
      "prince rupert found and info added\n",
      "cidreira found and info added\n",
      "barrow found and info added\n",
      "attawapiskat: was not found, skipping....\n",
      "tadine found and info added\n",
      "presidencia roque saenz pena found and info added\n",
      "kodiak found and info added\n",
      "rosarito found and info added\n",
      "ropczyce found and info added\n",
      "chokurdakh found and info added\n",
      "abadiania found and info added\n",
      "atar found and info added\n",
      "rio pomba found and info added\n",
      "jauja found and info added\n",
      "maarianhamina found and info added\n",
      "norman wells found and info added\n",
      "tsihombe: was not found, skipping....\n",
      "tanabe found and info added\n",
      "alofi found and info added\n",
      "talnakh found and info added\n",
      "jining found and info added\n",
      "tawnat: was not found, skipping....\n",
      "riyadh found and info added\n",
      "sao felix do xingu found and info added\n",
      "dalvik found and info added\n",
      "ji-parana: was not found, skipping....\n",
      "san andres found and info added\n",
      "isangel found and info added\n",
      "bengkulu found and info added\n",
      "saint-augustin found and info added\n",
      "souillac found and info added\n",
      "kathu found and info added\n",
      "fukue found and info added\n",
      "fria found and info added\n",
      "cape town found and info added\n",
      "lugovoy found and info added\n",
      "westport found and info added\n",
      "saint pete beach found and info added\n",
      "bethel found and info added\n",
      "verkhoyansk found and info added\n",
      "argalasti found and info added\n",
      "inderborskiy: was not found, skipping....\n",
      "severo-kurilsk found and info added\n",
      "chengde found and info added\n",
      "kavieng found and info added\n",
      "sujangarh found and info added\n",
      "punta alta found and info added\n",
      "belushya guba: was not found, skipping....\n",
      "aksarka found and info added\n",
      "mangaluru found and info added\n",
      "shaartuz: was not found, skipping....\n",
      "muli found and info added\n",
      "burgeo found and info added\n",
      "tuatapere found and info added\n",
      "udachnyy found and info added\n",
      "moron found and info added\n",
      "charters towers found and info added\n",
      "kenai found and info added\n",
      "grand river south east: was not found, skipping....\n",
      "lucapa found and info added\n",
      "inhambane found and info added\n",
      "paradise valley found and info added\n",
      "tasiilaq found and info added\n",
      "yellowknife found and info added\n",
      "nagapattinam found and info added\n",
      "victoria found and info added\n",
      "mount isa found and info added\n",
      "nakapiripirit found and info added\n",
      "la fria found and info added\n",
      "marcona: was not found, skipping....\n",
      "ilulissat found and info added\n",
      "geraldton found and info added\n",
      "nikolskoye found and info added\n",
      "esperance found and info added\n",
      "klaksvik found and info added\n",
      "barbar: was not found, skipping....\n",
      "weatherford found and info added\n",
      "veraval found and info added\n",
      "thompson found and info added\n",
      "merauke found and info added\n",
      "xuanhua found and info added\n",
      "los llanos de aridane found and info added\n",
      "dikson found and info added\n",
      "villa carlos paz found and info added\n",
      "mount pleasant found and info added\n",
      "bonavista found and info added\n",
      "tiksi found and info added\n",
      "marv dasht: was not found, skipping....\n",
      "zilupe found and info added\n",
      "sabratah found and info added\n",
      "vadlapudi found and info added\n",
      "agua dulce found and info added\n",
      "bilibino found and info added\n",
      "rancho san diego found and info added\n",
      "louisbourg: was not found, skipping....\n",
      "orbetello found and info added\n"
     ]
    },
    {
     "name": "stdout",
     "output_type": "stream",
     "text": [
      "paita found and info added\n",
      "port hedland found and info added\n",
      "fortuna found and info added\n",
      "grindavik found and info added\n",
      "conway found and info added\n",
      "beisfjord found and info added\n",
      "formoso do araguaia: was not found, skipping....\n",
      "catuday found and info added\n",
      "subaytilah: was not found, skipping....\n",
      "xiuyan found and info added\n",
      "cairns found and info added\n",
      "evensk found and info added\n",
      "albury found and info added\n",
      "beira found and info added\n",
      "port elizabeth found and info added\n",
      "mulege found and info added\n",
      "mitsamiouli found and info added\n",
      "wani found and info added\n",
      "beringovskiy found and info added\n",
      "kieta found and info added\n",
      "carnarvon found and info added\n",
      "silver city found and info added\n",
      "kontagora found and info added\n",
      "ulaanbaatar found and info added\n",
      "tual found and info added\n",
      "airai found and info added\n",
      "igarka found and info added\n",
      "ixtapa found and info added\n",
      "miri found and info added\n",
      "zhangye found and info added\n",
      "wangqing found and info added\n",
      "wilmington found and info added\n",
      "coahuayana found and info added\n",
      "codrington found and info added\n",
      "tessalit found and info added\n",
      "kytlym: was not found, skipping....\n",
      "luwuk found and info added\n",
      "itarema found and info added\n",
      "coroico found and info added\n",
      "san carlos de bariloche found and info added\n",
      "petropavlovsk-kamchatskiy found and info added\n",
      "morgan city found and info added\n",
      "mwene-ditu found and info added\n",
      "nang rong found and info added\n",
      "niwari found and info added\n",
      "keetmanshoop found and info added\n",
      "voh found and info added\n",
      "kavaratti found and info added\n",
      "ust-nera found and info added\n",
      "ayr found and info added\n",
      "poquoson found and info added\n",
      "karakendzha: was not found, skipping....\n",
      "moroni found and info added\n",
      "san vicente found and info added\n",
      "salalah found and info added\n",
      "ormara found and info added\n",
      "the valley found and info added\n",
      "wala found and info added\n",
      "hasaki found and info added\n",
      "panzhihua found and info added\n",
      "angoram found and info added\n",
      "harlingen found and info added\n",
      "priiskovyy found and info added\n",
      "kirya found and info added\n",
      "kerrobert found and info added\n",
      "te anau found and info added\n",
      "bay saint louis found and info added\n",
      "omigawa found and info added\n",
      "labutta: was not found, skipping....\n",
      "margate found and info added\n",
      "pevek found and info added\n",
      "meulaboh found and info added\n",
      "san quintin found and info added\n",
      "bambous virieux found and info added\n",
      "neiafu found and info added\n",
      "kaitangata found and info added\n",
      "makokou found and info added\n",
      "kamenskoye: was not found, skipping....\n",
      "miranda found and info added\n",
      "puksoozero found and info added\n",
      "mendi found and info added\n",
      "bjornevatn found and info added\n",
      "kaeo found and info added\n",
      "nanortalik found and info added\n",
      "rawah found and info added\n",
      "monte cristi: was not found, skipping....\n",
      "alice springs found and info added\n",
      "ciudad bolivar found and info added\n",
      "umzimvubu: was not found, skipping....\n",
      "ferkessedougou found and info added\n",
      "urumqi found and info added\n",
      "broome found and info added\n",
      "bathsheba found and info added\n",
      "taos found and info added\n",
      "misratah found and info added\n",
      "aktash found and info added\n",
      "karratha found and info added\n",
      "palmer found and info added\n",
      "paradwip: was not found, skipping....\n",
      "tyret pervaya found and info added\n",
      "axim found and info added\n",
      "contamana found and info added\n",
      "lichinga found and info added\n",
      "klyuchi found and info added\n",
      "mozarlandia found and info added\n",
      "lagoa found and info added\n",
      "salta found and info added\n",
      "xiashi found and info added\n",
      "oriximina found and info added\n",
      "jalingo found and info added\n",
      "zhitikara: was not found, skipping....\n",
      "yerbogachen found and info added\n",
      "taboga found and info added\n",
      "rawson found and info added\n",
      "ostrovnoy found and info added\n",
      "bolshegrivskoye: was not found, skipping....\n",
      "portachuelo found and info added\n",
      "mehamn found and info added\n",
      "vaitape found and info added\n",
      "okulovka found and info added\n",
      "nokaneng found and info added\n",
      "morant bay found and info added\n",
      "portpatrick: was not found, skipping....\n",
      "ust-koksa found and info added\n",
      "aykhal found and info added\n",
      "mercedes found and info added\n",
      "saint anthony found and info added\n",
      "khudumelapye found and info added\n",
      "juneau found and info added\n",
      "ulladulla found and info added\n",
      "komsomolskiy found and info added\n",
      "sinnamary found and info added\n",
      "yanliang found and info added\n",
      "hofn found and info added\n",
      "birin found and info added\n",
      "uvalde found and info added\n",
      "maldonado found and info added\n",
      "noumea found and info added\n",
      "lima found and info added\n",
      "chagda: was not found, skipping....\n",
      "haverfordwest found and info added\n",
      "wanning found and info added\n",
      "loreto found and info added\n",
      "saint-joseph found and info added\n",
      "auki found and info added\n",
      "ereymentau found and info added\n",
      "tutoia found and info added\n",
      "sungairaya found and info added\n",
      "quatre cocos found and info added\n",
      "vrangel found and info added\n",
      "college found and info added\n",
      "bang saphan found and info added\n",
      "khuzhir found and info added\n",
      "farsund found and info added\n",
      "zheleznogorsk-ilimskiy found and info added\n",
      "coolum beach found and info added\n",
      "nabire found and info added\n",
      "drayton valley found and info added\n",
      "adrar found and info added\n",
      "oranjestad found and info added\n",
      "akureyri found and info added\n",
      "gurskoye: was not found, skipping....\n",
      "altamira found and info added\n",
      "mulungu found and info added\n",
      "bainbridge found and info added\n",
      "albertville found and info added\n",
      "kyabram found and info added\n",
      "kahului found and info added\n",
      "sorong found and info added\n",
      "iqaluit found and info added\n",
      "cluj-napoca found and info added\n",
      "chiang khong found and info added\n",
      "dzaoudzi found and info added\n",
      "silifke found and info added\n",
      "camargo found and info added\n",
      "sazonovo found and info added\n",
      "burnie found and info added\n",
      "palakollu found and info added\n",
      "tumannyy: was not found, skipping....\n",
      "bitung found and info added\n",
      "perigueux found and info added\n",
      "kota kinabalu found and info added\n",
      "aksu found and info added\n",
      "haines junction found and info added\n",
      "jasper found and info added\n",
      "saint-pierre found and info added\n",
      "luganville found and info added\n",
      "buta found and info added\n",
      "hefei found and info added\n",
      "yenagoa found and info added\n",
      "north bend found and info added\n",
      "grand centre: was not found, skipping....\n",
      "pitimbu found and info added\n",
      "hamilton found and info added\n",
      "amapa found and info added\n",
      "baykit found and info added\n",
      "minot found and info added\n",
      "puerto carreno found and info added\n",
      "troitsko-pechorsk found and info added\n",
      "coihaique found and info added\n",
      "luderitz found and info added\n",
      "micheweni found and info added\n",
      "vila velha found and info added\n",
      "palabuhanratu: was not found, skipping....\n",
      "katsuura found and info added\n",
      "puerto escondido found and info added\n",
      "duncan found and info added\n",
      "port-gentil found and info added\n",
      "manono found and info added\n",
      "arlit found and info added\n",
      "bose found and info added\n",
      "amurzet found and info added\n",
      "pareora found and info added\n",
      "abnub found and info added\n",
      "iranshahr found and info added\n",
      "lazaro cardenas found and info added\n",
      "koberice found and info added\n",
      "kaliua found and info added\n",
      "sisimiut found and info added\n",
      "roald found and info added\n",
      "lebedinyy found and info added\n",
      "balclutha found and info added\n",
      "husavik found and info added\n",
      "tyukhtet found and info added\n",
      "progreso found and info added\n",
      "jamnagar found and info added\n",
      "nemuro found and info added\n",
      "sayansk found and info added\n",
      "uruacu found and info added\n",
      "tilichiki found and info added\n",
      "port macquarie found and info added\n",
      "kodinsk found and info added\n",
      "mahadday weyne: was not found, skipping....\n",
      "yinchuan found and info added\n",
      "wakema found and info added\n",
      "grand forks found and info added\n",
      "puerto narino found and info added\n",
      "dukat found and info added\n",
      "ternate found and info added\n",
      "itoman found and info added\n",
      "myaundzha found and info added\n",
      "luau found and info added\n",
      "bubaque found and info added\n",
      "juba found and info added\n",
      "solnechnyy found and info added\n",
      "warrington found and info added\n",
      "safwah: was not found, skipping....\n",
      "pedasi found and info added\n",
      "poum found and info added\n",
      "sirjan found and info added\n",
      "ketchikan found and info added\n",
      "bambanglipuro found and info added\n",
      "gat found and info added\n",
      "tanshui: was not found, skipping....\n",
      "pochutla found and info added\n",
      "amahai found and info added\n",
      "quang ngai found and info added\n",
      "sioux lookout found and info added\n",
      "itapecerica found and info added\n",
      "nieuw nickerie found and info added\n",
      "lovozero found and info added\n",
      "flinders found and info added\n",
      "matara found and info added\n",
      "nizhneyansk: was not found, skipping....\n",
      "shar found and info added\n",
      "ahuimanu found and info added\n"
     ]
    },
    {
     "name": "stdout",
     "output_type": "stream",
     "text": [
      "forestville found and info added\n",
      "avera found and info added\n",
      "bonfim found and info added\n",
      "loukhi found and info added\n",
      "almenara found and info added\n",
      "wausau found and info added\n",
      "muisne found and info added\n",
      "pangnirtung found and info added\n",
      "ko samui found and info added\n",
      "vestmannaeyjar found and info added\n",
      "bereda found and info added\n",
      "abu zabad found and info added\n",
      "llallagua found and info added\n",
      "keti bandar found and info added\n",
      "palembang found and info added\n",
      "celestun found and info added\n",
      "aracuai found and info added\n",
      "kudahuvadhoo found and info added\n",
      "zaysan found and info added\n",
      "brest found and info added\n",
      "kita found and info added\n",
      "bima found and info added\n",
      "walvis bay found and info added\n",
      "hay river found and info added\n",
      "vilyuysk found and info added\n",
      "touros found and info added\n",
      "ruy barbosa found and info added\n",
      "ibiapina found and info added\n",
      "uvinza found and info added\n",
      "shache found and info added\n",
      "sungaipenuh found and info added\n",
      "cherlak found and info added\n",
      "waipawa found and info added\n",
      "sinkat: was not found, skipping....\n",
      "gorno-chuyskiy: was not found, skipping....\n",
      "shimoda found and info added\n",
      "shumskiy found and info added\n",
      "havoysund found and info added\n",
      "ust-tsilma found and info added\n",
      "mareeba found and info added\n",
      "dingle found and info added\n",
      "gogrial found and info added\n",
      "tapaua: was not found, skipping....\n",
      "mansion: was not found, skipping....\n",
      "bugene found and info added\n",
      "salinas found and info added\n",
      "svetlaya found and info added\n",
      "sept-iles found and info added\n",
      "okhotsk found and info added\n",
      "slave lake found and info added\n",
      "praia found and info added\n",
      "belmonte found and info added\n",
      "vizinga found and info added\n",
      "derzhavinsk found and info added\n",
      "skarnes found and info added\n",
      "bethanien found and info added\n",
      "cam pha: was not found, skipping....\n"
     ]
    }
   ],
   "source": [
    "unit = 'imperial'\n",
    "url = f\"http://api.openweathermap.org/data/2.5/weather?appid={weather_api_key}&units={unit}&q=\"\n",
    "temperature =[]\n",
    "humidity = []\n",
    "cloudiness = []\n",
    "windspeed = []\n",
    "lat = []\n",
    "lon = []\n",
    "foundcities = []\n",
    "country =[]\n",
    "date =[]\n",
    "unit = 'imperial'\n",
    "for city in cities:\n",
    "    weathercheck = requests.get(url+city).json()\n",
    "    \n",
    "    try:\n",
    "        foundcities.append(weathercheck[\"name\"])\n",
    "        temperature.append(weathercheck[\"main\"][\"temp_max\"])\n",
    "        humidity.append(weathercheck[\"main\"][\"humidity\"])\n",
    "        cloudiness.append(weathercheck[\"clouds\"][\"all\"])\n",
    "        windspeed.append(weathercheck[\"wind\"][\"speed\"])\n",
    "        lat.append(weathercheck[\"coord\"][\"lat\"])\n",
    "        lon.append(weathercheck[\"coord\"][\"lon\"])\n",
    "        country.append(weathercheck[\"sys\"][\"country\"])\n",
    "        date.append(weathercheck[\"dt\"])\n",
    "        print(f'{city} found and info added')\n",
    "    except:\n",
    "        print(f'{city}: was not found, skipping....')\n",
    "        pass\n",
    "\n"
   ]
  },
  {
   "cell_type": "markdown",
   "metadata": {},
   "source": [
    "### Convert Raw Data to DataFrame\n",
    "* Export the city data into a .csv.\n",
    "* Display the DataFrame"
   ]
  },
  {
   "cell_type": "code",
   "execution_count": 14,
   "metadata": {},
   "outputs": [],
   "source": [
    "CityWeather_df = pd.DataFrame({\"City\": foundcities,\n",
    "                               \"Country\": country,\n",
    "                                \"Temperature\": temperature,\n",
    "                                \"Humidity\": humidity,\n",
    "                                \"Cloudiness\": cloudiness,\n",
    "                                \"Windspeed\":windspeed,\n",
    "                                \"Date\": date,\n",
    "                                \"Longitude\": lon,\n",
    "                                \"Latitude\": lat\n",
    "                               }\n",
    "                              )\n"
   ]
  },
  {
   "cell_type": "code",
   "execution_count": 15,
   "metadata": {},
   "outputs": [
    {
     "data": {
      "text/html": [
       "<div>\n",
       "<style scoped>\n",
       "    .dataframe tbody tr th:only-of-type {\n",
       "        vertical-align: middle;\n",
       "    }\n",
       "\n",
       "    .dataframe tbody tr th {\n",
       "        vertical-align: top;\n",
       "    }\n",
       "\n",
       "    .dataframe thead th {\n",
       "        text-align: right;\n",
       "    }\n",
       "</style>\n",
       "<table border=\"1\" class=\"dataframe\">\n",
       "  <thead>\n",
       "    <tr style=\"text-align: right;\">\n",
       "      <th></th>\n",
       "      <th>City</th>\n",
       "      <th>Country</th>\n",
       "      <th>Temperature</th>\n",
       "      <th>Humidity</th>\n",
       "      <th>Cloudiness</th>\n",
       "      <th>Windspeed</th>\n",
       "      <th>Date</th>\n",
       "      <th>Longitude</th>\n",
       "      <th>Latitude</th>\n",
       "    </tr>\n",
       "  </thead>\n",
       "  <tbody>\n",
       "    <tr>\n",
       "      <th>0</th>\n",
       "      <td>Puerto Ayora</td>\n",
       "      <td>EC</td>\n",
       "      <td>69.01</td>\n",
       "      <td>93</td>\n",
       "      <td>74</td>\n",
       "      <td>1.01</td>\n",
       "      <td>1592446771</td>\n",
       "      <td>-90.35</td>\n",
       "      <td>-0.74</td>\n",
       "    </tr>\n",
       "    <tr>\n",
       "      <th>1</th>\n",
       "      <td>Vardø</td>\n",
       "      <td>NO</td>\n",
       "      <td>46.09</td>\n",
       "      <td>78</td>\n",
       "      <td>0</td>\n",
       "      <td>8.93</td>\n",
       "      <td>1592446915</td>\n",
       "      <td>31.11</td>\n",
       "      <td>70.37</td>\n",
       "    </tr>\n",
       "    <tr>\n",
       "      <th>2</th>\n",
       "      <td>Rikitea</td>\n",
       "      <td>PF</td>\n",
       "      <td>75.54</td>\n",
       "      <td>84</td>\n",
       "      <td>100</td>\n",
       "      <td>17.27</td>\n",
       "      <td>1592446916</td>\n",
       "      <td>-134.97</td>\n",
       "      <td>-23.12</td>\n",
       "    </tr>\n",
       "    <tr>\n",
       "      <th>3</th>\n",
       "      <td>Laguna</td>\n",
       "      <td>US</td>\n",
       "      <td>88.00</td>\n",
       "      <td>16</td>\n",
       "      <td>1</td>\n",
       "      <td>14.99</td>\n",
       "      <td>1592446649</td>\n",
       "      <td>-121.42</td>\n",
       "      <td>38.42</td>\n",
       "    </tr>\n",
       "    <tr>\n",
       "      <th>4</th>\n",
       "      <td>Namatanai</td>\n",
       "      <td>PG</td>\n",
       "      <td>85.06</td>\n",
       "      <td>68</td>\n",
       "      <td>2</td>\n",
       "      <td>9.08</td>\n",
       "      <td>1592446771</td>\n",
       "      <td>152.43</td>\n",
       "      <td>-3.67</td>\n",
       "    </tr>\n",
       "    <tr>\n",
       "      <th>...</th>\n",
       "      <td>...</td>\n",
       "      <td>...</td>\n",
       "      <td>...</td>\n",
       "      <td>...</td>\n",
       "      <td>...</td>\n",
       "      <td>...</td>\n",
       "      <td>...</td>\n",
       "      <td>...</td>\n",
       "      <td>...</td>\n",
       "    </tr>\n",
       "    <tr>\n",
       "      <th>523</th>\n",
       "      <td>Belmonte</td>\n",
       "      <td>BR</td>\n",
       "      <td>69.80</td>\n",
       "      <td>83</td>\n",
       "      <td>75</td>\n",
       "      <td>3.36</td>\n",
       "      <td>1592446961</td>\n",
       "      <td>-38.88</td>\n",
       "      <td>-15.86</td>\n",
       "    </tr>\n",
       "    <tr>\n",
       "      <th>524</th>\n",
       "      <td>Vizinga</td>\n",
       "      <td>RU</td>\n",
       "      <td>48.22</td>\n",
       "      <td>65</td>\n",
       "      <td>0</td>\n",
       "      <td>3.83</td>\n",
       "      <td>1592446961</td>\n",
       "      <td>50.10</td>\n",
       "      <td>61.07</td>\n",
       "    </tr>\n",
       "    <tr>\n",
       "      <th>525</th>\n",
       "      <td>Derzhavīnsk</td>\n",
       "      <td>KZ</td>\n",
       "      <td>68.13</td>\n",
       "      <td>50</td>\n",
       "      <td>97</td>\n",
       "      <td>12.41</td>\n",
       "      <td>1592446961</td>\n",
       "      <td>66.32</td>\n",
       "      <td>51.10</td>\n",
       "    </tr>\n",
       "    <tr>\n",
       "      <th>526</th>\n",
       "      <td>Skarnes</td>\n",
       "      <td>NO</td>\n",
       "      <td>55.40</td>\n",
       "      <td>87</td>\n",
       "      <td>0</td>\n",
       "      <td>3.36</td>\n",
       "      <td>1592446961</td>\n",
       "      <td>11.68</td>\n",
       "      <td>60.25</td>\n",
       "    </tr>\n",
       "    <tr>\n",
       "      <th>527</th>\n",
       "      <td>Bethanien</td>\n",
       "      <td>NA</td>\n",
       "      <td>45.75</td>\n",
       "      <td>53</td>\n",
       "      <td>0</td>\n",
       "      <td>6.40</td>\n",
       "      <td>1592446961</td>\n",
       "      <td>17.16</td>\n",
       "      <td>-26.50</td>\n",
       "    </tr>\n",
       "  </tbody>\n",
       "</table>\n",
       "<p>528 rows × 9 columns</p>\n",
       "</div>"
      ],
      "text/plain": [
       "             City Country  Temperature  Humidity  Cloudiness  Windspeed  \\\n",
       "0    Puerto Ayora      EC        69.01        93          74       1.01   \n",
       "1           Vardø      NO        46.09        78           0       8.93   \n",
       "2         Rikitea      PF        75.54        84         100      17.27   \n",
       "3          Laguna      US        88.00        16           1      14.99   \n",
       "4       Namatanai      PG        85.06        68           2       9.08   \n",
       "..            ...     ...          ...       ...         ...        ...   \n",
       "523      Belmonte      BR        69.80        83          75       3.36   \n",
       "524       Vizinga      RU        48.22        65           0       3.83   \n",
       "525   Derzhavīnsk      KZ        68.13        50          97      12.41   \n",
       "526       Skarnes      NO        55.40        87           0       3.36   \n",
       "527     Bethanien      NA        45.75        53           0       6.40   \n",
       "\n",
       "           Date  Longitude  Latitude  \n",
       "0    1592446771     -90.35     -0.74  \n",
       "1    1592446915      31.11     70.37  \n",
       "2    1592446916    -134.97    -23.12  \n",
       "3    1592446649    -121.42     38.42  \n",
       "4    1592446771     152.43     -3.67  \n",
       "..          ...        ...       ...  \n",
       "523  1592446961     -38.88    -15.86  \n",
       "524  1592446961      50.10     61.07  \n",
       "525  1592446961      66.32     51.10  \n",
       "526  1592446961      11.68     60.25  \n",
       "527  1592446961      17.16    -26.50  \n",
       "\n",
       "[528 rows x 9 columns]"
      ]
     },
     "execution_count": 15,
     "metadata": {},
     "output_type": "execute_result"
    }
   ],
   "source": [
    "CityWeather_df.to_csv(r'/Users/specky3512/GitHub/python-API-challenge/output_data/CityWeather.csv', index = False)\n",
    "\n",
    "CityWeather_df"
   ]
  },
  {
   "cell_type": "markdown",
   "metadata": {},
   "source": [
    "## Inspect the data and remove the cities where the humidity > 100%.\n",
    "----\n",
    "Skip this step if there are no cities that have humidity > 100%. "
   ]
  },
  {
   "cell_type": "code",
   "execution_count": 16,
   "metadata": {},
   "outputs": [],
   "source": [
    "toohumid = CityWeather_df.loc[CityWeather_df['Humidity'] > 100]\n"
   ]
  },
  {
   "cell_type": "code",
   "execution_count": 17,
   "metadata": {},
   "outputs": [
    {
     "name": "stdout",
     "output_type": "stream",
     "text": [
      "There are 0 entries with humidity over 100%\n"
     ]
    }
   ],
   "source": [
    "#  Get the indices of cities that have humidity over 100%.\n",
    "print(f'There are {len(toohumid)} entries with humidity over 100%')"
   ]
  },
  {
   "cell_type": "code",
   "execution_count": 18,
   "metadata": {},
   "outputs": [
    {
     "name": "stdout",
     "output_type": "stream",
     "text": [
      "City           528\n",
      "Country        528\n",
      "Temperature    528\n",
      "Humidity       528\n",
      "Cloudiness     528\n",
      "Windspeed      528\n",
      "Date           528\n",
      "Longitude      528\n",
      "Latitude       528\n",
      "dtype: int64\n"
     ]
    },
    {
     "data": {
      "text/html": [
       "<div>\n",
       "<style scoped>\n",
       "    .dataframe tbody tr th:only-of-type {\n",
       "        vertical-align: middle;\n",
       "    }\n",
       "\n",
       "    .dataframe tbody tr th {\n",
       "        vertical-align: top;\n",
       "    }\n",
       "\n",
       "    .dataframe thead th {\n",
       "        text-align: right;\n",
       "    }\n",
       "</style>\n",
       "<table border=\"1\" class=\"dataframe\">\n",
       "  <thead>\n",
       "    <tr style=\"text-align: right;\">\n",
       "      <th></th>\n",
       "      <th>Temperature</th>\n",
       "      <th>Humidity</th>\n",
       "      <th>Cloudiness</th>\n",
       "      <th>Windspeed</th>\n",
       "      <th>Date</th>\n",
       "      <th>Longitude</th>\n",
       "      <th>Latitude</th>\n",
       "    </tr>\n",
       "  </thead>\n",
       "  <tbody>\n",
       "    <tr>\n",
       "      <th>count</th>\n",
       "      <td>528.000000</td>\n",
       "      <td>528.000000</td>\n",
       "      <td>528.000000</td>\n",
       "      <td>528.000000</td>\n",
       "      <td>5.280000e+02</td>\n",
       "      <td>528.000000</td>\n",
       "      <td>528.000000</td>\n",
       "    </tr>\n",
       "    <tr>\n",
       "      <th>mean</th>\n",
       "      <td>67.809167</td>\n",
       "      <td>69.789773</td>\n",
       "      <td>47.973485</td>\n",
       "      <td>8.244110</td>\n",
       "      <td>1.592447e+09</td>\n",
       "      <td>16.500966</td>\n",
       "      <td>19.208144</td>\n",
       "    </tr>\n",
       "    <tr>\n",
       "      <th>std</th>\n",
       "      <td>14.152977</td>\n",
       "      <td>21.171374</td>\n",
       "      <td>40.439137</td>\n",
       "      <td>5.319264</td>\n",
       "      <td>7.873017e+01</td>\n",
       "      <td>92.030774</td>\n",
       "      <td>33.639524</td>\n",
       "    </tr>\n",
       "    <tr>\n",
       "      <th>min</th>\n",
       "      <td>23.000000</td>\n",
       "      <td>3.000000</td>\n",
       "      <td>0.000000</td>\n",
       "      <td>0.290000</td>\n",
       "      <td>1.592446e+09</td>\n",
       "      <td>-175.200000</td>\n",
       "      <td>-54.800000</td>\n",
       "    </tr>\n",
       "    <tr>\n",
       "      <th>25%</th>\n",
       "      <td>57.825000</td>\n",
       "      <td>59.000000</td>\n",
       "      <td>1.000000</td>\n",
       "      <td>4.150000</td>\n",
       "      <td>1.592447e+09</td>\n",
       "      <td>-64.020000</td>\n",
       "      <td>-7.307500</td>\n",
       "    </tr>\n",
       "    <tr>\n",
       "      <th>50%</th>\n",
       "      <td>69.010000</td>\n",
       "      <td>74.000000</td>\n",
       "      <td>41.000000</td>\n",
       "      <td>6.930000</td>\n",
       "      <td>1.592447e+09</td>\n",
       "      <td>20.390000</td>\n",
       "      <td>21.105000</td>\n",
       "    </tr>\n",
       "    <tr>\n",
       "      <th>75%</th>\n",
       "      <td>79.455000</td>\n",
       "      <td>86.000000</td>\n",
       "      <td>90.000000</td>\n",
       "      <td>11.410000</td>\n",
       "      <td>1.592447e+09</td>\n",
       "      <td>100.040000</td>\n",
       "      <td>47.915000</td>\n",
       "    </tr>\n",
       "    <tr>\n",
       "      <th>max</th>\n",
       "      <td>100.400000</td>\n",
       "      <td>100.000000</td>\n",
       "      <td>100.000000</td>\n",
       "      <td>29.800000</td>\n",
       "      <td>1.592447e+09</td>\n",
       "      <td>179.320000</td>\n",
       "      <td>78.220000</td>\n",
       "    </tr>\n",
       "  </tbody>\n",
       "</table>\n",
       "</div>"
      ],
      "text/plain": [
       "       Temperature    Humidity  Cloudiness   Windspeed          Date  \\\n",
       "count   528.000000  528.000000  528.000000  528.000000  5.280000e+02   \n",
       "mean     67.809167   69.789773   47.973485    8.244110  1.592447e+09   \n",
       "std      14.152977   21.171374   40.439137    5.319264  7.873017e+01   \n",
       "min      23.000000    3.000000    0.000000    0.290000  1.592446e+09   \n",
       "25%      57.825000   59.000000    1.000000    4.150000  1.592447e+09   \n",
       "50%      69.010000   74.000000   41.000000    6.930000  1.592447e+09   \n",
       "75%      79.455000   86.000000   90.000000   11.410000  1.592447e+09   \n",
       "max     100.400000  100.000000  100.000000   29.800000  1.592447e+09   \n",
       "\n",
       "        Longitude    Latitude  \n",
       "count  528.000000  528.000000  \n",
       "mean    16.500966   19.208144  \n",
       "std     92.030774   33.639524  \n",
       "min   -175.200000  -54.800000  \n",
       "25%    -64.020000   -7.307500  \n",
       "50%     20.390000   21.105000  \n",
       "75%    100.040000   47.915000  \n",
       "max    179.320000   78.220000  "
      ]
     },
     "execution_count": 18,
     "metadata": {},
     "output_type": "execute_result"
    }
   ],
   "source": [
    "# Make a new DataFrame equal to the city data to drop all humidity outliers by index.\n",
    "# Passing \"inplace=False\" will make a copy of the city_data DataFrame, which we call \"clean_city_data\".\n",
    "counts = CityWeather_df.count()\n",
    "countsinfo = CityWeather_df.describe()\n",
    "print(counts)\n",
    "countsinfo\n"
   ]
  },
  {
   "cell_type": "code",
   "execution_count": 19,
   "metadata": {},
   "outputs": [
    {
     "data": {
      "text/html": [
       "<div>\n",
       "<style scoped>\n",
       "    .dataframe tbody tr th:only-of-type {\n",
       "        vertical-align: middle;\n",
       "    }\n",
       "\n",
       "    .dataframe tbody tr th {\n",
       "        vertical-align: top;\n",
       "    }\n",
       "\n",
       "    .dataframe thead th {\n",
       "        text-align: right;\n",
       "    }\n",
       "</style>\n",
       "<table border=\"1\" class=\"dataframe\">\n",
       "  <thead>\n",
       "    <tr style=\"text-align: right;\">\n",
       "      <th></th>\n",
       "      <th>City</th>\n",
       "      <th>Latitude</th>\n",
       "      <th>Temperature</th>\n",
       "      <th>Humidity</th>\n",
       "      <th>Cloudiness</th>\n",
       "      <th>Windspeed</th>\n",
       "    </tr>\n",
       "  </thead>\n",
       "  <tbody>\n",
       "    <tr>\n",
       "      <th>0</th>\n",
       "      <td>Puerto Ayora</td>\n",
       "      <td>-0.74</td>\n",
       "      <td>69.01</td>\n",
       "      <td>93</td>\n",
       "      <td>74</td>\n",
       "      <td>1.01</td>\n",
       "    </tr>\n",
       "    <tr>\n",
       "      <th>1</th>\n",
       "      <td>Vardø</td>\n",
       "      <td>70.37</td>\n",
       "      <td>46.09</td>\n",
       "      <td>78</td>\n",
       "      <td>0</td>\n",
       "      <td>8.93</td>\n",
       "    </tr>\n",
       "    <tr>\n",
       "      <th>2</th>\n",
       "      <td>Rikitea</td>\n",
       "      <td>-23.12</td>\n",
       "      <td>75.54</td>\n",
       "      <td>84</td>\n",
       "      <td>100</td>\n",
       "      <td>17.27</td>\n",
       "    </tr>\n",
       "    <tr>\n",
       "      <th>3</th>\n",
       "      <td>Laguna</td>\n",
       "      <td>38.42</td>\n",
       "      <td>88.00</td>\n",
       "      <td>16</td>\n",
       "      <td>1</td>\n",
       "      <td>14.99</td>\n",
       "    </tr>\n",
       "    <tr>\n",
       "      <th>4</th>\n",
       "      <td>Namatanai</td>\n",
       "      <td>-3.67</td>\n",
       "      <td>85.06</td>\n",
       "      <td>68</td>\n",
       "      <td>2</td>\n",
       "      <td>9.08</td>\n",
       "    </tr>\n",
       "    <tr>\n",
       "      <th>5</th>\n",
       "      <td>Mana</td>\n",
       "      <td>5.66</td>\n",
       "      <td>77.27</td>\n",
       "      <td>89</td>\n",
       "      <td>100</td>\n",
       "      <td>4.59</td>\n",
       "    </tr>\n",
       "    <tr>\n",
       "      <th>6</th>\n",
       "      <td>Busselton</td>\n",
       "      <td>-33.65</td>\n",
       "      <td>55.99</td>\n",
       "      <td>70</td>\n",
       "      <td>48</td>\n",
       "      <td>19.84</td>\n",
       "    </tr>\n",
       "    <tr>\n",
       "      <th>7</th>\n",
       "      <td>Arraial do Cabo</td>\n",
       "      <td>-22.97</td>\n",
       "      <td>64.40</td>\n",
       "      <td>93</td>\n",
       "      <td>40</td>\n",
       "      <td>4.70</td>\n",
       "    </tr>\n",
       "    <tr>\n",
       "      <th>8</th>\n",
       "      <td>Albany</td>\n",
       "      <td>42.60</td>\n",
       "      <td>73.00</td>\n",
       "      <td>87</td>\n",
       "      <td>50</td>\n",
       "      <td>2.44</td>\n",
       "    </tr>\n",
       "    <tr>\n",
       "      <th>9</th>\n",
       "      <td>Port Lincoln</td>\n",
       "      <td>-34.73</td>\n",
       "      <td>61.59</td>\n",
       "      <td>53</td>\n",
       "      <td>100</td>\n",
       "      <td>20.80</td>\n",
       "    </tr>\n",
       "    <tr>\n",
       "      <th>10</th>\n",
       "      <td>Punta Arenas</td>\n",
       "      <td>-53.15</td>\n",
       "      <td>32.00</td>\n",
       "      <td>86</td>\n",
       "      <td>0</td>\n",
       "      <td>5.82</td>\n",
       "    </tr>\n",
       "    <tr>\n",
       "      <th>11</th>\n",
       "      <td>Kruisfontein</td>\n",
       "      <td>-34.00</td>\n",
       "      <td>53.65</td>\n",
       "      <td>41</td>\n",
       "      <td>0</td>\n",
       "      <td>7.56</td>\n",
       "    </tr>\n",
       "    <tr>\n",
       "      <th>12</th>\n",
       "      <td>Bluff</td>\n",
       "      <td>-46.60</td>\n",
       "      <td>47.21</td>\n",
       "      <td>62</td>\n",
       "      <td>7</td>\n",
       "      <td>10.20</td>\n",
       "    </tr>\n",
       "    <tr>\n",
       "      <th>13</th>\n",
       "      <td>Barcelos</td>\n",
       "      <td>41.54</td>\n",
       "      <td>57.20</td>\n",
       "      <td>87</td>\n",
       "      <td>1</td>\n",
       "      <td>5.82</td>\n",
       "    </tr>\n",
       "    <tr>\n",
       "      <th>14</th>\n",
       "      <td>Chui</td>\n",
       "      <td>-33.70</td>\n",
       "      <td>66.69</td>\n",
       "      <td>80</td>\n",
       "      <td>100</td>\n",
       "      <td>13.47</td>\n",
       "    </tr>\n",
       "    <tr>\n",
       "      <th>15</th>\n",
       "      <td>Avarua</td>\n",
       "      <td>-21.21</td>\n",
       "      <td>75.20</td>\n",
       "      <td>64</td>\n",
       "      <td>0</td>\n",
       "      <td>8.05</td>\n",
       "    </tr>\n",
       "    <tr>\n",
       "      <th>16</th>\n",
       "      <td>Caravelas</td>\n",
       "      <td>-17.71</td>\n",
       "      <td>71.37</td>\n",
       "      <td>75</td>\n",
       "      <td>33</td>\n",
       "      <td>7.52</td>\n",
       "    </tr>\n",
       "    <tr>\n",
       "      <th>17</th>\n",
       "      <td>Hermanus</td>\n",
       "      <td>-34.42</td>\n",
       "      <td>48.99</td>\n",
       "      <td>82</td>\n",
       "      <td>0</td>\n",
       "      <td>1.99</td>\n",
       "    </tr>\n",
       "    <tr>\n",
       "      <th>18</th>\n",
       "      <td>Yulara</td>\n",
       "      <td>-25.24</td>\n",
       "      <td>59.00</td>\n",
       "      <td>28</td>\n",
       "      <td>0</td>\n",
       "      <td>6.93</td>\n",
       "    </tr>\n",
       "    <tr>\n",
       "      <th>19</th>\n",
       "      <td>East London</td>\n",
       "      <td>-33.02</td>\n",
       "      <td>58.50</td>\n",
       "      <td>62</td>\n",
       "      <td>0</td>\n",
       "      <td>10.29</td>\n",
       "    </tr>\n",
       "  </tbody>\n",
       "</table>\n",
       "</div>"
      ],
      "text/plain": [
       "               City  Latitude  Temperature  Humidity  Cloudiness  Windspeed\n",
       "0      Puerto Ayora     -0.74        69.01        93          74       1.01\n",
       "1             Vardø     70.37        46.09        78           0       8.93\n",
       "2           Rikitea    -23.12        75.54        84         100      17.27\n",
       "3            Laguna     38.42        88.00        16           1      14.99\n",
       "4         Namatanai     -3.67        85.06        68           2       9.08\n",
       "5              Mana      5.66        77.27        89         100       4.59\n",
       "6         Busselton    -33.65        55.99        70          48      19.84\n",
       "7   Arraial do Cabo    -22.97        64.40        93          40       4.70\n",
       "8            Albany     42.60        73.00        87          50       2.44\n",
       "9      Port Lincoln    -34.73        61.59        53         100      20.80\n",
       "10     Punta Arenas    -53.15        32.00        86           0       5.82\n",
       "11     Kruisfontein    -34.00        53.65        41           0       7.56\n",
       "12            Bluff    -46.60        47.21        62           7      10.20\n",
       "13         Barcelos     41.54        57.20        87           1       5.82\n",
       "14             Chui    -33.70        66.69        80         100      13.47\n",
       "15           Avarua    -21.21        75.20        64           0       8.05\n",
       "16        Caravelas    -17.71        71.37        75          33       7.52\n",
       "17         Hermanus    -34.42        48.99        82           0       1.99\n",
       "18           Yulara    -25.24        59.00        28           0       6.93\n",
       "19      East London    -33.02        58.50        62           0      10.29"
      ]
     },
     "execution_count": 19,
     "metadata": {},
     "output_type": "execute_result"
    }
   ],
   "source": [
    "# Extract relevant fields from the data frame\n",
    "scatterplotdata = CityWeather_df[['City', 'Latitude', 'Temperature', 'Humidity', 'Cloudiness', 'Windspeed']]\n",
    "\n",
    "# Export the City_Data into a csv\n",
    "scatterplotdata.to_csv(r'/Users/specky3512/GitHub/python-API-challenge/output_data/DataforScatterplots.csv', index = False)\n",
    "\n",
    "scatterplotdata.head(20)"
   ]
  },
  {
   "cell_type": "markdown",
   "metadata": {},
   "source": [
    "## Plotting the Data\n",
    "* Use proper labeling of the plots using plot titles (including date of analysis) and axes labels.\n",
    "* Save the plotted figures as .pngs."
   ]
  },
  {
   "cell_type": "markdown",
   "metadata": {},
   "source": [
    "## Latitude vs. Temperature Plot"
   ]
  },
  {
   "cell_type": "code",
   "execution_count": 21,
   "metadata": {
    "scrolled": true
   },
   "outputs": [
    {
     "data": {
      "image/png": "[encoded data removed]",
      "text/plain": [
       "<Figure size 432x288 with 1 Axes>"
      ]
     },
     "metadata": {
      "needs_background": "light"
     },
     "output_type": "display_data"
    }
   ],
   "source": [
    "x = scatterplotdata['Latitude']\n",
    "y1 = scatterplotdata['Temperature']\n",
    "plt.scatter(x,y1)\n",
    "plt.xlabel('Latitude')\n",
    "plt.ylabel('Temperature(°F)')\n",
    "plt.show()"
   ]
  },
  {
   "cell_type": "markdown",
   "metadata": {},
   "source": [
    "## Latitude vs. Humidity Plot"
   ]
  },
  {
   "cell_type": "code",
   "execution_count": 28,
   "metadata": {},
   "outputs": [
    {
     "data": {
      "image/png": "[encoded data removed]",
      "text/plain": [
       "<Figure size 432x288 with 1 Axes>"
      ]
     },
     "metadata": {
      "needs_background": "light"
     },
     "output_type": "display_data"
    }
   ],
   "source": [
    "y2 = scatterplotdata['Humidity']\n",
    "plt.scatter(x,y2)\n",
    "plt.xlabel('Latitude')\n",
    "plt.ylabel('Humidity (%)')\n",
    "plt.show()"
   ]
  },
  {
   "cell_type": "markdown",
   "metadata": {},
   "source": [
    "## Latitude vs. Cloudiness Plot"
   ]
  },
  {
   "cell_type": "code",
   "execution_count": 27,
   "metadata": {},
   "outputs": [
    {
     "data": {
      "image/png": "[encoded data removed]",
      "text/plain": [
       "<Figure size 432x288 with 1 Axes>"
      ]
     },
     "metadata": {
      "needs_background": "light"
     },
     "output_type": "display_data"
    }
   ],
   "source": [
    "y3 = scatterplotdata['Cloudiness']\n",
    "plt.scatter(x,y3)\n",
    "plt.xlabel('Latitude')\n",
    "plt.ylabel('Cloudiness (%)')\n",
    "plt.show()"
   ]
  },
  {
   "cell_type": "markdown",
   "metadata": {},
   "source": [
    "## Latitude vs. Wind Speed Plot"
   ]
  },
  {
   "cell_type": "code",
   "execution_count": 29,
   "metadata": {},
   "outputs": [
    {
     "data": {
      "image/png": "[encoded data removed]",
      "text/plain": [
       "<Figure size 432x288 with 1 Axes>"
      ]
     },
     "metadata": {
      "needs_background": "light"
     },
     "output_type": "display_data"
    }
   ],
   "source": [
    "y4 = scatterplotdata['Windspeed']\n",
    "plt.scatter(x,y4)\n",
    "plt.xlabel('Latitude')\n",
    "plt.ylabel('Wind Speed (MPH)')\n",
    "plt.show()"
   ]
  },
  {
   "cell_type": "markdown",
   "metadata": {},
   "source": [
    "## Linear Regression"
   ]
  },
  {
   "cell_type": "code",
   "execution_count": 59,
   "metadata": {},
   "outputs": [],
   "source": [
    "# OPTIONAL: Create a function to create Linear Regression plots\n",
    "def linerarregress(x,y,a,b,c):\n",
    "    (slope, intercept, rvalue, pvalue, stderr)=linregress(x,y)\n",
    "    regress_values = x * slope + intercept\n",
    "    line_eq = 'y=' + str(round(slope,2)) +'x+' + str(round(intercept,2))\n",
    "    plt.scatter(x,y, color='blue')\n",
    "    plt.plot(x,regress_values,\"r-\")\n",
    "    print(f'The r-square is {rvalue}')\n",
    "    print(line_eq)\n",
    "    plt.annotate(line_eq,(a,b),fontsize=15, color='red')\n",
    "    plt.xlabel('Latitude')\n",
    "    plt.ylabel(f'{c}')"
   ]
  },
  {
   "cell_type": "code",
   "execution_count": 23,
   "metadata": {},
   "outputs": [],
   "source": [
    "# Create Northern and Southern Hemisphere DataFrames\n",
    "Northern = scatterplotdata[scatterplotdata['Latitude'] >= 0]\n",
    "\n",
    "Southern = scatterplotdata[scatterplotdata['Latitude'] < 0]\n"
   ]
  },
  {
   "cell_type": "markdown",
   "metadata": {},
   "source": [
    "####  Northern Hemisphere - Max Temp vs. Latitude Linear Regression"
   ]
  },
  {
   "cell_type": "code",
   "execution_count": 60,
   "metadata": {},
   "outputs": [
    {
     "name": "stdout",
     "output_type": "stream",
     "text": [
      "The r-square is -0.717807785820047\n",
      "y=-0.49x+88.07\n"
     ]
    },
    {
     "data": {
      "image/png": "[encoded data removed]",
      "text/plain": [
       "<Figure size 432x288 with 1 Axes>"
      ]
     },
     "metadata": {
      "needs_background": "light"
     },
     "output_type": "display_data"
    }
   ],
   "source": [
    "x_north = Northern[\"Latitude\"]\n",
    "y_nTemp = Northern[\"Temperature\"]\n",
    "plt.scatter(x_north,y_nTemp)\n",
    "linerarregress(x_north,y_nTemp,15,40,\"Temperature(°F)\")\n",
    "plt.show()"
   ]
  },
  {
   "cell_type": "markdown",
   "metadata": {},
   "source": [
    "####  Southern Hemisphere - Max Temp vs. Latitude Linear Regression"
   ]
  },
  {
   "cell_type": "code",
   "execution_count": 61,
   "metadata": {},
   "outputs": [
    {
     "name": "stdout",
     "output_type": "stream",
     "text": [
      "The r-square is 0.6948525980475171\n",
      "y=0.66x+79.12\n"
     ]
    },
    {
     "data": {
      "image/png": "[encoded data removed]",
      "text/plain": [
       "<Figure size 432x288 with 1 Axes>"
      ]
     },
     "metadata": {
      "needs_background": "light"
     },
     "output_type": "display_data"
    }
   ],
   "source": [
    "x_south = Southern[\"Latitude\"]\n",
    "y_sTemp = Southern[\"Temperature\"]\n",
    "plt.scatter(x_south, y_sTemp)\n",
    "linerarregress(x_south, y_sTemp,-55,80,\"Temperature(°F)\")\n"
   ]
  },
  {
   "cell_type": "markdown",
   "metadata": {},
   "source": [
    "####  Northern Hemisphere - Humidity (%) vs. Latitude Linear Regression"
   ]
  },
  {
   "cell_type": "code",
   "execution_count": 62,
   "metadata": {},
   "outputs": [
    {
     "name": "stdout",
     "output_type": "stream",
     "text": [
      "The r-square is -0.1303476781969472\n",
      "y=-0.14x+73.44\n"
     ]
    },
    {
     "data": {
      "image/png": "[encoded data removed]",
      "text/plain": [
       "<Figure size 432x288 with 1 Axes>"
      ]
     },
     "metadata": {
      "needs_background": "light"
     },
     "output_type": "display_data"
    }
   ],
   "source": [
    "y_nHum = Northern[\"Humidity\"]\n",
    "plt.scatter(x_north, y_nHum)\n",
    "linerarregress(x_north, y_nHum,0,10,'Humidity (%)')\n"
   ]
  },
  {
   "cell_type": "code",
   "execution_count": null,
   "metadata": {},
   "outputs": [],
   "source": []
  },
  {
   "cell_type": "markdown",
   "metadata": {},
   "source": [
    "####  Southern Hemisphere - Humidity (%) vs. Latitude Linear Regression"
   ]
  },
  {
   "cell_type": "code",
   "execution_count": 63,
   "metadata": {},
   "outputs": [
    {
     "name": "stdout",
     "output_type": "stream",
     "text": [
      "The r-square is 0.06353419333747001\n",
      "y=0.08x+75.16\n"
     ]
    },
    {
     "data": {
      "image/png": "[encoded data removed]",
      "text/plain": [
       "<Figure size 432x288 with 1 Axes>"
      ]
     },
     "metadata": {
      "needs_background": "light"
     },
     "output_type": "display_data"
    }
   ],
   "source": [
    "y_sHum=Southern[\"Humidity\"]\n",
    "plt.scatter(x_south,y_sHum)\n",
    "linerarregress(x_south,y_sHum,-50,20,'Humidity (%)')\n"
   ]
  },
  {
   "cell_type": "markdown",
   "metadata": {},
   "source": [
    "####  Northern Hemisphere - Cloudiness (%) vs. Latitude Linear Regression"
   ]
  },
  {
   "cell_type": "code",
   "execution_count": 64,
   "metadata": {},
   "outputs": [
    {
     "name": "stdout",
     "output_type": "stream",
     "text": [
      "The r-square is -0.09927218041067803\n",
      "y=-0.19x+57.73\n"
     ]
    },
    {
     "data": {
      "image/png": "[encoded data removed]",
      "text/plain": [
       "<Figure size 432x288 with 1 Axes>"
      ]
     },
     "metadata": {
      "needs_background": "light"
     },
     "output_type": "display_data"
    }
   ],
   "source": [
    "y_nClo = Northern[\"Cloudiness\"]\n",
    "plt.scatter(x_north,y_nClo)\n",
    "linerarregress(x_north,y_nClo,5,60,\"Cloudiness (%)\")"
   ]
  },
  {
   "cell_type": "markdown",
   "metadata": {},
   "source": [
    "####  Southern Hemisphere - Cloudiness (%) vs. Latitude Linear Regression"
   ]
  },
  {
   "cell_type": "code",
   "execution_count": 65,
   "metadata": {},
   "outputs": [
    {
     "name": "stdout",
     "output_type": "stream",
     "text": [
      "The r-square is -0.11030562913066898\n",
      "y=-0.31x+36.9\n"
     ]
    },
    {
     "data": {
      "image/png": "[encoded data removed]",
      "text/plain": [
       "<Figure size 432x288 with 1 Axes>"
      ]
     },
     "metadata": {
      "needs_background": "light"
     },
     "output_type": "display_data"
    }
   ],
   "source": [
    "y_sClo = Southern[\"Cloudiness\"]\n",
    "plt.scatter(x_south,y_sClo)\n",
    "linerarregress(x_south,y_sClo,-55,60,\"Cloudiness (%)\")\n"
   ]
  },
  {
   "cell_type": "markdown",
   "metadata": {},
   "source": [
    "####  Northern Hemisphere - Wind Speed (mph) vs. Latitude Linear Regression"
   ]
  },
  {
   "cell_type": "code",
   "execution_count": 66,
   "metadata": {},
   "outputs": [
    {
     "name": "stdout",
     "output_type": "stream",
     "text": [
      "The r-square is 0.012399442957004849\n",
      "y=0.0x+7.89\n"
     ]
    },
    {
     "data": {
      "image/png": "[encoded data removed]",
      "text/plain": [
       "<Figure size 432x288 with 1 Axes>"
      ]
     },
     "metadata": {
      "needs_background": "light"
     },
     "output_type": "display_data"
    }
   ],
   "source": [
    "y_nWind= Northern[\"Windspeed\"]\n",
    "plt.scatter(x_north, y_nWind)\n",
    "linerarregress(x_north, y_nWind,0,25, \"Wind Speed (mph)\")"
   ]
  },
  {
   "cell_type": "markdown",
   "metadata": {},
   "source": [
    "####  Southern Hemisphere - Wind Speed (mph) vs. Latitude Linear Regression"
   ]
  },
  {
   "cell_type": "code",
   "execution_count": 67,
   "metadata": {},
   "outputs": [
    {
     "name": "stdout",
     "output_type": "stream",
     "text": [
      "The r-square is -0.17551068555206023\n",
      "y=-0.07x+7.18\n"
     ]
    },
    {
     "data": {
      "image/png": "[encoded data removed]",
      "text/plain": [
       "<Figure size 432x288 with 1 Axes>"
      ]
     },
     "metadata": {
      "needs_background": "light"
     },
     "output_type": "display_data"
    }
   ],
   "source": [
    "y_sWind = Southern[\"Windspeed\"]\n",
    "plt.scatter(x_south, y_sWind)\n",
    "linerarregress(x_south, y_sWind,-55,15,\"Wind Speed (mph)\")"
   ]
  },
  {
   "cell_type": "code",
   "execution_count": null,
   "metadata": {},
   "outputs": [],
   "source": []
  }
 ],
 "metadata": {
  "anaconda-cloud": {},
  "kernel_info": {
   "name": "python3"
  },
  "kernelspec": {
   "display_name": "Python 3",
   "language": "python",
   "name": "python3"
  },
  "language_info": {
   "codemirror_mode": {
    "name": "ipython",
    "version": 3
   },
   "file_extension": ".py",
   "mimetype": "text/x-python",
   "name": "python",
   "nbconvert_exporter": "python",
   "pygments_lexer": "ipython3",
   "version": "3.7.6"
  },
  "latex_envs": {
   "LaTeX_envs_menu_present": true,
   "autoclose": false,
   "autocomplete": true,
   "bibliofile": "biblio.bib",
   "cite_by": "apalike",
   "current_citInitial": 1,
   "eqLabelWithNumbers": true,
   "eqNumInitial": 1,
   "hotkeys": {
    "equation": "Ctrl-E",
    "itemize": "Ctrl-I"
   },
   "labels_anchors": false,
   "latex_user_defs": false,
   "report_style_numbering": false,
   "user_envs_cfg": false
  },
  "nteract": {
   "version": "0.12.3"
  }
 },
 "nbformat": 4,
 "nbformat_minor": 2
}
