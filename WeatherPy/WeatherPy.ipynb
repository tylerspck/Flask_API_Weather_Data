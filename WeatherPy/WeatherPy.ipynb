{
 "cells": [
  {
   "cell_type": "markdown",
   "metadata": {},
   "source": [
    "# WeatherPy\n",
    "----\n",
    "\n",
    "#### Note\n",
    "* Instructions have been included for each segment. You do not have to follow them exactly, but they are included to help you think through the steps."
   ]
  },
  {
   "cell_type": "code",
   "execution_count": 1,
   "metadata": {
    "scrolled": true
   },
   "outputs": [],
   "source": [
    "# Dependencies and Setup\n",
    "import matplotlib.pyplot as plt\n",
    "import pandas as pd\n",
    "import numpy as np\n",
    "import requests\n",
    "import time\n",
    "from scipy.stats import linregress\n",
    "from datetime import date\n",
    "\n",
    "\n",
    "# Import API key\n",
    "from api_keys import weather_api_key\n",
    "\n",
    "# Incorporated citipy to determine city based on latitude and longitude\n",
    "from citipy import citipy\n",
    "\n",
    "# Output File (CSV)\n",
    "output_data_file = \"output_data/cities.csv\"\n",
    "\n",
    "# Range of latitudes and longitudes\n",
    "lat_range = (-90, 90)\n",
    "lng_range = (-180, 180)\n",
    "\n",
    "today = date.today()\n"
   ]
  },
  {
   "cell_type": "markdown",
   "metadata": {},
   "source": [
    "## Generate Cities List"
   ]
  },
  {
   "cell_type": "code",
   "execution_count": 2,
   "metadata": {},
   "outputs": [
    {
     "data": {
      "text/plain": [
       "624"
      ]
     },
     "execution_count": 2,
     "metadata": {},
     "output_type": "execute_result"
    }
   ],
   "source": [
    "# List for holding lat_lngs and cities\n",
    "lat_lngs = []\n",
    "cities = []\n",
    "\n",
    "# Create a set of random lat and lng combinations\n",
    "lats = np.random.uniform(lat_range[0], lat_range[1], size=1500)\n",
    "lngs = np.random.uniform(lng_range[0], lng_range[1], size=1500)\n",
    "lat_lngs = zip(lats, lngs)\n",
    "\n",
    "# Identify nearest city for each lat, lng combination\n",
    "for lat_lng in lat_lngs:\n",
    "    city = citipy.nearest_city(lat_lng[0], lat_lng[1]).city_name\n",
    "    \n",
    "    # If the city is unique, then add it to a our cities list\n",
    "    if city not in cities:\n",
    "        cities.append(city)\n",
    "\n",
    "# Print the city count to confirm sufficient count\n",
    "len(cities)\n"
   ]
  },
  {
   "cell_type": "markdown",
   "metadata": {},
   "source": [
    "### Perform API Calls\n",
    "* Perform a weather check on each city using a series of successive API calls.\n",
    "* Include a print log of each city as it'sbeing processed (with the city number and city name).\n"
   ]
  },
  {
   "cell_type": "code",
   "execution_count": 27,
   "metadata": {},
   "outputs": [
    {
     "name": "stdout",
     "output_type": "stream",
     "text": [
      "luwuk found and info added\n",
      "hamilton found and info added\n",
      "illoqqortoormiut: was not found, skipping....\n",
      "yushu found and info added\n",
      "paamiut found and info added\n",
      "charters towers found and info added\n",
      "udachnyy found and info added\n",
      "jamestown found and info added\n",
      "vaitupu: was not found, skipping....\n",
      "busselton found and info added\n",
      "bethel found and info added\n",
      "saldanha found and info added\n",
      "kapaa found and info added\n",
      "rikitea found and info added\n",
      "sentyabrskiy: was not found, skipping....\n",
      "east london found and info added\n",
      "makakilo city found and info added\n",
      "ipora found and info added\n",
      "upernavik found and info added\n",
      "mar del plata found and info added\n",
      "cabo san lucas found and info added\n",
      "san patricio found and info added\n",
      "ushuaia found and info added\n",
      "new norfolk found and info added\n",
      "qaanaaq found and info added\n",
      "vila velha found and info added\n",
      "antofagasta found and info added\n",
      "atar found and info added\n",
      "aktau found and info added\n",
      "port alfred found and info added\n",
      "asfi found and info added\n",
      "mayo found and info added\n",
      "kutum found and info added\n",
      "bilibino found and info added\n",
      "vostok found and info added\n",
      "honningsvag found and info added\n",
      "kysyl-syr found and info added\n",
      "sisimiut found and info added\n",
      "samusu: was not found, skipping....\n",
      "carnarvon found and info added\n",
      "yellowknife found and info added\n",
      "atuona found and info added\n",
      "tierralta found and info added\n",
      "salalah found and info added\n",
      "vaini found and info added\n",
      "gemena found and info added\n",
      "mataura found and info added\n",
      "saint george found and info added\n",
      "highland springs found and info added\n",
      "ouadda found and info added\n",
      "cherskiy found and info added\n",
      "taolanaro: was not found, skipping....\n",
      "avera found and info added\n",
      "grande-riviere: was not found, skipping....\n",
      "grand river south east: was not found, skipping....\n",
      "arraial do cabo found and info added\n",
      "puerto quijarro found and info added\n",
      "tucurui found and info added\n",
      "albany found and info added\n",
      "puerto ayora found and info added\n",
      "butaritari found and info added\n",
      "mandan found and info added\n",
      "manono found and info added\n",
      "punta arenas found and info added\n",
      "bathsheba found and info added\n",
      "concepcion del uruguay found and info added\n",
      "eugene found and info added\n",
      "cape town found and info added\n",
      "yangambi found and info added\n",
      "krasnoselkup found and info added\n",
      "georgetown found and info added\n",
      "tignere found and info added\n",
      "bahia honda found and info added\n",
      "fort morgan found and info added\n",
      "namanyere found and info added\n",
      "padang found and info added\n",
      "tokur found and info added\n",
      "castro found and info added\n",
      "hobart found and info added\n",
      "longyearbyen found and info added\n",
      "dikson found and info added\n",
      "amderma: was not found, skipping....\n",
      "isangel found and info added\n",
      "saskylakh found and info added\n",
      "grand forks found and info added\n",
      "biltine found and info added\n",
      "torbay found and info added\n",
      "boa vista found and info added\n",
      "barentsburg: was not found, skipping....\n",
      "kaeo found and info added\n",
      "cervo found and info added\n",
      "labuhan found and info added\n",
      "manbij found and info added\n",
      "wahran: was not found, skipping....\n",
      "sagarejo found and info added\n",
      "matara found and info added\n",
      "khatanga found and info added\n",
      "krasnyy found and info added\n",
      "ancud found and info added\n",
      "caledonia found and info added\n",
      "pangoa found and info added\n",
      "bukama found and info added\n",
      "hasaki found and info added\n",
      "varhaug found and info added\n",
      "bogande found and info added\n",
      "barrow found and info added\n",
      "norman wells found and info added\n",
      "taoudenni found and info added\n",
      "severo-kurilsk found and info added\n",
      "benguela found and info added\n",
      "luderitz found and info added\n",
      "ust-maya found and info added\n",
      "anadyr found and info added\n",
      "muroto found and info added\n",
      "kavieng found and info added\n",
      "petropavlovsk-kamchatskiy found and info added\n",
      "zhigansk found and info added\n",
      "cidreira found and info added\n",
      "nicoya found and info added\n",
      "vardo found and info added\n",
      "hilo found and info added\n",
      "deputatskiy found and info added\n",
      "ngukurr: was not found, skipping....\n",
      "vestmannaeyjar found and info added\n",
      "narsaq found and info added\n",
      "oga found and info added\n",
      "barra do garcas found and info added\n",
      "poum found and info added\n",
      "chagda: was not found, skipping....\n",
      "saint-philippe found and info added\n",
      "kodiak found and info added\n",
      "port elizabeth found and info added\n",
      "kathu found and info added\n",
      "byron bay found and info added\n",
      "baherden found and info added\n",
      "saint-francois found and info added\n",
      "ostrovnoy found and info added\n",
      "marienburg found and info added\n",
      "bowen found and info added\n",
      "mahebourg found and info added\n",
      "hermanus found and info added\n",
      "lillooet found and info added\n",
      "ahipara found and info added\n",
      "pemba found and info added\n",
      "ponta do sol found and info added\n",
      "maniitsoq found and info added\n",
      "mount hagen found and info added\n",
      "mananara found and info added\n",
      "charlestown found and info added\n",
      "tuatapere found and info added\n",
      "port lincoln found and info added\n",
      "te anau found and info added\n",
      "ilulissat found and info added\n",
      "chokurdakh found and info added\n",
      "montague found and info added\n",
      "sioux lookout found and info added\n",
      "alta floresta found and info added\n",
      "kaka found and info added\n",
      "dilla found and info added\n",
      "severnyy found and info added\n",
      "satitoa: was not found, skipping....\n",
      "evensk found and info added\n",
      "nogent-le-rotrou found and info added\n",
      "lorengau found and info added\n",
      "bredasdorp found and info added\n",
      "necochea found and info added\n",
      "balikpapan found and info added\n",
      "wanaka found and info added\n",
      "tiksi found and info added\n",
      "gizo found and info added\n",
      "casablanca found and info added\n",
      "dwarka found and info added\n",
      "kitgum found and info added\n",
      "attawapiskat: was not found, skipping....\n",
      "alabino found and info added\n",
      "monrovia found and info added\n",
      "margate found and info added\n",
      "talnakh found and info added\n",
      "rio gallegos found and info added\n",
      "conceicao da barra found and info added\n",
      "svetlogorsk found and info added\n",
      "mafinga found and info added\n",
      "raga found and info added\n",
      "provideniya found and info added\n",
      "puerto leguizamo found and info added\n",
      "thompson found and info added\n",
      "kaitangata found and info added\n",
      "aklavik found and info added\n",
      "kadykchan: was not found, skipping....\n",
      "najran found and info added\n",
      "avarua found and info added\n",
      "halalo: was not found, skipping....\n",
      "guanambi found and info added\n",
      "tasiilaq found and info added\n",
      "tynda found and info added\n",
      "sur found and info added\n",
      "yefira: was not found, skipping....\n",
      "stepnyak found and info added\n",
      "ola found and info added\n",
      "pringsewu found and info added\n",
      "boddam found and info added\n",
      "seoul found and info added\n",
      "yunjinghong: was not found, skipping....\n",
      "prince rupert found and info added\n",
      "hithadhoo found and info added\n",
      "puri found and info added\n",
      "lakatoro found and info added\n",
      "hoi an found and info added\n",
      "tumannyy: was not found, skipping....\n",
      "ucluelet found and info added\n",
      "lagoa found and info added\n",
      "north bend found and info added\n",
      "nantucket found and info added\n",
      "lebu found and info added\n",
      "galle found and info added\n",
      "rubtsovsk found and info added\n",
      "williamsport found and info added\n",
      "tuktoyaktuk found and info added\n",
      "klaksvik found and info added\n",
      "bandarbeyla found and info added\n",
      "marsabit found and info added\n",
      "lunavada found and info added\n",
      "watertown found and info added\n",
      "uthai thani found and info added\n",
      "clyde river found and info added\n",
      "aleksandrovskoye found and info added\n",
      "alofi found and info added\n",
      "mayor pablo lagerenza found and info added\n",
      "wulanhaote: was not found, skipping....\n",
      "szentgotthard found and info added\n",
      "kinlochleven found and info added\n",
      "potchefstroom found and info added\n",
      "minatitlan found and info added\n",
      "iwaki found and info added\n",
      "luvianos found and info added\n",
      "columbia found and info added\n",
      "sinnamary found and info added\n",
      "taltal found and info added\n",
      "tall kayf found and info added\n",
      "victoria found and info added\n",
      "pontian kecil found and info added\n",
      "guerrero negro found and info added\n",
      "evenskjaer: was not found, skipping....\n",
      "rungata: was not found, skipping....\n",
      "galich found and info added\n",
      "bluff found and info added\n",
      "port blair found and info added\n",
      "bengkulu found and info added\n",
      "festus found and info added\n",
      "la ronge found and info added\n",
      "zivinice found and info added\n",
      "mizdah found and info added\n",
      "carolina found and info added\n",
      "nome found and info added\n",
      "geraldton found and info added\n",
      "nhulunbuy found and info added\n",
      "derzhavinsk found and info added\n",
      "alekseyevsk found and info added\n",
      "broome found and info added\n",
      "umea found and info added\n",
      "juneau found and info added\n",
      "okha found and info added\n",
      "abbeville found and info added\n",
      "khakhea found and info added\n"
     ]
    },
    {
     "name": "stdout",
     "output_type": "stream",
     "text": [
      "verkhnyaya inta found and info added\n",
      "kedrovyy found and info added\n",
      "codrington found and info added\n",
      "haines junction found and info added\n",
      "uruacu found and info added\n",
      "hobyo found and info added\n",
      "batsfjord found and info added\n",
      "miramar found and info added\n",
      "laranjeiras do sul found and info added\n",
      "pevek found and info added\n",
      "barra do corda found and info added\n",
      "amga found and info added\n",
      "mocuba found and info added\n",
      "son la found and info added\n",
      "nortelandia found and info added\n",
      "tsihombe: was not found, skipping....\n",
      "tubruq: was not found, skipping....\n",
      "nikolskoye found and info added\n",
      "almaznyy found and info added\n",
      "dawson found and info added\n",
      "san quintin found and info added\n",
      "ishinomaki found and info added\n",
      "ribeira grande found and info added\n",
      "gerede found and info added\n",
      "airai found and info added\n",
      "maulvi bazar: was not found, skipping....\n",
      "fort-shevchenko found and info added\n",
      "banda aceh found and info added\n",
      "the pas found and info added\n",
      "richards bay found and info added\n",
      "bhag found and info added\n",
      "fairbanks found and info added\n",
      "saint-pierre found and info added\n",
      "terney found and info added\n",
      "alice springs found and info added\n",
      "tiznit found and info added\n",
      "matay found and info added\n",
      "namatanai found and info added\n",
      "jacareacanga found and info added\n",
      "bulgan found and info added\n",
      "itoman found and info added\n",
      "aire-sur-la-lys found and info added\n",
      "batemans bay found and info added\n",
      "pemangkat found and info added\n",
      "palabuhanratu: was not found, skipping....\n",
      "faanui found and info added\n",
      "tagab found and info added\n",
      "maraa found and info added\n",
      "soyaux found and info added\n",
      "faya found and info added\n",
      "brigantine found and info added\n",
      "seesen found and info added\n",
      "port macquarie found and info added\n",
      "belushya guba: was not found, skipping....\n",
      "komsomolskiy found and info added\n",
      "dawei found and info added\n",
      "sitka found and info added\n",
      "saint anthony found and info added\n",
      "kununurra found and info added\n",
      "uige found and info added\n",
      "kano found and info added\n",
      "chicama found and info added\n",
      "elsterwerda found and info added\n",
      "oksfjord found and info added\n",
      "luanda found and info added\n",
      "afsin found and info added\n",
      "boyuibe found and info added\n",
      "portsmouth found and info added\n",
      "bambous virieux found and info added\n",
      "tessalit found and info added\n",
      "saint-georges found and info added\n",
      "hameenlinna found and info added\n",
      "husavik found and info added\n",
      "ilawe found and info added\n",
      "tigil found and info added\n",
      "sredniy ikorets found and info added\n",
      "tinskoy found and info added\n",
      "port hardy found and info added\n",
      "chase found and info added\n",
      "ketchikan found and info added\n",
      "tuma found and info added\n",
      "lazaro cardenas found and info added\n",
      "otane found and info added\n",
      "tommot found and info added\n",
      "turukhansk found and info added\n",
      "zlynka found and info added\n",
      "iqaluit found and info added\n",
      "espanola found and info added\n",
      "beringovskiy found and info added\n",
      "pemberton found and info added\n",
      "uren found and info added\n",
      "amot found and info added\n",
      "gold coast found and info added\n",
      "menongue found and info added\n",
      "waipawa found and info added\n",
      "sao filipe found and info added\n",
      "yakeshi found and info added\n",
      "kabansk found and info added\n",
      "pasighat found and info added\n",
      "pangody found and info added\n",
      "panjwin: was not found, skipping....\n",
      "sukhoverkovo: was not found, skipping....\n",
      "mahadday weyne: was not found, skipping....\n",
      "cockburn town found and info added\n",
      "kautokeino found and info added\n",
      "yar-sale found and info added\n",
      "umzimvubu: was not found, skipping....\n",
      "nanortalik found and info added\n",
      "malartic found and info added\n",
      "mys shmidta: was not found, skipping....\n",
      "sterling found and info added\n",
      "toliary: was not found, skipping....\n",
      "immenstadt found and info added\n",
      "jabiru: was not found, skipping....\n",
      "gornopravdinsk found and info added\n",
      "farmington found and info added\n",
      "pangnirtung found and info added\n",
      "honavar found and info added\n",
      "hami found and info added\n",
      "olavarria found and info added\n",
      "keningau found and info added\n",
      "tarko-sale found and info added\n",
      "acapulco found and info added\n",
      "general roca found and info added\n",
      "itarema found and info added\n",
      "fortuna found and info added\n",
      "ca mau found and info added\n",
      "mount gambier found and info added\n",
      "majene found and info added\n",
      "kamloops found and info added\n",
      "fecamp found and info added\n",
      "henties bay found and info added\n",
      "laguna found and info added\n",
      "tautira found and info added\n",
      "skibbereen found and info added\n",
      "surt found and info added\n",
      "nemuro found and info added\n",
      "thinadhoo found and info added\n",
      "marsh harbour found and info added\n",
      "atakpame found and info added\n",
      "nago found and info added\n",
      "yerbogachen found and info added\n",
      "naples found and info added\n",
      "freeport found and info added\n",
      "chara found and info added\n",
      "walvis bay found and info added\n",
      "craig found and info added\n",
      "aswan found and info added\n",
      "fukue found and info added\n",
      "cayenne found and info added\n",
      "gamba found and info added\n",
      "durban found and info added\n",
      "romitan found and info added\n",
      "le pradet found and info added\n",
      "eurajoki found and info added\n",
      "suluq found and info added\n",
      "gravdal found and info added\n",
      "mahdalynivka found and info added\n",
      "starogard gdanski found and info added\n",
      "shubarshi found and info added\n",
      "kidal found and info added\n",
      "flin flon found and info added\n",
      "gresham found and info added\n",
      "santa rosa found and info added\n",
      "muisne found and info added\n",
      "kazalinsk: was not found, skipping....\n",
      "constitucion found and info added\n",
      "pisco found and info added\n",
      "mutare found and info added\n",
      "bucerias found and info added\n",
      "nguru found and info added\n",
      "rio grande found and info added\n",
      "bairiki found and info added\n",
      "nchelenge found and info added\n",
      "palmer found and info added\n",
      "fort nelson found and info added\n",
      "harper found and info added\n",
      "yaan found and info added\n",
      "nanfeng found and info added\n",
      "kashi found and info added\n",
      "vanavara found and info added\n",
      "diofior found and info added\n",
      "pacific grove found and info added\n",
      "tambopata found and info added\n",
      "salta found and info added\n",
      "amazar found and info added\n",
      "tibagi found and info added\n",
      "ballina found and info added\n",
      "gat found and info added\n",
      "altona found and info added\n",
      "gorodovikovsk found and info added\n",
      "akdagmadeni found and info added\n",
      "krasnovishersk found and info added\n",
      "kisangani found and info added\n",
      "adrar found and info added\n",
      "san jose found and info added\n",
      "saleaula: was not found, skipping....\n",
      "tura found and info added\n",
      "coquimbo found and info added\n",
      "sambava found and info added\n",
      "dingle found and info added\n",
      "nouadhibou found and info added\n",
      "aasiaat found and info added\n",
      "msanga found and info added\n",
      "tasbuget: was not found, skipping....\n",
      "moerai found and info added\n",
      "pampierstad found and info added\n",
      "katsuura found and info added\n",
      "lavrentiya found and info added\n",
      "chuy found and info added\n",
      "santa found and info added\n",
      "karwar found and info added\n",
      "sistranda found and info added\n",
      "ludvika found and info added\n",
      "lompoc found and info added\n",
      "narsipatnam found and info added\n",
      "kangaatsiaq found and info added\n",
      "vangazi found and info added\n",
      "russell found and info added\n",
      "dobson found and info added\n",
      "kalianget found and info added\n",
      "darnah found and info added\n",
      "karratha found and info added\n",
      "antalaha found and info added\n",
      "libreville found and info added\n",
      "bertoua found and info added\n",
      "srednekolymsk found and info added\n",
      "kahului found and info added\n",
      "esperance found and info added\n",
      "gurgan: was not found, skipping....\n",
      "rabat found and info added\n",
      "diamantino found and info added\n",
      "quelimane found and info added\n",
      "shu found and info added\n",
      "ravar found and info added\n",
      "linhares found and info added\n",
      "altay found and info added\n",
      "shingu found and info added\n",
      "hay river found and info added\n",
      "olafsvik found and info added\n",
      "guantanamo found and info added\n",
      "victor harbor found and info added\n",
      "hastings found and info added\n",
      "tadine found and info added\n",
      "camacha found and info added\n",
      "neubrandenburg found and info added\n",
      "deyang found and info added\n",
      "ranau found and info added\n",
      "kavaratti found and info added\n",
      "urucui found and info added\n",
      "marrakesh found and info added\n",
      "tabou found and info added\n",
      "kumluca found and info added\n",
      "cassilandia found and info added\n",
      "ostersund found and info added\n",
      "salinopolis found and info added\n",
      "bluefield found and info added\n",
      "lufilufi found and info added\n",
      "cedar city found and info added\n",
      "namibe found and info added\n",
      "potam found and info added\n",
      "dalhousie found and info added\n",
      "teguise found and info added\n",
      "karamay: was not found, skipping....\n",
      "zabaykalsk found and info added\n",
      "half moon bay found and info added\n",
      "gorno-chuyskiy: was not found, skipping....\n",
      "kamien pomorski found and info added\n"
     ]
    },
    {
     "name": "stdout",
     "output_type": "stream",
     "text": [
      "quba found and info added\n",
      "kruisfontein found and info added\n",
      "northfield found and info added\n",
      "portalegre found and info added\n",
      "nioro found and info added\n",
      "innisfail found and info added\n",
      "kintampo found and info added\n",
      "sao joao da barra found and info added\n",
      "mantua found and info added\n",
      "urdzhar: was not found, skipping....\n",
      "belaya gora found and info added\n",
      "lodja found and info added\n",
      "kamenka found and info added\n",
      "draguignan found and info added\n",
      "berlevag found and info added\n",
      "igarka found and info added\n",
      "emerald found and info added\n",
      "sisophon found and info added\n",
      "warrington found and info added\n",
      "fort abbas found and info added\n",
      "vylgort: was not found, skipping....\n",
      "dunedin found and info added\n",
      "severo-yeniseyskiy found and info added\n",
      "macusani found and info added\n",
      "pyinmana found and info added\n",
      "marathon found and info added\n",
      "dolbeau: was not found, skipping....\n",
      "sonoma found and info added\n",
      "dongzhen found and info added\n",
      "asau found and info added\n",
      "nelson bay found and info added\n",
      "vilhena found and info added\n",
      "tlahualilo: was not found, skipping....\n",
      "aquiraz found and info added\n",
      "kirkwall found and info added\n",
      "wanning found and info added\n",
      "talcahuano found and info added\n",
      "stranda found and info added\n",
      "flinders found and info added\n",
      "tinqueux found and info added\n",
      "hofn found and info added\n",
      "college found and info added\n",
      "beyneu found and info added\n",
      "ternate found and info added\n",
      "erzin found and info added\n",
      "leningradskiy found and info added\n",
      "girona found and info added\n",
      "pishin found and info added\n",
      "estevan found and info added\n",
      "shenjiamen found and info added\n",
      "kirakira found and info added\n",
      "carutapera found and info added\n",
      "alice found and info added\n",
      "filingue found and info added\n",
      "mount isa found and info added\n",
      "ripanj found and info added\n",
      "sabzevar found and info added\n",
      "oistins found and info added\n",
      "melfi found and info added\n",
      "matagami found and info added\n",
      "port-cartier found and info added\n",
      "balabac found and info added\n",
      "barabai found and info added\n",
      "buchanan found and info added\n",
      "mirnyy found and info added\n",
      "port moresby found and info added\n",
      "nizhneyansk: was not found, skipping....\n",
      "tanda found and info added\n",
      "palauig found and info added\n",
      "paveh found and info added\n",
      "jatai found and info added\n",
      "caravelas found and info added\n",
      "den helder found and info added\n",
      "kampot found and info added\n",
      "nguiu: was not found, skipping....\n",
      "madimba found and info added\n",
      "poletayevo found and info added\n",
      "sherbakul found and info added\n",
      "carapegua found and info added\n",
      "japura found and info added\n",
      "kloulklubed found and info added\n",
      "fevralsk: was not found, skipping....\n",
      "songjianghe found and info added\n",
      "ilheus found and info added\n",
      "bereznik found and info added\n",
      "correntina found and info added\n",
      "mackenzie found and info added\n",
      "souillac found and info added\n",
      "misratah found and info added\n",
      "friesach found and info added\n",
      "sibu found and info added\n",
      "portmore found and info added\n"
     ]
    }
   ],
   "source": [
    "unit = 'imperial'\n",
    "url = f\"http://api.openweathermap.org/data/2.5/weather?appid={weather_api_key}&units={unit}&q=\"\n",
    "temperature =[]\n",
    "humidity = []\n",
    "cloudiness = []\n",
    "windspeed = []\n",
    "lat = []\n",
    "lon = []\n",
    "foundcities = []\n",
    "country =[]\n",
    "date =[]\n",
    "for city in cities:\n",
    "    weathercheck = requests.get(url+city).json()\n",
    "    \n",
    "    try:\n",
    "        foundcities.append(weathercheck[\"name\"])\n",
    "        temperature.append(weathercheck[\"main\"][\"temp_max\"])\n",
    "        humidity.append(weathercheck[\"main\"][\"humidity\"])\n",
    "        cloudiness.append(weathercheck[\"clouds\"][\"all\"])\n",
    "        windspeed.append(weathercheck[\"wind\"][\"speed\"])\n",
    "        lat.append(weathercheck[\"coord\"][\"lat\"])\n",
    "        lon.append(weathercheck[\"coord\"][\"lon\"])\n",
    "        country.append(weathercheck[\"sys\"][\"country\"])\n",
    "        date.append(weathercheck[\"dt\"])\n",
    "        print(f'{city} found and info added')\n",
    "    except:\n",
    "        print(f'{city}: was not found, skipping....')\n",
    "        pass\n",
    "\n"
   ]
  },
  {
   "cell_type": "markdown",
   "metadata": {},
   "source": [
    "### Convert Raw Data to DataFrame\n",
    "* Export the city data into a .csv.\n",
    "* Display the DataFrame"
   ]
  },
  {
   "cell_type": "code",
   "execution_count": 4,
   "metadata": {},
   "outputs": [],
   "source": [
    "CityWeather_df = pd.DataFrame({\"City\": foundcities,\n",
    "                               \"Country\": country,\n",
    "                                \"Temperature\": temperature,\n",
    "                                \"Humidity\": humidity,\n",
    "                                \"Cloudiness\": cloudiness,\n",
    "                                \"Windspeed\":windspeed,\n",
    "                                \"Date\": date,\n",
    "                                \"Longitude\": lon,\n",
    "                                \"Latitude\": lat\n",
    "                               }\n",
    "                             )"
   ]
  },
  {
   "cell_type": "code",
   "execution_count": 5,
   "metadata": {},
   "outputs": [
    {
     "name": "stdout",
     "output_type": "stream",
     "text": [
      "http://api.openweathermap.org/data/2.5/weather?appid=9c89657fc05e20c4179135ce70f1a791&units=imperial&q=portmore\n"
     ]
    },
    {
     "data": {
      "text/html": [
       "<div>\n",
       "<style scoped>\n",
       "    .dataframe tbody tr th:only-of-type {\n",
       "        vertical-align: middle;\n",
       "    }\n",
       "\n",
       "    .dataframe tbody tr th {\n",
       "        vertical-align: top;\n",
       "    }\n",
       "\n",
       "    .dataframe thead th {\n",
       "        text-align: right;\n",
       "    }\n",
       "</style>\n",
       "<table border=\"1\" class=\"dataframe\">\n",
       "  <thead>\n",
       "    <tr style=\"text-align: right;\">\n",
       "      <th></th>\n",
       "      <th>City</th>\n",
       "      <th>Country</th>\n",
       "      <th>Temperature</th>\n",
       "      <th>Humidity</th>\n",
       "      <th>Cloudiness</th>\n",
       "      <th>Windspeed</th>\n",
       "      <th>Date</th>\n",
       "      <th>Longitude</th>\n",
       "      <th>Latitude</th>\n",
       "    </tr>\n",
       "  </thead>\n",
       "  <tbody>\n",
       "    <tr>\n",
       "      <th>0</th>\n",
       "      <td>Luwuk</td>\n",
       "      <td>ID</td>\n",
       "      <td>77.49</td>\n",
       "      <td>80</td>\n",
       "      <td>52</td>\n",
       "      <td>5.61</td>\n",
       "      <td>1592581443</td>\n",
       "      <td>122.79</td>\n",
       "      <td>-0.95</td>\n",
       "    </tr>\n",
       "    <tr>\n",
       "      <th>1</th>\n",
       "      <td>Hamilton</td>\n",
       "      <td>US</td>\n",
       "      <td>82.00</td>\n",
       "      <td>69</td>\n",
       "      <td>1</td>\n",
       "      <td>3.36</td>\n",
       "      <td>1592580663</td>\n",
       "      <td>-84.53</td>\n",
       "      <td>39.18</td>\n",
       "    </tr>\n",
       "    <tr>\n",
       "      <th>2</th>\n",
       "      <td>Yushu</td>\n",
       "      <td>CN</td>\n",
       "      <td>64.00</td>\n",
       "      <td>72</td>\n",
       "      <td>99</td>\n",
       "      <td>8.05</td>\n",
       "      <td>1592581443</td>\n",
       "      <td>126.53</td>\n",
       "      <td>44.80</td>\n",
       "    </tr>\n",
       "    <tr>\n",
       "      <th>3</th>\n",
       "      <td>Paamiut</td>\n",
       "      <td>GL</td>\n",
       "      <td>37.18</td>\n",
       "      <td>92</td>\n",
       "      <td>100</td>\n",
       "      <td>8.59</td>\n",
       "      <td>1592581016</td>\n",
       "      <td>-49.67</td>\n",
       "      <td>61.99</td>\n",
       "    </tr>\n",
       "    <tr>\n",
       "      <th>4</th>\n",
       "      <td>Charters Towers</td>\n",
       "      <td>AU</td>\n",
       "      <td>60.46</td>\n",
       "      <td>80</td>\n",
       "      <td>20</td>\n",
       "      <td>6.35</td>\n",
       "      <td>1592581075</td>\n",
       "      <td>146.27</td>\n",
       "      <td>-20.10</td>\n",
       "    </tr>\n",
       "    <tr>\n",
       "      <th>...</th>\n",
       "      <td>...</td>\n",
       "      <td>...</td>\n",
       "      <td>...</td>\n",
       "      <td>...</td>\n",
       "      <td>...</td>\n",
       "      <td>...</td>\n",
       "      <td>...</td>\n",
       "      <td>...</td>\n",
       "      <td>...</td>\n",
       "    </tr>\n",
       "    <tr>\n",
       "      <th>572</th>\n",
       "      <td>Souillac</td>\n",
       "      <td>MU</td>\n",
       "      <td>71.60</td>\n",
       "      <td>68</td>\n",
       "      <td>75</td>\n",
       "      <td>16.11</td>\n",
       "      <td>1592581550</td>\n",
       "      <td>57.52</td>\n",
       "      <td>-20.52</td>\n",
       "    </tr>\n",
       "    <tr>\n",
       "      <th>573</th>\n",
       "      <td>Misratah</td>\n",
       "      <td>LY</td>\n",
       "      <td>94.77</td>\n",
       "      <td>22</td>\n",
       "      <td>0</td>\n",
       "      <td>11.81</td>\n",
       "      <td>1592581550</td>\n",
       "      <td>15.09</td>\n",
       "      <td>32.38</td>\n",
       "    </tr>\n",
       "    <tr>\n",
       "      <th>574</th>\n",
       "      <td>Friesach</td>\n",
       "      <td>AT</td>\n",
       "      <td>68.00</td>\n",
       "      <td>60</td>\n",
       "      <td>75</td>\n",
       "      <td>6.93</td>\n",
       "      <td>1592581551</td>\n",
       "      <td>14.41</td>\n",
       "      <td>46.96</td>\n",
       "    </tr>\n",
       "    <tr>\n",
       "      <th>575</th>\n",
       "      <td>Sibu</td>\n",
       "      <td>MY</td>\n",
       "      <td>77.00</td>\n",
       "      <td>94</td>\n",
       "      <td>40</td>\n",
       "      <td>5.82</td>\n",
       "      <td>1592581551</td>\n",
       "      <td>111.82</td>\n",
       "      <td>2.30</td>\n",
       "    </tr>\n",
       "    <tr>\n",
       "      <th>576</th>\n",
       "      <td>Portmore</td>\n",
       "      <td>JM</td>\n",
       "      <td>87.80</td>\n",
       "      <td>70</td>\n",
       "      <td>20</td>\n",
       "      <td>19.46</td>\n",
       "      <td>1592581464</td>\n",
       "      <td>-76.87</td>\n",
       "      <td>17.97</td>\n",
       "    </tr>\n",
       "  </tbody>\n",
       "</table>\n",
       "<p>577 rows × 9 columns</p>\n",
       "</div>"
      ],
      "text/plain": [
       "                City Country  Temperature  Humidity  Cloudiness  Windspeed  \\\n",
       "0              Luwuk      ID        77.49        80          52       5.61   \n",
       "1           Hamilton      US        82.00        69           1       3.36   \n",
       "2              Yushu      CN        64.00        72          99       8.05   \n",
       "3            Paamiut      GL        37.18        92         100       8.59   \n",
       "4    Charters Towers      AU        60.46        80          20       6.35   \n",
       "..               ...     ...          ...       ...         ...        ...   \n",
       "572         Souillac      MU        71.60        68          75      16.11   \n",
       "573         Misratah      LY        94.77        22           0      11.81   \n",
       "574         Friesach      AT        68.00        60          75       6.93   \n",
       "575             Sibu      MY        77.00        94          40       5.82   \n",
       "576         Portmore      JM        87.80        70          20      19.46   \n",
       "\n",
       "           Date  Longitude  Latitude  \n",
       "0    1592581443     122.79     -0.95  \n",
       "1    1592580663     -84.53     39.18  \n",
       "2    1592581443     126.53     44.80  \n",
       "3    1592581016     -49.67     61.99  \n",
       "4    1592581075     146.27    -20.10  \n",
       "..          ...        ...       ...  \n",
       "572  1592581550      57.52    -20.52  \n",
       "573  1592581550      15.09     32.38  \n",
       "574  1592581551      14.41     46.96  \n",
       "575  1592581551     111.82      2.30  \n",
       "576  1592581464     -76.87     17.97  \n",
       "\n",
       "[577 rows x 9 columns]"
      ]
     },
     "execution_count": 5,
     "metadata": {},
     "output_type": "execute_result"
    }
   ],
   "source": [
    "CityWeather_df.to_csv(r'/Users/specky3512/GitHub/python-API-challenge/output_data/CityWeather.csv', index = False)\n",
    "print(url+city)\n",
    "CityWeather_df"
   ]
  },
  {
   "cell_type": "markdown",
   "metadata": {},
   "source": [
    "## Inspect the data and remove the cities where the humidity > 100%.\n",
    "----\n",
    "Skip this step if there are no cities that have humidity > 100%. "
   ]
  },
  {
   "cell_type": "code",
   "execution_count": 6,
   "metadata": {},
   "outputs": [],
   "source": [
    "toohumid = CityWeather_df.loc[CityWeather_df['Humidity'] > 100]\n"
   ]
  },
  {
   "cell_type": "code",
   "execution_count": 7,
   "metadata": {},
   "outputs": [
    {
     "name": "stdout",
     "output_type": "stream",
     "text": [
      "There are 0 entries with humidity over 100%\n"
     ]
    }
   ],
   "source": [
    "#  Get the indices of cities that have humidity over 100%.\n",
    "print(f'There are {len(toohumid)} entries with humidity over 100%')"
   ]
  },
  {
   "cell_type": "code",
   "execution_count": 8,
   "metadata": {},
   "outputs": [
    {
     "name": "stdout",
     "output_type": "stream",
     "text": [
      "City           577\n",
      "Country        577\n",
      "Temperature    577\n",
      "Humidity       577\n",
      "Cloudiness     577\n",
      "Windspeed      577\n",
      "Date           577\n",
      "Longitude      577\n",
      "Latitude       577\n",
      "dtype: int64\n"
     ]
    },
    {
     "data": {
      "text/html": [
       "<div>\n",
       "<style scoped>\n",
       "    .dataframe tbody tr th:only-of-type {\n",
       "        vertical-align: middle;\n",
       "    }\n",
       "\n",
       "    .dataframe tbody tr th {\n",
       "        vertical-align: top;\n",
       "    }\n",
       "\n",
       "    .dataframe thead th {\n",
       "        text-align: right;\n",
       "    }\n",
       "</style>\n",
       "<table border=\"1\" class=\"dataframe\">\n",
       "  <thead>\n",
       "    <tr style=\"text-align: right;\">\n",
       "      <th></th>\n",
       "      <th>Temperature</th>\n",
       "      <th>Humidity</th>\n",
       "      <th>Cloudiness</th>\n",
       "      <th>Windspeed</th>\n",
       "      <th>Date</th>\n",
       "      <th>Longitude</th>\n",
       "      <th>Latitude</th>\n",
       "    </tr>\n",
       "  </thead>\n",
       "  <tbody>\n",
       "    <tr>\n",
       "      <th>count</th>\n",
       "      <td>577.000000</td>\n",
       "      <td>577.000000</td>\n",
       "      <td>577.000000</td>\n",
       "      <td>577.000000</td>\n",
       "      <td>5.770000e+02</td>\n",
       "      <td>577.000000</td>\n",
       "      <td>577.000000</td>\n",
       "    </tr>\n",
       "    <tr>\n",
       "      <th>mean</th>\n",
       "      <td>70.047868</td>\n",
       "      <td>66.511265</td>\n",
       "      <td>50.870017</td>\n",
       "      <td>8.025321</td>\n",
       "      <td>1.592581e+09</td>\n",
       "      <td>16.604229</td>\n",
       "      <td>21.845182</td>\n",
       "    </tr>\n",
       "    <tr>\n",
       "      <th>std</th>\n",
       "      <td>15.084249</td>\n",
       "      <td>22.292959</td>\n",
       "      <td>35.856806</td>\n",
       "      <td>5.252952</td>\n",
       "      <td>2.546927e+02</td>\n",
       "      <td>89.959474</td>\n",
       "      <td>33.526113</td>\n",
       "    </tr>\n",
       "    <tr>\n",
       "      <th>min</th>\n",
       "      <td>30.200000</td>\n",
       "      <td>1.000000</td>\n",
       "      <td>0.000000</td>\n",
       "      <td>0.400000</td>\n",
       "      <td>1.592581e+09</td>\n",
       "      <td>-175.200000</td>\n",
       "      <td>-54.800000</td>\n",
       "    </tr>\n",
       "    <tr>\n",
       "      <th>25%</th>\n",
       "      <td>59.000000</td>\n",
       "      <td>53.000000</td>\n",
       "      <td>20.000000</td>\n",
       "      <td>3.960000</td>\n",
       "      <td>1.592581e+09</td>\n",
       "      <td>-58.740000</td>\n",
       "      <td>-7.050000</td>\n",
       "    </tr>\n",
       "    <tr>\n",
       "      <th>50%</th>\n",
       "      <td>72.570000</td>\n",
       "      <td>71.000000</td>\n",
       "      <td>53.000000</td>\n",
       "      <td>6.930000</td>\n",
       "      <td>1.592581e+09</td>\n",
       "      <td>18.650000</td>\n",
       "      <td>28.420000</td>\n",
       "    </tr>\n",
       "    <tr>\n",
       "      <th>75%</th>\n",
       "      <td>80.910000</td>\n",
       "      <td>84.000000</td>\n",
       "      <td>82.000000</td>\n",
       "      <td>10.740000</td>\n",
       "      <td>1.592582e+09</td>\n",
       "      <td>95.320000</td>\n",
       "      <td>50.680000</td>\n",
       "    </tr>\n",
       "    <tr>\n",
       "      <th>max</th>\n",
       "      <td>115.860000</td>\n",
       "      <td>100.000000</td>\n",
       "      <td>100.000000</td>\n",
       "      <td>29.710000</td>\n",
       "      <td>1.592582e+09</td>\n",
       "      <td>179.320000</td>\n",
       "      <td>78.220000</td>\n",
       "    </tr>\n",
       "  </tbody>\n",
       "</table>\n",
       "</div>"
      ],
      "text/plain": [
       "       Temperature    Humidity  Cloudiness   Windspeed          Date  \\\n",
       "count   577.000000  577.000000  577.000000  577.000000  5.770000e+02   \n",
       "mean     70.047868   66.511265   50.870017    8.025321  1.592581e+09   \n",
       "std      15.084249   22.292959   35.856806    5.252952  2.546927e+02   \n",
       "min      30.200000    1.000000    0.000000    0.400000  1.592581e+09   \n",
       "25%      59.000000   53.000000   20.000000    3.960000  1.592581e+09   \n",
       "50%      72.570000   71.000000   53.000000    6.930000  1.592581e+09   \n",
       "75%      80.910000   84.000000   82.000000   10.740000  1.592582e+09   \n",
       "max     115.860000  100.000000  100.000000   29.710000  1.592582e+09   \n",
       "\n",
       "        Longitude    Latitude  \n",
       "count  577.000000  577.000000  \n",
       "mean    16.604229   21.845182  \n",
       "std     89.959474   33.526113  \n",
       "min   -175.200000  -54.800000  \n",
       "25%    -58.740000   -7.050000  \n",
       "50%     18.650000   28.420000  \n",
       "75%     95.320000   50.680000  \n",
       "max    179.320000   78.220000  "
      ]
     },
     "execution_count": 8,
     "metadata": {},
     "output_type": "execute_result"
    }
   ],
   "source": [
    "# Make a new DataFrame equal to the city data to drop all humidity outliers by index.\n",
    "# Passing \"inplace=False\" will make a copy of the city_data DataFrame, which we call \"clean_city_data\".\n",
    "counts = CityWeather_df.count()\n",
    "countsinfo = CityWeather_df.describe()\n",
    "print(counts)\n",
    "countsinfo\n"
   ]
  },
  {
   "cell_type": "code",
   "execution_count": 9,
   "metadata": {},
   "outputs": [
    {
     "data": {
      "text/html": [
       "<div>\n",
       "<style scoped>\n",
       "    .dataframe tbody tr th:only-of-type {\n",
       "        vertical-align: middle;\n",
       "    }\n",
       "\n",
       "    .dataframe tbody tr th {\n",
       "        vertical-align: top;\n",
       "    }\n",
       "\n",
       "    .dataframe thead th {\n",
       "        text-align: right;\n",
       "    }\n",
       "</style>\n",
       "<table border=\"1\" class=\"dataframe\">\n",
       "  <thead>\n",
       "    <tr style=\"text-align: right;\">\n",
       "      <th></th>\n",
       "      <th>City</th>\n",
       "      <th>Latitude</th>\n",
       "      <th>Temperature</th>\n",
       "      <th>Humidity</th>\n",
       "      <th>Cloudiness</th>\n",
       "      <th>Windspeed</th>\n",
       "    </tr>\n",
       "  </thead>\n",
       "  <tbody>\n",
       "    <tr>\n",
       "      <th>0</th>\n",
       "      <td>Luwuk</td>\n",
       "      <td>-0.95</td>\n",
       "      <td>77.49</td>\n",
       "      <td>80</td>\n",
       "      <td>52</td>\n",
       "      <td>5.61</td>\n",
       "    </tr>\n",
       "    <tr>\n",
       "      <th>1</th>\n",
       "      <td>Hamilton</td>\n",
       "      <td>39.18</td>\n",
       "      <td>82.00</td>\n",
       "      <td>69</td>\n",
       "      <td>1</td>\n",
       "      <td>3.36</td>\n",
       "    </tr>\n",
       "    <tr>\n",
       "      <th>2</th>\n",
       "      <td>Yushu</td>\n",
       "      <td>44.80</td>\n",
       "      <td>64.00</td>\n",
       "      <td>72</td>\n",
       "      <td>99</td>\n",
       "      <td>8.05</td>\n",
       "    </tr>\n",
       "    <tr>\n",
       "      <th>3</th>\n",
       "      <td>Paamiut</td>\n",
       "      <td>61.99</td>\n",
       "      <td>37.18</td>\n",
       "      <td>92</td>\n",
       "      <td>100</td>\n",
       "      <td>8.59</td>\n",
       "    </tr>\n",
       "    <tr>\n",
       "      <th>4</th>\n",
       "      <td>Charters Towers</td>\n",
       "      <td>-20.10</td>\n",
       "      <td>60.46</td>\n",
       "      <td>80</td>\n",
       "      <td>20</td>\n",
       "      <td>6.35</td>\n",
       "    </tr>\n",
       "    <tr>\n",
       "      <th>5</th>\n",
       "      <td>Udachny</td>\n",
       "      <td>66.42</td>\n",
       "      <td>63.68</td>\n",
       "      <td>58</td>\n",
       "      <td>78</td>\n",
       "      <td>10.13</td>\n",
       "    </tr>\n",
       "    <tr>\n",
       "      <th>6</th>\n",
       "      <td>Jamestown</td>\n",
       "      <td>42.10</td>\n",
       "      <td>75.00</td>\n",
       "      <td>68</td>\n",
       "      <td>1</td>\n",
       "      <td>3.29</td>\n",
       "    </tr>\n",
       "    <tr>\n",
       "      <th>7</th>\n",
       "      <td>Busselton</td>\n",
       "      <td>-33.65</td>\n",
       "      <td>46.99</td>\n",
       "      <td>76</td>\n",
       "      <td>40</td>\n",
       "      <td>8.88</td>\n",
       "    </tr>\n",
       "    <tr>\n",
       "      <th>8</th>\n",
       "      <td>Bethel</td>\n",
       "      <td>41.37</td>\n",
       "      <td>80.01</td>\n",
       "      <td>60</td>\n",
       "      <td>40</td>\n",
       "      <td>4.70</td>\n",
       "    </tr>\n",
       "    <tr>\n",
       "      <th>9</th>\n",
       "      <td>Saldanha</td>\n",
       "      <td>-33.01</td>\n",
       "      <td>77.00</td>\n",
       "      <td>29</td>\n",
       "      <td>0</td>\n",
       "      <td>12.75</td>\n",
       "    </tr>\n",
       "    <tr>\n",
       "      <th>10</th>\n",
       "      <td>Kapaa</td>\n",
       "      <td>22.08</td>\n",
       "      <td>77.00</td>\n",
       "      <td>78</td>\n",
       "      <td>75</td>\n",
       "      <td>16.11</td>\n",
       "    </tr>\n",
       "    <tr>\n",
       "      <th>11</th>\n",
       "      <td>Rikitea</td>\n",
       "      <td>-23.12</td>\n",
       "      <td>73.24</td>\n",
       "      <td>89</td>\n",
       "      <td>100</td>\n",
       "      <td>15.08</td>\n",
       "    </tr>\n",
       "    <tr>\n",
       "      <th>12</th>\n",
       "      <td>East London</td>\n",
       "      <td>-33.02</td>\n",
       "      <td>68.00</td>\n",
       "      <td>60</td>\n",
       "      <td>0</td>\n",
       "      <td>5.82</td>\n",
       "    </tr>\n",
       "    <tr>\n",
       "      <th>13</th>\n",
       "      <td>Makakilo City</td>\n",
       "      <td>21.35</td>\n",
       "      <td>75.20</td>\n",
       "      <td>88</td>\n",
       "      <td>75</td>\n",
       "      <td>14.50</td>\n",
       "    </tr>\n",
       "    <tr>\n",
       "      <th>14</th>\n",
       "      <td>Iporá</td>\n",
       "      <td>-16.44</td>\n",
       "      <td>81.91</td>\n",
       "      <td>41</td>\n",
       "      <td>67</td>\n",
       "      <td>6.31</td>\n",
       "    </tr>\n",
       "    <tr>\n",
       "      <th>15</th>\n",
       "      <td>Upernavik</td>\n",
       "      <td>72.79</td>\n",
       "      <td>36.64</td>\n",
       "      <td>82</td>\n",
       "      <td>1</td>\n",
       "      <td>9.48</td>\n",
       "    </tr>\n",
       "    <tr>\n",
       "      <th>16</th>\n",
       "      <td>Mar del Plata</td>\n",
       "      <td>-38.00</td>\n",
       "      <td>62.01</td>\n",
       "      <td>71</td>\n",
       "      <td>100</td>\n",
       "      <td>9.17</td>\n",
       "    </tr>\n",
       "    <tr>\n",
       "      <th>17</th>\n",
       "      <td>Cabo San Lucas</td>\n",
       "      <td>22.89</td>\n",
       "      <td>89.60</td>\n",
       "      <td>33</td>\n",
       "      <td>5</td>\n",
       "      <td>3.36</td>\n",
       "    </tr>\n",
       "    <tr>\n",
       "      <th>18</th>\n",
       "      <td>San Patricio</td>\n",
       "      <td>19.22</td>\n",
       "      <td>80.60</td>\n",
       "      <td>83</td>\n",
       "      <td>40</td>\n",
       "      <td>5.21</td>\n",
       "    </tr>\n",
       "    <tr>\n",
       "      <th>19</th>\n",
       "      <td>Ushuaia</td>\n",
       "      <td>-54.80</td>\n",
       "      <td>35.60</td>\n",
       "      <td>81</td>\n",
       "      <td>90</td>\n",
       "      <td>2.24</td>\n",
       "    </tr>\n",
       "  </tbody>\n",
       "</table>\n",
       "</div>"
      ],
      "text/plain": [
       "               City  Latitude  Temperature  Humidity  Cloudiness  Windspeed\n",
       "0             Luwuk     -0.95        77.49        80          52       5.61\n",
       "1          Hamilton     39.18        82.00        69           1       3.36\n",
       "2             Yushu     44.80        64.00        72          99       8.05\n",
       "3           Paamiut     61.99        37.18        92         100       8.59\n",
       "4   Charters Towers    -20.10        60.46        80          20       6.35\n",
       "5           Udachny     66.42        63.68        58          78      10.13\n",
       "6         Jamestown     42.10        75.00        68           1       3.29\n",
       "7         Busselton    -33.65        46.99        76          40       8.88\n",
       "8            Bethel     41.37        80.01        60          40       4.70\n",
       "9          Saldanha    -33.01        77.00        29           0      12.75\n",
       "10            Kapaa     22.08        77.00        78          75      16.11\n",
       "11          Rikitea    -23.12        73.24        89         100      15.08\n",
       "12      East London    -33.02        68.00        60           0       5.82\n",
       "13    Makakilo City     21.35        75.20        88          75      14.50\n",
       "14            Iporá    -16.44        81.91        41          67       6.31\n",
       "15        Upernavik     72.79        36.64        82           1       9.48\n",
       "16    Mar del Plata    -38.00        62.01        71         100       9.17\n",
       "17   Cabo San Lucas     22.89        89.60        33           5       3.36\n",
       "18     San Patricio     19.22        80.60        83          40       5.21\n",
       "19          Ushuaia    -54.80        35.60        81          90       2.24"
      ]
     },
     "execution_count": 9,
     "metadata": {},
     "output_type": "execute_result"
    }
   ],
   "source": [
    "# Extract relevant fields from the data frame\n",
    "scatterplotdata = CityWeather_df[['City', 'Latitude', 'Temperature', 'Humidity', 'Cloudiness', 'Windspeed']]\n",
    "\n",
    "# Export the City_Data into a csv\n",
    "scatterplotdata.to_csv(r'/Users/specky3512/GitHub/python-API-challenge/output_data/DataforScatterplots.csv', index = False)\n",
    "\n",
    "scatterplotdata.head(20)"
   ]
  },
  {
   "cell_type": "markdown",
   "metadata": {},
   "source": [
    "## Plotting the Data\n",
    "* Use proper labeling of the plots using plot titles (including date of analysis) and axes labels.\n",
    "* Save the plotted figures as .pngs."
   ]
  },
  {
   "cell_type": "markdown",
   "metadata": {},
   "source": [
    "## Latitude vs. Temperature Plot"
   ]
  },
  {
   "cell_type": "code",
   "execution_count": 12,
   "metadata": {
    "scrolled": true
   },
   "outputs": [
    {
     "data": {
      "image/png": "[encoded data removed]",
      "text/plain": [
       "<Figure size 432x288 with 1 Axes>"
      ]
     },
     "metadata": {
      "needs_background": "light"
     },
     "output_type": "display_data"
    }
   ],
   "source": [
    "x = scatterplotdata['Latitude']\n",
    "y1 = scatterplotdata['Temperature']\n",
    "plt.scatter(x,y1)\n",
    "plt.xlabel('Latitude')\n",
    "plt.ylabel('Temperature(°F)')\n",
    "plt.title(f'Latitude vs. Temperature {today}')\n",
    "plt.grid()\n",
    "plt.savefig(f'../output_data/Latitude vs. Temperature {today}.png')\n",
    "plt.show()\n"
   ]
  },
  {
   "cell_type": "markdown",
   "metadata": {},
   "source": [
    "## Latitude vs. Humidity Plot"
   ]
  },
  {
   "cell_type": "code",
   "execution_count": 13,
   "metadata": {},
   "outputs": [
    {
     "data": {
      "image/png": "[encoded data removed]",
      "text/plain": [
       "<Figure size 432x288 with 1 Axes>"
      ]
     },
     "metadata": {
      "needs_background": "light"
     },
     "output_type": "display_data"
    }
   ],
   "source": [
    "y2 = scatterplotdata['Humidity']\n",
    "plt.scatter(x,y2)\n",
    "plt.xlabel('Latitude')\n",
    "plt.ylabel('Humidity (%)')\n",
    "plt.title(f'Latitude vs. Humidity {today}')\n",
    "plt.grid()\n",
    "plt.savefig(f'../output_data/Latitude vs. Humidity {today}.png')\n",
    "plt.show()\n"
   ]
  },
  {
   "cell_type": "markdown",
   "metadata": {},
   "source": [
    "## Latitude vs. Cloudiness Plot"
   ]
  },
  {
   "cell_type": "code",
   "execution_count": 14,
   "metadata": {},
   "outputs": [
    {
     "data": {
      "image/png": "[encoded data removed]",
      "text/plain": [
       "<Figure size 432x288 with 1 Axes>"
      ]
     },
     "metadata": {
      "needs_background": "light"
     },
     "output_type": "display_data"
    }
   ],
   "source": [
    "y3 = scatterplotdata['Cloudiness']\n",
    "plt.scatter(x,y3)\n",
    "plt.xlabel('Latitude')\n",
    "plt.ylabel('Cloudiness (%)')\n",
    "plt.title(f'Latitude vs. Cloudiness {today}')\n",
    "plt.grid()\n",
    "plt.savefig(f'../output_data/Latitude vs. Cloudiness {today}.png')\n",
    "plt.show()"
   ]
  },
  {
   "cell_type": "markdown",
   "metadata": {},
   "source": [
    "## Latitude vs. Wind Speed Plot"
   ]
  },
  {
   "cell_type": "code",
   "execution_count": 15,
   "metadata": {},
   "outputs": [
    {
     "data": {
      "image/png": "[encoded data removed]",
      "text/plain": [
       "<Figure size 432x288 with 1 Axes>"
      ]
     },
     "metadata": {
      "needs_background": "light"
     },
     "output_type": "display_data"
    }
   ],
   "source": [
    "y4 = scatterplotdata['Windspeed']\n",
    "plt.scatter(x,y4)\n",
    "plt.xlabel('Latitude')\n",
    "plt.ylabel('Wind Speed (MPH)')\n",
    "plt.title(f'Latitude vs. Wind Speed {today}')\n",
    "plt.grid()\n",
    "plt.savefig(f'../output_data/Latitude vs. Wind Speed {today}.png')\n",
    "\n",
    "\n",
    "plt.show()"
   ]
  },
  {
   "cell_type": "markdown",
   "metadata": {},
   "source": [
    "## Linear Regression"
   ]
  },
  {
   "cell_type": "code",
   "execution_count": 16,
   "metadata": {},
   "outputs": [],
   "source": [
    "# OPTIONAL: Create a function to create Linear Regression plots\n",
    "def linerarregress(x,y,a,b,c):\n",
    "    (slope, intercept, rvalue, pvalue, stderr)=linregress(x,y)\n",
    "    regress_values = x * slope + intercept\n",
    "    line_eq = 'y=' + str(round(slope,2)) +'x+' + str(round(intercept,2))\n",
    "    plt.scatter(x,y, color='blue')\n",
    "    plt.plot(x,regress_values,\"r-\")\n",
    "    print(f'The r-square is {rvalue}')\n",
    "    print(line_eq)\n",
    "    plt.annotate(line_eq,(a,b),fontsize=15, color='red')\n",
    "    plt.grid()\n",
    "    plt.xlabel('Latitude')\n",
    "    plt.ylabel(f'{c}')"
   ]
  },
  {
   "cell_type": "code",
   "execution_count": 17,
   "metadata": {},
   "outputs": [],
   "source": [
    "# Create Northern and Southern Hemisphere DataFrames\n",
    "Northern = scatterplotdata[scatterplotdata['Latitude'] >= 0]\n",
    "\n",
    "Southern = scatterplotdata[scatterplotdata['Latitude'] < 0]\n"
   ]
  },
  {
   "cell_type": "markdown",
   "metadata": {},
   "source": [
    "####  Northern Hemisphere - Max Temp vs. Latitude Linear Regression"
   ]
  },
  {
   "cell_type": "code",
   "execution_count": 18,
   "metadata": {},
   "outputs": [
    {
     "name": "stdout",
     "output_type": "stream",
     "text": [
      "The r-square is -0.6891536363532188\n",
      "y=-0.53x+91.79\n"
     ]
    },
    {
     "data": {
      "image/png": "[encoded data removed]",
      "text/plain": [
       "<Figure size 432x288 with 1 Axes>"
      ]
     },
     "metadata": {
      "needs_background": "light"
     },
     "output_type": "display_data"
    }
   ],
   "source": [
    "x_north = Northern[\"Latitude\"]\n",
    "y_nTemp = Northern[\"Temperature\"]\n",
    "plt.scatter(x_north,y_nTemp)\n",
    "plt.title(f'NorthernLat vs Temp {today}')\n",
    "linerarregress(x_north,y_nTemp,15,40,\"Temperature(°F)\")\n",
    "plt.savefig(f'../output_data/NorthernLat vs Temp {today}.png')\n",
    "plt.show()"
   ]
  },
  {
   "cell_type": "markdown",
   "metadata": {},
   "source": [
    "The linear regression for the Northern Hemisphere vs Temp shows that as you move further north(larger Latitude) from the equator, that the temperature is cooler"
   ]
  },
  {
   "cell_type": "markdown",
   "metadata": {},
   "source": [
    "####  Southern Hemisphere - Max Temp vs. Latitude Linear Regression"
   ]
  },
  {
   "cell_type": "code",
   "execution_count": 19,
   "metadata": {
    "scrolled": true
   },
   "outputs": [
    {
     "name": "stdout",
     "output_type": "stream",
     "text": [
      "The r-square is 0.7855756031391028\n",
      "y=0.84x+86.73\n"
     ]
    },
    {
     "data": {
      "image/png": "[encoded data removed]",
      "text/plain": [
       "<Figure size 432x288 with 1 Axes>"
      ]
     },
     "metadata": {
      "needs_background": "light"
     },
     "output_type": "display_data"
    }
   ],
   "source": [
    "x_south = Southern[\"Latitude\"]\n",
    "y_sTemp = Southern[\"Temperature\"]\n",
    "plt.scatter(x_south, y_sTemp)\n",
    "plt.title(f'SouthernLat vs Temp {today}')\n",
    "linerarregress(x_south, y_sTemp,-55,80,\"Temperature(°F)\")\n",
    "plt.savefig(f'../output_data/SouthernLat vs Temp {today}.png')\n",
    "plt.show()"
   ]
  },
  {
   "cell_type": "markdown",
   "metadata": {},
   "source": [
    "In the above regression, you can see that the corralation is that as you move further south(more negitive Latitude) that the temperatures become cooler"
   ]
  },
  {
   "cell_type": "markdown",
   "metadata": {},
   "source": [
    "####  Northern Hemisphere - Humidity (%) vs. Latitude Linear Regression"
   ]
  },
  {
   "cell_type": "code",
   "execution_count": 20,
   "metadata": {},
   "outputs": [
    {
     "name": "stdout",
     "output_type": "stream",
     "text": [
      "The r-square is -0.040992918133985465\n",
      "y=-0.05x+67.31\n"
     ]
    },
    {
     "data": {
      "image/png": "[encoded data removed]",
      "text/plain": [
       "<Figure size 432x288 with 1 Axes>"
      ]
     },
     "metadata": {
      "needs_background": "light"
     },
     "output_type": "display_data"
    }
   ],
   "source": [
    "y_nHum = Northern[\"Humidity\"]\n",
    "plt.scatter(x_north, y_nHum)\n",
    "plt.title(f'NorthernLat vs Humidity {today}')\n",
    "linerarregress(x_north, y_nHum,0,10,'Humidity (%)')\n",
    "plt.savefig(f'../output_data/NorthernLat vs Humidity {today}.png')\n",
    "plt.show()"
   ]
  },
  {
   "cell_type": "markdown",
   "metadata": {},
   "source": [
    "This regression show that there is no real corrilation between humidity and Latitude in this Norther Hempishere dataset. This shows that there is most likly a different factor that affects humitity. I belevie that you would have to look more into the longitude as well and the location of where the city is located to large bodies of water.  hence costal cities are cities in swampy areas will have higher humidity than cities located in dry areas."
   ]
  },
  {
   "cell_type": "markdown",
   "metadata": {},
   "source": [
    "####  Southern Hemisphere - Humidity (%) vs. Latitude Linear Regression"
   ]
  },
  {
   "cell_type": "code",
   "execution_count": 21,
   "metadata": {},
   "outputs": [
    {
     "name": "stdout",
     "output_type": "stream",
     "text": [
      "The r-square is -0.1276698784214122\n",
      "y=-0.2x+64.78\n"
     ]
    },
    {
     "data": {
      "image/png": "[encoded data removed]",
      "text/plain": [
       "<Figure size 432x288 with 1 Axes>"
      ]
     },
     "metadata": {
      "needs_background": "light"
     },
     "output_type": "display_data"
    }
   ],
   "source": [
    "y_sHum=Southern[\"Humidity\"]\n",
    "plt.scatter(x_south,y_sHum)\n",
    "plt.title(f'SouthernLat vs Humidity {today}')\n",
    "linerarregress(x_south,y_sHum,-50,20,'Humidity (%)')\n",
    "plt.savefig(f'../output_data/SouthernLat vs Humidity {today}.png')\n",
    "plt.show()\n"
   ]
  },
  {
   "cell_type": "markdown",
   "metadata": {},
   "source": [
    "This regression show that there is a slightly stronger corrilation between humidity and Latitude in the Southern Hemishere dataset. This could be due to where the cities that are being called are located.  It could also be due to the fact that there are less datapoint in the Southern Hemisphere data than the Norther Hemisphere data."
   ]
  },
  {
   "cell_type": "markdown",
   "metadata": {},
   "source": [
    "####  Northern Hemisphere - Cloudiness (%) vs. Latitude Linear Regression"
   ]
  },
  {
   "cell_type": "code",
   "execution_count": 22,
   "metadata": {
    "scrolled": true
   },
   "outputs": [
    {
     "name": "stdout",
     "output_type": "stream",
     "text": [
      "The r-square is -0.026970086895122165\n",
      "y=-0.05x+54.38\n"
     ]
    },
    {
     "data": {
      "image/png": "[encoded data removed]",
      "text/plain": [
       "<Figure size 432x288 with 1 Axes>"
      ]
     },
     "metadata": {
      "needs_background": "light"
     },
     "output_type": "display_data"
    }
   ],
   "source": [
    "y_nClo = Northern[\"Cloudiness\"]\n",
    "plt.scatter(x_north,y_nClo)\n",
    "plt.title(f'NorthernLat vs Cloudiness {today}')\n",
    "linerarregress(x_north,y_nClo,5,60,\"Cloudiness (%)\")\n",
    "plt.savefig(f'../output_data/NorthernLat vs Cloudiness {today}.png')\n",
    "plt.show()\n"
   ]
  },
  {
   "cell_type": "markdown",
   "metadata": {},
   "source": [
    "The regression of Northern Hemisphere cities vs Cloudiness has a weak corrilation.   The data is all over the place and the line of regression is almost flat."
   ]
  },
  {
   "cell_type": "markdown",
   "metadata": {},
   "source": [
    "####  Southern Hemisphere - Cloudiness (%) vs. Latitude Linear Regression"
   ]
  },
  {
   "cell_type": "code",
   "execution_count": 23,
   "metadata": {},
   "outputs": [
    {
     "name": "stdout",
     "output_type": "stream",
     "text": [
      "The r-square is -0.07653999487425411\n",
      "y=-0.22x+42.33\n"
     ]
    },
    {
     "data": {
      "image/png": "[encoded data removed]",
      "text/plain": [
       "<Figure size 432x288 with 1 Axes>"
      ]
     },
     "metadata": {
      "needs_background": "light"
     },
     "output_type": "display_data"
    }
   ],
   "source": [
    "y_sClo = Southern[\"Cloudiness\"]\n",
    "plt.scatter(x_south,y_sClo)\n",
    "plt.title(f'SouthernLat vs Cloudiness {today}')\n",
    "linerarregress(x_south,y_sClo,-55,60,\"Cloudiness (%)\")\n",
    "plt.savefig(f'../output_data/SouthernLat vs Cloudiness {today}.png')\n",
    "plt.show()\n"
   ]
  },
  {
   "cell_type": "markdown",
   "metadata": {},
   "source": [
    "The Southern Hemisphere cities vs Cloudiness has a slightly stronger corrilation, but is still weak.\n",
    "It could also be due to the fact that there are less datapoint in the Southern Hemisphere data than the Norther Hemisphere data."
   ]
  },
  {
   "cell_type": "markdown",
   "metadata": {},
   "source": [
    "####  Northern Hemisphere - Wind Speed (mph) vs. Latitude Linear Regression"
   ]
  },
  {
   "cell_type": "code",
   "execution_count": 24,
   "metadata": {},
   "outputs": [
    {
     "name": "stdout",
     "output_type": "stream",
     "text": [
      "The r-square is 0.054732700781437646\n",
      "y=0.01x+7.45\n"
     ]
    },
    {
     "data": {
      "image/png": "[encoded data removed]",
      "text/plain": [
       "<Figure size 432x288 with 1 Axes>"
      ]
     },
     "metadata": {
      "needs_background": "light"
     },
     "output_type": "display_data"
    }
   ],
   "source": [
    "y_nWind= Northern[\"Windspeed\"]\n",
    "plt.scatter(x_north, y_nWind)\n",
    "plt.title(f'NorthernLat vs Wind Speed {today}')\n",
    "linerarregress(x_north, y_nWind,0,25, \"Wind Speed (mph)\")\n",
    "plt.savefig(f'../output_data/NorthernLat vs WindSpeed {today}.png')\n",
    "plt.show()"
   ]
  },
  {
   "cell_type": "markdown",
   "metadata": {},
   "source": [
    "The regression of Northern Hemisphere cities vs WindSpeed has a weak corrilation.   The data is all over the place and the line of regression is almost flat.  You could look at the complete coordinete set and compare where the cities are located vs where the path of jet streams are located to see if that has a high effect on the wind speeds of the cities"
   ]
  },
  {
   "cell_type": "markdown",
   "metadata": {},
   "source": [
    "####  Southern Hemisphere - Wind Speed (mph) vs. Latitude Linear Regression"
   ]
  },
  {
   "cell_type": "code",
   "execution_count": 25,
   "metadata": {},
   "outputs": [
    {
     "name": "stdout",
     "output_type": "stream",
     "text": [
      "The r-square is 0.04333995107502944\n",
      "y=0.02x+8.32\n"
     ]
    },
    {
     "data": {
      "image/png": "[encoded data removed]",
      "text/plain": [
       "<Figure size 432x288 with 1 Axes>"
      ]
     },
     "metadata": {
      "needs_background": "light"
     },
     "output_type": "display_data"
    }
   ],
   "source": [
    "y_sWind = Southern[\"Windspeed\"]\n",
    "plt.scatter(x_south, y_sWind)\n",
    "plt.title(f'SouthernLat vs Wind Speed {today}')\n",
    "linerarregress(x_south, y_sWind,-55,15,\"Wind Speed (mph)\")\n",
    "plt.savefig(f'../output_data/SouthernLat vs Windspeed {today}.png')\n",
    "plt.show()"
   ]
  },
  {
   "cell_type": "markdown",
   "metadata": {},
   "source": [
    "\n",
    "The Southern Hemisphere cities vs Cloudiness has a slightly stronger corrilation, but is still weak.\n",
    "It could also be due to the fact that there are less datapoint in the Southern Hemisphere data than the Norther Hemisphere data."
   ]
  }
 ],
 "metadata": {
  "anaconda-cloud": {},
  "kernel_info": {
   "name": "python3"
  },
  "kernelspec": {
   "display_name": "Python 3",
   "language": "python",
   "name": "python3"
  },
  "language_info": {
   "codemirror_mode": {
    "name": "ipython",
    "version": 3
   },
   "file_extension": ".py",
   "mimetype": "text/x-python",
   "name": "python",
   "nbconvert_exporter": "python",
   "pygments_lexer": "ipython3",
   "version": "3.7.6"
  },
  "latex_envs": {
   "LaTeX_envs_menu_present": true,
   "autoclose": false,
   "autocomplete": true,
   "bibliofile": "biblio.bib",
   "cite_by": "apalike",
   "current_citInitial": 1,
   "eqLabelWithNumbers": true,
   "eqNumInitial": 1,
   "hotkeys": {
    "equation": "Ctrl-E",
    "itemize": "Ctrl-I"
   },
   "labels_anchors": false,
   "latex_user_defs": false,
   "report_style_numbering": false,
   "user_envs_cfg": false
  },
  "nteract": {
   "version": "0.12.3"
  }
 },
 "nbformat": 4,
 "nbformat_minor": 2
}
